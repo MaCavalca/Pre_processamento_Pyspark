{
  "cells": [
    {
      "cell_type": "markdown",
      "metadata": {
        "id": "view-in-github",
        "colab_type": "text"
      },
      "source": [
        "<a href=\"https://colab.research.google.com/github/MaCavalca/Pre_processamento_Pyspark/blob/main/pre_process_pyspark.ipynb\" target=\"_parent\"><img src=\"https://colab.research.google.com/assets/colab-badge.svg\" alt=\"Open In Colab\"/></a>"
      ]
    },
    {
      "cell_type": "markdown",
      "metadata": {
        "id": "KS-ThTKPB-n-"
      },
      "source": [
        "#Pré-processamento de dados usando"
      ]
    },
    {
      "cell_type": "markdown",
      "source": [
        "![loguinho.png](data:image/png;base64,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)"
      ],
      "metadata": {
        "id": "wzZoo26OmXCz"
      }
    },
    {
      "cell_type": "markdown",
      "source": [
        "O PySpark é uma estrutura de processamento de dados de código aberto construída sobre o Apache Spark, projetada para processamento de big data, sendo que:\n",
        "\n",
        "- Suporta computação distribuída, processamento de dados em memória, tolerância a falhas e escalabilidade, e vem com bibliotecas para processamento de dados, como Spark SQL, Spark Streaming, MLlib e GraphX. \n",
        "\n",
        "- Consegue lidar com grandes conjuntos de dados em vários formatos e é adequado para processamento de dados em lote e em tempo real, tornando-o amplamente utilizado nos setores de finanças, saúde, varejo e comércio eletrônico para várias tarefas. \n",
        "\n",
        "- Sua facilidade de uso e escalabilidade o tornam uma escolha popular entre cientistas e engenheiros de dados que trabalham em projetos de big data.\n",
        "\n"
      ],
      "metadata": {
        "id": "tmhKapxIhyqV"
      }
    },
    {
      "cell_type": "markdown",
      "source": [
        "### Construção de uma tabela única\n",
        "\n"
      ],
      "metadata": {
        "id": "NNdUHtqmq9SY"
      }
    },
    {
      "cell_type": "markdown",
      "metadata": {
        "id": "qN65tdtTCfvv"
      },
      "source": [
        "  Inicialmente temos 3 arquivos de diferentes tipos (.csv, .parquet e .json) com dados cadastrais de pessoas físicas. Como esses dados vieram de bancos de dados diferentes, provavelmente, possuem algumas diferenças entre si.\n",
        "\n",
        "  Para fazer as transformações necessárias nesses dados de diferentes formatos utilizaremos DataFrame API pyspark.\n",
        "\n",
        "  Criaremos um script no Spark que vai ler os 3 arquivos, aplicar várias transformações para manter integridade nos dados, e no final apresentará as\n",
        "colunas em comum dos 3 arquivos contendo todos os cadastro íntegros e tratados.\n",
        "\n",
        "  Cuidados a serem observados:\n",
        "\n",
        "- Atenção com a tipagem das colunas.\n",
        "- Atenção com padronização do domínio de cada campo.\n",
        "- Em caso de cpfs repetidos entre as tabelas, trazer o cadastro mais recente para a tabela final. \n"
      ]
    },
    {
      "cell_type": "markdown",
      "metadata": {
        "id": "XEdX-fa9Gv6m"
      },
      "source": [
        "###Instalando o pyspark"
      ]
    },
    {
      "cell_type": "code",
      "execution_count": 1,
      "metadata": {
        "colab": {
          "base_uri": "https://localhost:8080/"
        },
        "id": "KUZoFqG-BuNh",
        "outputId": "631ee8cf-a6b1-489e-fd79-4ef418a1619d"
      },
      "outputs": [
        {
          "output_type": "stream",
          "name": "stdout",
          "text": [
            "Looking in indexes: https://pypi.org/simple, https://us-python.pkg.dev/colab-wheels/public/simple/\n",
            "Collecting pyspark\n",
            "  Downloading pyspark-3.4.0.tar.gz (310.8 MB)\n",
            "\u001b[2K     \u001b[90m━━━━━━━━━━━━━━━━━━━━━━━━━━━━━━━━━━━━━━━\u001b[0m \u001b[32m310.8/310.8 MB\u001b[0m \u001b[31m4.4 MB/s\u001b[0m eta \u001b[36m0:00:00\u001b[0m\n",
            "\u001b[?25h  Preparing metadata (setup.py) ... \u001b[?25l\u001b[?25hdone\n",
            "Requirement already satisfied: py4j==0.10.9.7 in /usr/local/lib/python3.10/dist-packages (from pyspark) (0.10.9.7)\n",
            "Building wheels for collected packages: pyspark\n",
            "  Building wheel for pyspark (setup.py) ... \u001b[?25l\u001b[?25hdone\n",
            "  Created wheel for pyspark: filename=pyspark-3.4.0-py2.py3-none-any.whl size=311317145 sha256=242eeb3ebd9e296933717692d37408bd56b6b74592469c931c3c49605009a0ec\n",
            "  Stored in directory: /root/.cache/pip/wheels/7b/1b/4b/3363a1d04368e7ff0d408e57ff57966fcdf00583774e761327\n",
            "Successfully built pyspark\n",
            "Installing collected packages: pyspark\n",
            "Successfully installed pyspark-3.4.0\n"
          ]
        }
      ],
      "source": [
        "!pip install pyspark"
      ]
    },
    {
      "cell_type": "markdown",
      "metadata": {
        "id": "7ZE3yHwRHd8l"
      },
      "source": [
        "###Mapeando o Google Drive para possibilitar o acesso aos arquivos de leitura"
      ]
    },
    {
      "cell_type": "code",
      "execution_count": 2,
      "metadata": {
        "colab": {
          "base_uri": "https://localhost:8080/"
        },
        "id": "KHeOmIiGFun-",
        "outputId": "2b30dcfe-25ec-407a-9a47-66087943c8d5"
      },
      "outputs": [
        {
          "output_type": "stream",
          "name": "stdout",
          "text": [
            "Mounted at /content/gdrive\n"
          ]
        }
      ],
      "source": [
        "from google.colab import drive\n",
        "drive.mount('/content/gdrive')"
      ]
    },
    {
      "cell_type": "markdown",
      "source": [
        "###Etapas obrigatórias no pré-processamento de dados com Spark"
      ],
      "metadata": {
        "id": "OZuXD1urrpNQ"
      }
    },
    {
      "cell_type": "markdown",
      "metadata": {
        "id": "FlZdu4obHpgP"
      },
      "source": [
        "Etapa 1: Importar a SparkSession para iniciar a sessão PySpark"
      ]
    },
    {
      "cell_type": "code",
      "execution_count": 3,
      "metadata": {
        "id": "sKeVLQP0E7e7"
      },
      "outputs": [],
      "source": [
        "from pyspark.sql import SparkSession"
      ]
    },
    {
      "cell_type": "markdown",
      "source": [
        "Etapa 2: Utilizar a função getOrCreate() para criar a sessão do Apache Spark"
      ],
      "metadata": {
        "id": "P7Il5plWsf4N"
      }
    },
    {
      "cell_type": "code",
      "source": [
        "spark = SparkSession \\\n",
        "    .builder \\\n",
        "    .appName(\"Pré-processamento de dados com Spark!\") \\\n",
        "    .config('spark.ui.port', '4050') \\\n",
        "    .getOrCreate()"
      ],
      "metadata": {
        "id": "mYgN0MK5saLQ"
      },
      "execution_count": 4,
      "outputs": []
    },
    {
      "cell_type": "markdown",
      "metadata": {
        "id": "CsDAdteFH2ev"
      },
      "source": [
        "Etapa 3: Verificar se o objeto spark contém em um formato graphical"
      ]
    },
    {
      "cell_type": "code",
      "execution_count": 5,
      "metadata": {
        "colab": {
          "base_uri": "https://localhost:8080/",
          "height": 219
        },
        "id": "1uerxcSHGZue",
        "outputId": "15d7d66c-6b4a-4a85-9f02-56794e5bf7cb"
      },
      "outputs": [
        {
          "output_type": "execute_result",
          "data": {
            "text/plain": [
              "<pyspark.sql.session.SparkSession at 0x7f4db05868f0>"
            ],
            "text/html": [
              "\n",
              "            <div>\n",
              "                <p><b>SparkSession - in-memory</b></p>\n",
              "                \n",
              "        <div>\n",
              "            <p><b>SparkContext</b></p>\n",
              "\n",
              "            <p><a href=\"http://174b5b6bb646:4050\">Spark UI</a></p>\n",
              "\n",
              "            <dl>\n",
              "              <dt>Version</dt>\n",
              "                <dd><code>v3.4.0</code></dd>\n",
              "              <dt>Master</dt>\n",
              "                <dd><code>local[*]</code></dd>\n",
              "              <dt>AppName</dt>\n",
              "                <dd><code>Pré-processamento de dados com Spark!</code></dd>\n",
              "            </dl>\n",
              "        </div>\n",
              "        \n",
              "            </div>\n",
              "        "
            ]
          },
          "metadata": {},
          "execution_count": 5
        }
      ],
      "source": [
        "spark"
      ]
    },
    {
      "cell_type": "markdown",
      "metadata": {
        "id": "e44g6GKgH8rZ"
      },
      "source": [
        "###Lendo os 3 arquivos de diferentes formatos"
      ]
    },
    {
      "cell_type": "code",
      "execution_count": 6,
      "metadata": {
        "id": "PbUqJG4TGcuJ"
      },
      "outputs": [],
      "source": [
        "df_csv = spark.read.csv(\"dados_cadastro_2.csv\", sep=\"|\", header=True)\n",
        "\n",
        "df_parque = spark.read.parquet(\"dados_cadastro_1.parquet\")\n",
        "\n",
        "df_json = spark.read.json(\"dados_cadastro_3.json\")\n"
      ]
    },
    {
      "cell_type": "markdown",
      "metadata": {
        "id": "IUrgbP-ZL_hI"
      },
      "source": [
        "### Apresentando os dados dos arquivos e seus tipos"
      ]
    },
    {
      "cell_type": "code",
      "execution_count": 7,
      "metadata": {
        "colab": {
          "base_uri": "https://localhost:8080/"
        },
        "id": "U8NN-rRAL8IZ",
        "outputId": "8dc24512-c638-47b8-b4ac-65495f07ff88"
      },
      "outputs": [
        {
          "output_type": "stream",
          "name": "stdout",
          "text": [
            "+-----------+----------------------+---------------+----+--------+--------------------------+------+-----------------------------+--------------------+------+-------------------+-------------+\n",
            "|cpf        |nome                  |data_nascimento|sexo|convenio|logradouro                |numero|bairro                       |cidade              |estado|data_cadastro      |pais_cadastro|\n",
            "+-----------+----------------------+---------------+----+--------+--------------------------+------+-----------------------------+--------------------+------+-------------------+-------------+\n",
            "|03687145271|Maria Cecília Duarte  |02/11/1989     |Fem |AMIL    |Jardim Rodrigues          |335.0 |São Geraldo                  |Gonçalves           |CE    |1970-07-28 10:05:02|Br           |\n",
            "|40791586375|Maria Cecília Alves   |10/05/1980     |Fem |AMIL    |Viela de Ribeiro          |651.0 |Goiania                      |Rezende da Praia    |AP    |1992-03-12 07:10:16|Br           |\n",
            "|52983647056|Laura Cardoso         |02/09/1997     |Fem |AMIL    |Pátio Brenda Ribeiro      |64.0  |Acaiaca                      |Campos Grande       |PR    |1977-01-03 07:55:38|Br           |\n",
            "|81267390530|Sophia Melo           |24/04/2018     |Fem |AMIL    |Lagoa Kevin das Neves     |846.0 |Conjunto Celso Machado       |Fernandes           |RO    |1981-03-05 15:27:34|Br           |\n",
            "|07935684200|Melissa da Costa      |28/05/1988     |Fem |AMIL    |Pátio de Ribeiro          |385.0 |Pousada Santo Antonio        |da Mata             |MG    |2011-10-08 20:37:40|Br           |\n",
            "|08526941720|Srta. Isabella Almeida|22/12/1996     |Fem |AMIL    |Chácara Santos            |928.0 |Alto Barroca                 |Aragão de Porto     |PE    |1980-08-16 19:01:44|Br           |\n",
            "|08145326915|Dra. Beatriz das Neves|23/08/1989     |Fem |AMIL    |Feira João Gabriel Azevedo|104.0 |Ventosa                      |Martins             |MS    |1987-02-04 00:03:35|Br           |\n",
            "|95120348750|Sabrina Cunha         |24/08/1988     |Fem |AMIL    |Chácara Farias            |358.0 |Vila Nossa Senhora Do Rosário|Jesus de Minas      |PR    |1983-09-07 00:04:53|Br           |\n",
            "|36420815762|Isis Alves            |21/10/1994     |Fem |AMIL    |Colônia Alves             |922.0 |Granja Werneck               |Fernandes de Cardoso|RR    |1991-04-30 16:12:41|Br           |\n",
            "|36958470184|Igor Alves            |16/06/2019     |Masc|AMIL    |Viela Nicolas Aragão      |810.0 |Conjunto Santa Maria         |Freitas             |PB    |2005-03-20 13:34:21|Br           |\n",
            "|79310584610|Gustavo Moreira       |28/12/1991     |Masc|AMIL    |Alameda Fernanda Castro   |850.0 |São Jorge 3ª Seção           |Araújo              |PA    |1978-06-09 10:38:03|Br           |\n",
            "|76024953143|João Lucas Souza      |08/07/1983     |Masc|AMIL    |Estrada Pinto             |591.0 |Vista Do Sol                 |Nogueira            |SP    |1979-09-02 20:50:49|Br           |\n",
            "|31607259877|Mariane Cardoso       |24/06/1999     |Fem |AMIL    |Parque Santos             |52.0  |Vila Rica                    |da Paz              |PI    |2021-01-18 11:45:41|Br           |\n",
            "|82751403662|Srta. Júlia Pinto     |21/11/1997     |Fem |AMIL    |Vereda Campos             |905.0 |Lagoinha Leblon              |da Cunha            |MT    |2003-07-13 15:06:14|Br           |\n",
            "|40358761271|Srta. Lorena Souza    |24/10/2019     |Fem |AMIL    |Condomínio Ribeiro        |630.0 |Vista Alegre                 |Rezende da Prata    |AC    |2022-09-07 01:14:30|Br           |\n",
            "|70952184630|Igor Carvalho         |13/08/2021     |Masc|AMIL    |Viela de Azevedo          |887.0 |Piraja                       |da Rocha do Sul     |PE    |1986-11-14 11:36:06|Br           |\n",
            "|78239145655|Enzo Gabriel Campos   |30/05/2003     |Masc|AMIL    |Aeroporto de Farias       |849.0 |Bacurau                      |da Paz              |TO    |1996-06-04 19:29:23|Br           |\n",
            "|90846571285|Raul Cardoso          |23/09/2019     |Masc|AMIL    |Esplanada de Viana        |923.0 |Vila Formosa                 |Mendes              |MG    |1975-11-08 15:09:27|Br           |\n",
            "|84576031244|Sra. Clarice Rodrigues|31/12/2014     |Fem |AMIL    |Residencial de Fernandes  |769.0 |Garças                       |Moura               |SP    |2013-03-18 20:54:27|Br           |\n",
            "|34650981298|Heitor Caldeira       |22/09/1978     |Masc|AMIL    |Fazenda de Ferreira       |724.0 |Vila Ipiranga                |Lopes de da Mota    |MG    |1973-10-04 18:43:43|Br           |\n",
            "+-----------+----------------------+---------------+----+--------+--------------------------+------+-----------------------------+--------------------+------+-------------------+-------------+\n",
            "only showing top 20 rows\n",
            "\n"
          ]
        }
      ],
      "source": [
        "df_csv.show(truncate=False)"
      ]
    },
    {
      "cell_type": "code",
      "execution_count": 8,
      "metadata": {
        "colab": {
          "base_uri": "https://localhost:8080/"
        },
        "id": "wjylOEs4UpcK",
        "outputId": "9d1e1d1b-9443-469d-e4f9-a707adf74de3"
      },
      "outputs": [
        {
          "output_type": "stream",
          "name": "stdout",
          "text": [
            "root\n",
            " |-- cpf: string (nullable = true)\n",
            " |-- nome: string (nullable = true)\n",
            " |-- data_nascimento: string (nullable = true)\n",
            " |-- sexo: string (nullable = true)\n",
            " |-- convenio: string (nullable = true)\n",
            " |-- logradouro: string (nullable = true)\n",
            " |-- numero: string (nullable = true)\n",
            " |-- bairro: string (nullable = true)\n",
            " |-- cidade: string (nullable = true)\n",
            " |-- estado: string (nullable = true)\n",
            " |-- data_cadastro: string (nullable = true)\n",
            " |-- pais_cadastro: string (nullable = true)\n",
            "\n"
          ]
        }
      ],
      "source": [
        "df_csv.printSchema()"
      ]
    },
    {
      "cell_type": "code",
      "execution_count": 9,
      "metadata": {
        "colab": {
          "base_uri": "https://localhost:8080/"
        },
        "id": "OrhB3kUXJlJe",
        "outputId": "41d00d4a-e5c3-4492-c898-0c575e7d0f43"
      },
      "outputs": [
        {
          "output_type": "stream",
          "name": "stdout",
          "text": [
            "+--------------+------------------------+---------------+----+------------+------------------------+------+-----------------------+---------------------+------+-------------------+---+-----------------+\n",
            "|documento_cpf |nome_completo           |data_nascimento|sexo|convenio    |logradouro              |numero|bairro                 |cidade               |pais  |data_cadastro      |uf |__index_level_0__|\n",
            "+--------------+------------------------+---------------+----+------------+------------------------+------+-----------------------+---------------------+------+-------------------+---+-----------------+\n",
            "|390.628.415-89|Caroline Rocha          |1982-02-28     |Fem |GoodHealth  |Trevo Santos            |773   |Vila Antena            |Cardoso              |Brasil|1979-10-19T08:09:16|AC |207979           |\n",
            "|360.847.952-00|Dr. Luiz Otávio Monteiro|2020-09-04     |Masc|Porto Seguro|Trevo Mariana Alves     |184   |Marmiteiros            |Gonçalves            |Brasil|2012-01-22T00:21:53|AC |518164           |\n",
            "|415.932.076-70|Srta. Emanuelly Caldeira|2011-10-28     |Fem |Prata       |Residencial Mendes      |449   |Vila Puc               |Pinto                |Brasil|2022-03-16T08:37:34|AC |532404           |\n",
            "|024.653.789-29|Fernanda Dias           |1995-01-21     |Fem |Sulamerica  |Alameda de Carvalho     |912   |Santo André            |da Mata Verde        |Brasil|1971-03-29T13:31:18|AC |372357           |\n",
            "|135.987.460-75|Cauã Pires              |2020-09-03     |Masc|SaudeMais   |Fazenda de Nunes        |002   |Alto Caiçaras          |Azevedo              |Brasil|2020-01-04T12:02:59|AC |357298           |\n",
            "|791.238.560-68|Danilo da Costa         |2003-06-16     |Masc|SaudeMais   |Vereda Campos           |407   |Boa Esperança          |Ferreira             |Brasil|2006-09-20T19:06:37|AC |250563           |\n",
            "|896.075.213-40|Gabriela Novaes         |1986-09-22     |Fem |Porto Seguro|Passarela Heitor da Cruz|800   |Paraíso                |Mendes do Sul        |Brasil|1987-12-31T20:48:24|AC |488531           |\n",
            "|751.386.029-77|Ana Beatriz Porto       |1986-09-22     |Fem |Itau        |Pátio Davi Lucas Nunes  |686   |Europa                 |Monteiro             |Brasil|2006-04-17T19:43:05|AC |584494           |\n",
            "|145.763.820-71|Rodrigo Martins         |1981-04-24     |Masc|Prata       |Recanto Vieira          |223   |Vila Antena            |Rocha                |Brasil|2013-04-06T03:19:28|AC |631855           |\n",
            "|417.298.365-00|Davi Cunha              |1995-01-22     |Masc|SUS         |Residencial de da Cunha |847   |Beija Flor             |Gomes do Campo       |Brasil|1972-11-15T17:44:20|AC |671927           |\n",
            "|867.053.241-71|Nicolas Melo            |1971-10-04     |Masc|Porto Seguro|Vila de Duarte          |416   |Santa Inês             |Farias               |Brasil|1973-11-06T03:21:29|AC |4239             |\n",
            "|561.943.207-61|Henrique Nunes          |1989-04-25     |Masc|Bradesco    |Vereda de Duarte        |275   |Penha                  |Caldeira dos Dourados|Brasil|1978-12-03T04:51:57|AC |445636           |\n",
            "|910.452.837-97|Cecília da Rocha        |1981-04-24     |Fem |AMIL        |Vale de Pinto           |666   |Beira Linha            |da Cunha Alegre      |Brasil|1998-05-12T12:57:39|AC |473988           |\n",
            "|976.403.285-00|Cauê Oliveira           |2017-10-24     |Masc|Gold        |Sítio Fernando Barros   |496   |Braúnas                |Rocha                |Brasil|2021-05-12T15:59:55|AC |252309           |\n",
            "|103.684.725-07|Ana Luiza Rocha         |1998-10-25     |Fem |Bradesco    |Morro Cecília Nunes     |209   |Oeste                  |Oliveira das Flores  |Brasil|2017-12-06T23:47:02|AC |430773           |\n",
            "|039.741.856-66|Heitor Costela          |2017-10-24     |Masc|Sulamerica  |Residencial de Santos   |200   |Vila Satélite          |Almeida da Mata      |Brasil|1970-07-23T14:14:26|AC |196057           |\n",
            "|635.172.049-43|Sr. Lucas Gabriel Fogaça|2020-09-02     |Masc|SUS         |Alameda Laís Peixoto    |583   |Jardim Dos Comerciarios|Monteiro             |Brasil|2022-04-20T06:17:00|AC |454619           |\n",
            "|431.056.827-08|Marcelo Costela         |1995-01-22     |Masc|Bradesco    |Via Sabrina Alves       |077   |Marçola                |Teixeira             |Brasil|1975-02-28T13:39:15|AC |487694           |\n",
            "|869.571.340-75|Maria Eduarda Martins   |2003-06-16     |Fem |Gold        |Avenida de Nunes        |170   |Santa Lúcia            |Teixeira da Mata     |Brasil|1970-01-15T19:26:01|AC |529885           |\n",
            "|489.376.512-46|Enrico Oliveira         |1986-09-22     |Masc|Bronze      |Alameda de Carvalho     |343   |Corumbiara             |Vieira do Campo      |Brasil|1999-03-06T19:10:35|AC |160247           |\n",
            "+--------------+------------------------+---------------+----+------------+------------------------+------+-----------------------+---------------------+------+-------------------+---+-----------------+\n",
            "only showing top 20 rows\n",
            "\n"
          ]
        }
      ],
      "source": [
        "df_parque.show(truncate=False)"
      ]
    },
    {
      "cell_type": "code",
      "source": [
        "df_parque.printSchema()"
      ],
      "metadata": {
        "colab": {
          "base_uri": "https://localhost:8080/"
        },
        "id": "ablCsDZGwTVo",
        "outputId": "31b21d98-c7c7-4625-d45f-2679f6a2e22e"
      },
      "execution_count": 10,
      "outputs": [
        {
          "output_type": "stream",
          "name": "stdout",
          "text": [
            "root\n",
            " |-- documento_cpf: string (nullable = true)\n",
            " |-- nome_completo: string (nullable = true)\n",
            " |-- data_nascimento: string (nullable = true)\n",
            " |-- sexo: string (nullable = true)\n",
            " |-- convenio: string (nullable = true)\n",
            " |-- logradouro: string (nullable = true)\n",
            " |-- numero: string (nullable = true)\n",
            " |-- bairro: string (nullable = true)\n",
            " |-- cidade: string (nullable = true)\n",
            " |-- pais: string (nullable = true)\n",
            " |-- data_cadastro: string (nullable = true)\n",
            " |-- uf: string (nullable = true)\n",
            " |-- __index_level_0__: long (nullable = true)\n",
            "\n"
          ]
        }
      ]
    },
    {
      "cell_type": "code",
      "execution_count": 11,
      "metadata": {
        "colab": {
          "base_uri": "https://localhost:8080/"
        },
        "id": "qEd8nPNwMi29",
        "outputId": "33b99ccb-697a-4f1a-a456-53b15d087c5e"
      },
      "outputs": [
        {
          "output_type": "stream",
          "name": "stdout",
          "text": [
            "+-----------------------------+-------------------+--------+--------------+-------------+------------------+------------------+-------------------------------+-----------------------+------+----+----+\n",
            "|bairro                       |cidade             |convenio|cpf           |data_cadastro|data_nascimento   |estado            |logradouro                     |nome                   |numero|pais|sexo|\n",
            "+-----------------------------+-------------------+--------+--------------+-------------+------------------+------------------+-------------------------------+-----------------------+------+----+----+\n",
            "|Vila Madre Gertrudes 3ª Seção|Ribeiro Grande     |AMIL    |573.691.208-21|817032248000 |August 26, 2017   |Amapá             |Largo de Viana                 |Ryan Santos            |886   |    |M   |\n",
            "|Havaí                        |Caldeira das Flores|AMIL    |520.936.741-06|1009317437000|January 30, 2023  |Mato Grosso do Sul|Rodovia Nina Alves             |Juliana Correia        |545   |    |F   |\n",
            "|Caiçaras                     |Barbosa            |AMIL    |012.698.435-24|511111127000 |January 06, 1979  |São Paulo         |Rua Peixoto                    |Juliana Rodrigues      |728   |    |F   |\n",
            "|São Jorge 3ª Seção           |Cavalcanti         |AMIL    |541.860.972-67|387761682000 |May 01, 2008      |Tocantins         |Setor Costa                    |Letícia Novaes         |794   |    |F   |\n",
            "|São Sebastião                |da Cruz            |AMIL    |532.409.678-47|682956806000 |September 17, 1981|Paraíba           |Vale Ana Sophia da Paz         |Evelyn Moura           |196   |    |F   |\n",
            "|Nova Pampulha                |Barros             |AMIL    |219.534.870-41|1222310576000|March 29, 1973    |Paraná            |Travessa Catarina Cardoso      |Mariana Barros         |963   |    |F   |\n",
            "|Vila Primeiro De Maio        |da Cunha de da Mota|AMIL    |582.973.160-68|733837342000 |August 13, 1987   |Rio de Janeiro    |Estação de Barbosa             |Sr. Danilo da Rosa     |789   |    |M   |\n",
            "|Miramar                      |Moraes de Freitas  |AMIL    |763.490.812-69|1636486360000|June 01, 2013     |Paraná            |Distrito Rebeca Cunha          |Carlos Eduardo Viana   |705   |    |M   |\n",
            "|Vila Aeroporto               |Almeida da Mata    |AMIL    |190.427.358-05|649774552000 |April 29, 1985    |Pernambuco        |Lagoa Sarah Cardoso            |Mariana Fogaça         |962   |    |F   |\n",
            "|Vila Inestan                 |Silveira do Norte  |AMIL    |358.124.970-79|1168663441000|June 20, 1992     |Paraná            |Avenida Benjamin da Cunha      |Luiz Henrique Lima     |209   |    |M   |\n",
            "|Boa União 1ª Seção           |das Neves          |AMIL    |651.293.784-82|75408605000  |December 03, 1974 |Paraíba           |Passarela Cavalcanti           |Eduarda Castro         |217   |    |F   |\n",
            "|Horto                        |Gomes da Prata     |AMIL    |938.457.201-23|1071034980000|October 15, 2006  |Rio de Janeiro    |Sítio Rafael da Luz            |Dr. Pedro Miguel Mendes|996   |    |M   |\n",
            "|Vila São Francisco           |da Cunha das Flores|AMIL    |892.651.730-68|1531962008000|March 21, 2009    |Mato Grosso do Sul|Aeroporto Ana Carolina da Costa|Marina Peixoto         |987   |    |F   |\n",
            "|Alto Vera Cruz               |Pereira do Sul     |AMIL    |193.548.670-57|341261472000 |April 14, 1986    |Rio Grande do Sul |Recanto Alves                  |Lucas Ferreira         |681   |    |M   |\n",
            "|Cardoso                      |Ramos              |AMIL    |150.249.637-25|112869456000 |October 04, 2017  |Rio Grande do Sul |Pátio Emanuel Porto            |Pedro Nascimento       |150   |    |M   |\n",
            "|Lindéia                      |Ferreira da Mata   |AMIL    |798.541.206-94|586782035000 |September 21, 1995|Mato Grosso       |Setor de da Conceição          |Giovanna Cardoso       |57    |    |F   |\n",
            "|Santo Agostinho              |Farias de Goiás    |AMIL    |758.306.914-93|29714204000  |September 09, 2007|Distrito Federal  |Vereda Danilo Costa            |Maitê Sales            |654   |    |F   |\n",
            "|Vila Santo Antônio           |da Paz             |AMIL    |935.687.142-64|1423170865000|September 11, 2022|Amapá             |Lagoa Joana Martins            |Sr. Juan Pires         |592   |    |M   |\n",
            "|Flamengo                     |Vieira             |AMIL    |764.058.391-84|685889544000 |January 19, 2010  |Alagoas           |Passarela Monteiro             |Kaique da Luz          |29    |    |M   |\n",
            "|Canadá                       |Rodrigues do Norte |AMIL    |341.276.580-53|1370438856000|August 27, 2010   |Paraná            |Feira Brenda Jesus             |Lucca Oliveira         |666   |    |M   |\n",
            "+-----------------------------+-------------------+--------+--------------+-------------+------------------+------------------+-------------------------------+-----------------------+------+----+----+\n",
            "only showing top 20 rows\n",
            "\n"
          ]
        }
      ],
      "source": [
        "df_json.show(truncate=False)"
      ]
    },
    {
      "cell_type": "code",
      "source": [
        "df_json.printSchema()"
      ],
      "metadata": {
        "colab": {
          "base_uri": "https://localhost:8080/"
        },
        "id": "FMhYYLzAwWe_",
        "outputId": "a9362910-41b1-4aa9-d150-ae9b5c225e8d"
      },
      "execution_count": 12,
      "outputs": [
        {
          "output_type": "stream",
          "name": "stdout",
          "text": [
            "root\n",
            " |-- bairro: string (nullable = true)\n",
            " |-- cidade: string (nullable = true)\n",
            " |-- convenio: string (nullable = true)\n",
            " |-- cpf: string (nullable = true)\n",
            " |-- data_cadastro: long (nullable = true)\n",
            " |-- data_nascimento: string (nullable = true)\n",
            " |-- estado: string (nullable = true)\n",
            " |-- logradouro: string (nullable = true)\n",
            " |-- nome: string (nullable = true)\n",
            " |-- numero: long (nullable = true)\n",
            " |-- pais: string (nullable = true)\n",
            " |-- sexo: string (nullable = true)\n",
            "\n"
          ]
        }
      ]
    },
    {
      "cell_type": "markdown",
      "source": [
        "- Analisando cada dataframe vemos várias inconsistências relacionadas tanto a formatação dos dados (por exemplo, a coluna 'cpf' possui dois formatos xxxxxxxxxxx e xxx.xxx.xxx-xx) quanto no tipo do dado (por exemplo, a coluna'data_cadastro' aparece como 'string' e 'long' mas não como date)\n",
        "\n",
        "- Os nomes e a ordem das colunas em cada dataframe também é diferente, sendo que, o dataframe df_parque apresenta uma coluna a mais '__index_level_0__'\n",
        "\n",
        "- Como iremos usar o 'cpf' para ser o nosso índice em todos os dataframes vamos começar com a sua padronização para xxxxxxxxxxx no df_parque e df_json."
      ],
      "metadata": {
        "id": "8TsN53fWxPfv"
      }
    },
    {
      "cell_type": "markdown",
      "source": [
        "###Importando as bibliotecas"
      ],
      "metadata": {
        "id": "-XdDCmif02ho"
      }
    },
    {
      "cell_type": "code",
      "execution_count": 13,
      "metadata": {
        "id": "wV0X9n2ok3DM"
      },
      "outputs": [],
      "source": [
        "from pyspark.sql.functions import *\n",
        "from pyspark.sql.types import *\n"
      ]
    },
    {
      "cell_type": "markdown",
      "source": [
        "### Formatação da coluna 'cpf' nos dataframes df_parque e df_json"
      ],
      "metadata": {
        "id": "ktsGKzp-1XTR"
      }
    },
    {
      "cell_type": "code",
      "execution_count": 14,
      "metadata": {
        "colab": {
          "base_uri": "https://localhost:8080/"
        },
        "id": "70FBQXgkLXXL",
        "outputId": "f45c7e15-f27c-4d3f-8982-d1e3088f5c0d"
      },
      "outputs": [
        {
          "output_type": "stream",
          "name": "stdout",
          "text": [
            "+-------------+--------------------+---------------+----+------------+--------------------+------+--------------------+--------------------+------+-------------------+---+-----------------+\n",
            "|documento_cpf|       nome_completo|data_nascimento|sexo|    convenio|          logradouro|numero|              bairro|              cidade|  pais|      data_cadastro| uf|__index_level_0__|\n",
            "+-------------+--------------------+---------------+----+------------+--------------------+------+--------------------+--------------------+------+-------------------+---+-----------------+\n",
            "|  39062841589|      Caroline Rocha|     1982-02-28| Fem|  GoodHealth|        Trevo Santos|   773|         Vila Antena|             Cardoso|Brasil|1979-10-19T08:09:16| AC|           207979|\n",
            "|  36084795200|Dr. Luiz Otávio M...|     2020-09-04|Masc|Porto Seguro| Trevo Mariana Alves|   184|         Marmiteiros|           Gonçalves|Brasil|2012-01-22T00:21:53| AC|           518164|\n",
            "|  41593207670|Srta. Emanuelly C...|     2011-10-28| Fem|       Prata|  Residencial Mendes|   449|            Vila Puc|               Pinto|Brasil|2022-03-16T08:37:34| AC|           532404|\n",
            "|  02465378929|       Fernanda Dias|     1995-01-21| Fem|  Sulamerica| Alameda de Carvalho|   912|         Santo André|       da Mata Verde|Brasil|1971-03-29T13:31:18| AC|           372357|\n",
            "|  13598746075|          Cauã Pires|     2020-09-03|Masc|   SaudeMais|    Fazenda de Nunes|   002|       Alto Caiçaras|             Azevedo|Brasil|2020-01-04T12:02:59| AC|           357298|\n",
            "|  79123856068|     Danilo da Costa|     2003-06-16|Masc|   SaudeMais|       Vereda Campos|   407|       Boa Esperança|            Ferreira|Brasil|2006-09-20T19:06:37| AC|           250563|\n",
            "|  89607521340|     Gabriela Novaes|     1986-09-22| Fem|Porto Seguro|Passarela Heitor ...|   800|             Paraíso|       Mendes do Sul|Brasil|1987-12-31T20:48:24| AC|           488531|\n",
            "|  75138602977|   Ana Beatriz Porto|     1986-09-22| Fem|        Itau|Pátio Davi Lucas ...|   686|              Europa|            Monteiro|Brasil|2006-04-17T19:43:05| AC|           584494|\n",
            "|  14576382071|     Rodrigo Martins|     1981-04-24|Masc|       Prata|      Recanto Vieira|   223|         Vila Antena|               Rocha|Brasil|2013-04-06T03:19:28| AC|           631855|\n",
            "|  41729836500|          Davi Cunha|     1995-01-22|Masc|         SUS|Residencial de da...|   847|          Beija Flor|      Gomes do Campo|Brasil|1972-11-15T17:44:20| AC|           671927|\n",
            "|  86705324171|        Nicolas Melo|     1971-10-04|Masc|Porto Seguro|      Vila de Duarte|   416|          Santa Inês|              Farias|Brasil|1973-11-06T03:21:29| AC|             4239|\n",
            "|  56194320761|      Henrique Nunes|     1989-04-25|Masc|    Bradesco|    Vereda de Duarte|   275|               Penha|Caldeira dos Dour...|Brasil|1978-12-03T04:51:57| AC|           445636|\n",
            "|  91045283797|    Cecília da Rocha|     1981-04-24| Fem|        AMIL|       Vale de Pinto|   666|         Beira Linha|     da Cunha Alegre|Brasil|1998-05-12T12:57:39| AC|           473988|\n",
            "|  97640328500|       Cauê Oliveira|     2017-10-24|Masc|        Gold|Sítio Fernando Ba...|   496|             Braúnas|               Rocha|Brasil|2021-05-12T15:59:55| AC|           252309|\n",
            "|  10368472507|     Ana Luiza Rocha|     1998-10-25| Fem|    Bradesco| Morro Cecília Nunes|   209|               Oeste| Oliveira das Flores|Brasil|2017-12-06T23:47:02| AC|           430773|\n",
            "|  03974185666|      Heitor Costela|     2017-10-24|Masc|  Sulamerica|Residencial de Sa...|   200|       Vila Satélite|     Almeida da Mata|Brasil|1970-07-23T14:14:26| AC|           196057|\n",
            "|  63517204943|Sr. Lucas Gabriel...|     2020-09-02|Masc|         SUS|Alameda Laís Peixoto|   583|Jardim Dos Comerc...|            Monteiro|Brasil|2022-04-20T06:17:00| AC|           454619|\n",
            "|  43105682708|     Marcelo Costela|     1995-01-22|Masc|    Bradesco|   Via Sabrina Alves|   077|             Marçola|            Teixeira|Brasil|1975-02-28T13:39:15| AC|           487694|\n",
            "|  86957134075|Maria Eduarda Mar...|     2003-06-16| Fem|        Gold|    Avenida de Nunes|   170|         Santa Lúcia|    Teixeira da Mata|Brasil|1970-01-15T19:26:01| AC|           529885|\n",
            "|  48937651246|     Enrico Oliveira|     1986-09-22|Masc|      Bronze| Alameda de Carvalho|   343|          Corumbiara|     Vieira do Campo|Brasil|1999-03-06T19:10:35| AC|           160247|\n",
            "+-------------+--------------------+---------------+----+------------+--------------------+------+--------------------+--------------------+------+-------------------+---+-----------------+\n",
            "only showing top 20 rows\n",
            "\n"
          ]
        }
      ],
      "source": [
        "df_parque = df_parque.withColumn('documento_cpf', regexp_replace('documento_cpf', '[^0-9]', ''))\n",
        "df_parque.show()"
      ]
    },
    {
      "cell_type": "code",
      "execution_count": 15,
      "metadata": {
        "colab": {
          "base_uri": "https://localhost:8080/"
        },
        "id": "W-WWFC7LOgcL",
        "outputId": "6ff347d3-a7ea-4d7e-d1d4-26f5275b94c7"
      },
      "outputs": [
        {
          "output_type": "stream",
          "name": "stdout",
          "text": [
            "+--------------------+-------------------+--------+-----------+-------------+------------------+------------------+--------------------+--------------------+------+----+----+\n",
            "|              bairro|             cidade|convenio|        cpf|data_cadastro|   data_nascimento|            estado|          logradouro|                nome|numero|pais|sexo|\n",
            "+--------------------+-------------------+--------+-----------+-------------+------------------+------------------+--------------------+--------------------+------+----+----+\n",
            "|Vila Madre Gertru...|     Ribeiro Grande|    AMIL|57369120821| 817032248000|   August 26, 2017|             Amapá|      Largo de Viana|         Ryan Santos|   886|    |   M|\n",
            "|               Havaí|Caldeira das Flores|    AMIL|52093674106|1009317437000|  January 30, 2023|Mato Grosso do Sul|  Rodovia Nina Alves|     Juliana Correia|   545|    |   F|\n",
            "|            Caiçaras|            Barbosa|    AMIL|01269843524| 511111127000|  January 06, 1979|         São Paulo|         Rua Peixoto|   Juliana Rodrigues|   728|    |   F|\n",
            "|  São Jorge 3ª Seção|         Cavalcanti|    AMIL|54186097267| 387761682000|      May 01, 2008|         Tocantins|         Setor Costa|      Letícia Novaes|   794|    |   F|\n",
            "|       São Sebastião|            da Cruz|    AMIL|53240967847| 682956806000|September 17, 1981|           Paraíba|Vale Ana Sophia d...|        Evelyn Moura|   196|    |   F|\n",
            "|       Nova Pampulha|             Barros|    AMIL|21953487041|1222310576000|    March 29, 1973|            Paraná|Travessa Catarina...|      Mariana Barros|   963|    |   F|\n",
            "|Vila Primeiro De ...|da Cunha de da Mota|    AMIL|58297316068| 733837342000|   August 13, 1987|    Rio de Janeiro|  Estação de Barbosa|  Sr. Danilo da Rosa|   789|    |   M|\n",
            "|             Miramar|  Moraes de Freitas|    AMIL|76349081269|1636486360000|     June 01, 2013|            Paraná|Distrito Rebeca C...|Carlos Eduardo Viana|   705|    |   M|\n",
            "|      Vila Aeroporto|    Almeida da Mata|    AMIL|19042735805| 649774552000|    April 29, 1985|        Pernambuco| Lagoa Sarah Cardoso|      Mariana Fogaça|   962|    |   F|\n",
            "|        Vila Inestan|  Silveira do Norte|    AMIL|35812497079|1168663441000|     June 20, 1992|            Paraná|Avenida Benjamin ...|  Luiz Henrique Lima|   209|    |   M|\n",
            "|  Boa União 1ª Seção|          das Neves|    AMIL|65129378482|  75408605000| December 03, 1974|           Paraíba|Passarela Cavalcanti|      Eduarda Castro|   217|    |   F|\n",
            "|               Horto|     Gomes da Prata|    AMIL|93845720123|1071034980000|  October 15, 2006|    Rio de Janeiro| Sítio Rafael da Luz|Dr. Pedro Miguel ...|   996|    |   M|\n",
            "|  Vila São Francisco|da Cunha das Flores|    AMIL|89265173068|1531962008000|    March 21, 2009|Mato Grosso do Sul|Aeroporto Ana Car...|      Marina Peixoto|   987|    |   F|\n",
            "|      Alto Vera Cruz|     Pereira do Sul|    AMIL|19354867057| 341261472000|    April 14, 1986| Rio Grande do Sul|       Recanto Alves|      Lucas Ferreira|   681|    |   M|\n",
            "|             Cardoso|              Ramos|    AMIL|15024963725| 112869456000|  October 04, 2017| Rio Grande do Sul| Pátio Emanuel Porto|    Pedro Nascimento|   150|    |   M|\n",
            "|             Lindéia|   Ferreira da Mata|    AMIL|79854120694| 586782035000|September 21, 1995|       Mato Grosso|Setor de da Conce...|    Giovanna Cardoso|    57|    |   F|\n",
            "|     Santo Agostinho|    Farias de Goiás|    AMIL|75830691493|  29714204000|September 09, 2007|  Distrito Federal| Vereda Danilo Costa|         Maitê Sales|   654|    |   F|\n",
            "|  Vila Santo Antônio|             da Paz|    AMIL|93568714264|1423170865000|September 11, 2022|             Amapá| Lagoa Joana Martins|      Sr. Juan Pires|   592|    |   M|\n",
            "|            Flamengo|             Vieira|    AMIL|76405839184| 685889544000|  January 19, 2010|           Alagoas|  Passarela Monteiro|       Kaique da Luz|    29|    |   M|\n",
            "|              Canadá| Rodrigues do Norte|    AMIL|34127658053|1370438856000|   August 27, 2010|            Paraná|  Feira Brenda Jesus|      Lucca Oliveira|   666|    |   M|\n",
            "+--------------------+-------------------+--------+-----------+-------------+------------------+------------------+--------------------+--------------------+------+----+----+\n",
            "only showing top 20 rows\n",
            "\n"
          ]
        }
      ],
      "source": [
        "df_json = df_json.withColumn('cpf', regexp_replace('cpf', '[^0-9]', ''))\n",
        "df_json.show()"
      ]
    },
    {
      "cell_type": "markdown",
      "metadata": {
        "id": "1lBvr6PMrnGC"
      },
      "source": [
        "###Renomeando as Colunas nos dataframes\n",
        "\n",
        "Para trabalharmos com todo o conjunto de dados de maneira consistente vamos padronizar a ordem e os nomes das colunas nos dataframes df_csv, df_parque e df_json para:\n",
        "\n",
        " ['cpf',\n",
        " 'nome_completo',\n",
        " 'data_nascimento',\n",
        " 'sexo',\n",
        " 'convenio',\n",
        " 'logradouro',\n",
        " 'numero',\n",
        " 'bairro',\n",
        " 'cidade',\n",
        " 'estado',\n",
        " 'timestamp',\n",
        " 'pais']\n",
        "\n",
        " A coluna data_cadastro foi renomeada para timestamp que é o que ela representa."
      ]
    },
    {
      "cell_type": "code",
      "execution_count": 16,
      "metadata": {
        "colab": {
          "base_uri": "https://localhost:8080/"
        },
        "id": "3L2grGpPs4di",
        "outputId": "fef2d4ee-b812-423f-de5a-a2c32bdbf009"
      },
      "outputs": [
        {
          "output_type": "execute_result",
          "data": {
            "text/plain": [
              "['cpf',\n",
              " 'nome',\n",
              " 'data_nascimento',\n",
              " 'sexo',\n",
              " 'convenio',\n",
              " 'logradouro',\n",
              " 'numero',\n",
              " 'bairro',\n",
              " 'cidade',\n",
              " 'estado',\n",
              " 'data_cadastro',\n",
              " 'pais_cadastro']"
            ]
          },
          "metadata": {},
          "execution_count": 16
        }
      ],
      "source": [
        "#exibindo as colunas dentro do DataFrame df_csv\n",
        "df_csv.columns"
      ]
    },
    {
      "cell_type": "code",
      "execution_count": 17,
      "metadata": {
        "id": "t9ZjYDHMtkoO"
      },
      "outputs": [],
      "source": [
        "#lista criada a partir das colunas do df_csv, no intuito de alterar vários nomes de uma só vez\n",
        "cols = ['cpf',\n",
        " 'nome_completo',\n",
        " 'data_nascimento',\n",
        " 'sexo',\n",
        " 'convenio',\n",
        " 'logradouro',\n",
        " 'numero',\n",
        " 'bairro',\n",
        " 'cidade',\n",
        " 'estado',\n",
        " 'timestamp',\n",
        " 'pais']\n",
        "\n",
        "#criando um novo DataFrame com as colunas renomeadas\n",
        "df_csv_renamed = df_csv.toDF(*cols)"
      ]
    },
    {
      "cell_type": "code",
      "execution_count": 18,
      "metadata": {
        "colab": {
          "base_uri": "https://localhost:8080/"
        },
        "id": "z0nqpHxNsPix",
        "outputId": "125f4501-0ae5-49b6-ca98-28745f4082b4"
      },
      "outputs": [
        {
          "output_type": "execute_result",
          "data": {
            "text/plain": [
              "['documento_cpf',\n",
              " 'nome_completo',\n",
              " 'data_nascimento',\n",
              " 'sexo',\n",
              " 'convenio',\n",
              " 'logradouro',\n",
              " 'numero',\n",
              " 'bairro',\n",
              " 'cidade',\n",
              " 'pais',\n",
              " 'data_cadastro',\n",
              " 'uf',\n",
              " '__index_level_0__']"
            ]
          },
          "metadata": {},
          "execution_count": 18
        }
      ],
      "source": [
        "#exibindo as colunas dentro do DataFrame df_parque\n",
        "df_parque.columns"
      ]
    },
    {
      "cell_type": "code",
      "execution_count": 19,
      "metadata": {
        "id": "JwsQLdGruGFv"
      },
      "outputs": [],
      "source": [
        "#lista criada a partir das colunas do df_parquet, no intuito de alterar vários nomes de uma só vez \n",
        "cols = ['cpf',\n",
        " 'nome_completo',\n",
        " 'data_nascimento',\n",
        " 'sexo',\n",
        " 'convenio',\n",
        " 'logradouro',\n",
        " 'numero',\n",
        " 'bairro',\n",
        " 'cidade',\n",
        " 'pais',\n",
        " 'timestamp',\n",
        " 'estado',\n",
        " '__index_level_0__']\n",
        "\n",
        "#criando um novo DataFrame com as colunas renomeadas.\n",
        "df_parque_renamed = df_parque.toDF(*cols)"
      ]
    },
    {
      "cell_type": "code",
      "execution_count": 20,
      "metadata": {
        "colab": {
          "base_uri": "https://localhost:8080/"
        },
        "id": "X4ugtFYpvHif",
        "outputId": "7e8df45d-c8ba-4954-dd7b-0f2ac0d10500"
      },
      "outputs": [
        {
          "output_type": "execute_result",
          "data": {
            "text/plain": [
              "['bairro',\n",
              " 'cidade',\n",
              " 'convenio',\n",
              " 'cpf',\n",
              " 'data_cadastro',\n",
              " 'data_nascimento',\n",
              " 'estado',\n",
              " 'logradouro',\n",
              " 'nome',\n",
              " 'numero',\n",
              " 'pais',\n",
              " 'sexo']"
            ]
          },
          "metadata": {},
          "execution_count": 20
        }
      ],
      "source": [
        "#exibindo as colunas dentro do DataFrame df_json\n",
        "df_json.columns"
      ]
    },
    {
      "cell_type": "code",
      "execution_count": 21,
      "metadata": {
        "id": "3uNSmkKVvHlM"
      },
      "outputs": [],
      "source": [
        "#lista criada a partir das colunas do df_json, no intuito de alterar vários nomes de uma só vez \n",
        "cols = ['bairro',\n",
        " 'cidade',\n",
        " 'convenio',\n",
        " 'cpf',\n",
        " 'timestamp',\n",
        " 'data_nascimento',\n",
        " 'estado',\n",
        " 'logradouro',\n",
        " 'nome_completo',\n",
        " 'numero',\n",
        " 'pais',\n",
        " 'sexo']\n",
        "\n",
        "#criando um novo DataFrame com as colunas renomeadas.\n",
        "df_json_renamed = df_json.toDF(*cols)"
      ]
    },
    {
      "cell_type": "markdown",
      "source": [
        "### Ordenando todas as colunas dos dataframes"
      ],
      "metadata": {
        "id": "W2sfOkqT47ES"
      }
    },
    {
      "cell_type": "code",
      "execution_count": 22,
      "metadata": {
        "id": "eURW3lbUxJyc"
      },
      "outputs": [],
      "source": [
        "#ordenando o df_csv\n",
        "\n",
        "df_csv_order = df_csv_renamed[['cpf',\n",
        " 'nome_completo',\n",
        " 'data_nascimento',\n",
        " 'sexo',\n",
        " 'convenio',\n",
        " 'logradouro',\n",
        " 'numero',\n",
        " 'bairro',\n",
        " 'cidade',\n",
        " 'estado',\n",
        " 'pais',\n",
        " 'timestamp'    \n",
        "]]\n"
      ]
    },
    {
      "cell_type": "code",
      "execution_count": 23,
      "metadata": {
        "colab": {
          "base_uri": "https://localhost:8080/"
        },
        "id": "VTM9kJDavHrY",
        "outputId": "f55dc694-7f82-4456-fa0d-f9192b275908"
      },
      "outputs": [
        {
          "output_type": "stream",
          "name": "stdout",
          "text": [
            "+-----------+--------------------+---------------+----+--------+--------------------+------+--------------------+--------------------+------+----+-------------------+\n",
            "|        cpf|       nome_completo|data_nascimento|sexo|convenio|          logradouro|numero|              bairro|              cidade|estado|pais|          timestamp|\n",
            "+-----------+--------------------+---------------+----+--------+--------------------+------+--------------------+--------------------+------+----+-------------------+\n",
            "|03687145271|Maria Cecília Duarte|     02/11/1989| Fem|    AMIL|    Jardim Rodrigues| 335.0|         São Geraldo|           Gonçalves|    CE|  Br|1970-07-28 10:05:02|\n",
            "|40791586375| Maria Cecília Alves|     10/05/1980| Fem|    AMIL|    Viela de Ribeiro| 651.0|             Goiania|    Rezende da Praia|    AP|  Br|1992-03-12 07:10:16|\n",
            "|52983647056|       Laura Cardoso|     02/09/1997| Fem|    AMIL|Pátio Brenda Ribeiro|  64.0|             Acaiaca|       Campos Grande|    PR|  Br|1977-01-03 07:55:38|\n",
            "|81267390530|         Sophia Melo|     24/04/2018| Fem|    AMIL|Lagoa Kevin das N...| 846.0|Conjunto Celso Ma...|           Fernandes|    RO|  Br|1981-03-05 15:27:34|\n",
            "|07935684200|    Melissa da Costa|     28/05/1988| Fem|    AMIL|    Pátio de Ribeiro| 385.0|Pousada Santo Ant...|             da Mata|    MG|  Br|2011-10-08 20:37:40|\n",
            "|08526941720|Srta. Isabella Al...|     22/12/1996| Fem|    AMIL|      Chácara Santos| 928.0|        Alto Barroca|     Aragão de Porto|    PE|  Br|1980-08-16 19:01:44|\n",
            "|08145326915|Dra. Beatriz das ...|     23/08/1989| Fem|    AMIL|Feira João Gabrie...| 104.0|             Ventosa|             Martins|    MS|  Br|1987-02-04 00:03:35|\n",
            "|95120348750|       Sabrina Cunha|     24/08/1988| Fem|    AMIL|      Chácara Farias| 358.0|Vila Nossa Senhor...|      Jesus de Minas|    PR|  Br|1983-09-07 00:04:53|\n",
            "|36420815762|          Isis Alves|     21/10/1994| Fem|    AMIL|       Colônia Alves| 922.0|      Granja Werneck|Fernandes de Cardoso|    RR|  Br|1991-04-30 16:12:41|\n",
            "|36958470184|          Igor Alves|     16/06/2019|Masc|    AMIL|Viela Nicolas Aragão| 810.0|Conjunto Santa Maria|             Freitas|    PB|  Br|2005-03-20 13:34:21|\n",
            "|79310584610|     Gustavo Moreira|     28/12/1991|Masc|    AMIL|Alameda Fernanda ...| 850.0|  São Jorge 3ª Seção|              Araújo|    PA|  Br|1978-06-09 10:38:03|\n",
            "|76024953143|    João Lucas Souza|     08/07/1983|Masc|    AMIL|       Estrada Pinto| 591.0|        Vista Do Sol|            Nogueira|    SP|  Br|1979-09-02 20:50:49|\n",
            "|31607259877|     Mariane Cardoso|     24/06/1999| Fem|    AMIL|       Parque Santos|  52.0|           Vila Rica|              da Paz|    PI|  Br|2021-01-18 11:45:41|\n",
            "|82751403662|   Srta. Júlia Pinto|     21/11/1997| Fem|    AMIL|       Vereda Campos| 905.0|     Lagoinha Leblon|            da Cunha|    MT|  Br|2003-07-13 15:06:14|\n",
            "|40358761271|  Srta. Lorena Souza|     24/10/2019| Fem|    AMIL|  Condomínio Ribeiro| 630.0|        Vista Alegre|    Rezende da Prata|    AC|  Br|2022-09-07 01:14:30|\n",
            "|70952184630|       Igor Carvalho|     13/08/2021|Masc|    AMIL|    Viela de Azevedo| 887.0|              Piraja|     da Rocha do Sul|    PE|  Br|1986-11-14 11:36:06|\n",
            "|78239145655| Enzo Gabriel Campos|     30/05/2003|Masc|    AMIL| Aeroporto de Farias| 849.0|             Bacurau|              da Paz|    TO|  Br|1996-06-04 19:29:23|\n",
            "|90846571285|        Raul Cardoso|     23/09/2019|Masc|    AMIL|  Esplanada de Viana| 923.0|        Vila Formosa|              Mendes|    MG|  Br|1975-11-08 15:09:27|\n",
            "|84576031244|Sra. Clarice Rodr...|     31/12/2014| Fem|    AMIL|Residencial de Fe...| 769.0|              Garças|               Moura|    SP|  Br|2013-03-18 20:54:27|\n",
            "|34650981298|     Heitor Caldeira|     22/09/1978|Masc|    AMIL| Fazenda de Ferreira| 724.0|       Vila Ipiranga|    Lopes de da Mota|    MG|  Br|1973-10-04 18:43:43|\n",
            "+-----------+--------------------+---------------+----+--------+--------------------+------+--------------------+--------------------+------+----+-------------------+\n",
            "only showing top 20 rows\n",
            "\n"
          ]
        }
      ],
      "source": [
        "df_csv_order.show()"
      ]
    },
    {
      "cell_type": "markdown",
      "metadata": {
        "id": "MwFBY9akysKT"
      },
      "source": [
        "Antes de ordenar o dataframe df_parque vamos apagar a coluna index"
      ]
    },
    {
      "cell_type": "code",
      "execution_count": 24,
      "metadata": {
        "colab": {
          "base_uri": "https://localhost:8080/"
        },
        "id": "xyQzDjVBvHvB",
        "outputId": "f5d86ebc-480a-45ab-9162-0c4faa90d783"
      },
      "outputs": [
        {
          "output_type": "execute_result",
          "data": {
            "text/plain": [
              "DataFrame[cpf: string, nome_completo: string, data_nascimento: string, sexo: string, convenio: string, logradouro: string, numero: string, bairro: string, cidade: string, pais: string, timestamp: string, estado: string]"
            ]
          },
          "metadata": {},
          "execution_count": 24
        }
      ],
      "source": [
        "df_parque_renamed.drop(\"__index_level_0__\")"
      ]
    },
    {
      "cell_type": "code",
      "execution_count": 25,
      "metadata": {
        "id": "t9DE-J5hvHyk"
      },
      "outputs": [],
      "source": [
        "#ordenando o df_parque\n",
        "\n",
        "df_parque_order = df_parque_renamed[['cpf',\n",
        " 'nome_completo',\n",
        " 'data_nascimento',\n",
        " 'sexo',\n",
        " 'convenio',\n",
        " 'logradouro',\n",
        " 'numero',\n",
        " 'bairro',\n",
        " 'cidade',\n",
        " 'estado',\n",
        " 'pais',\n",
        " 'timestamp'    \n",
        "]]"
      ]
    },
    {
      "cell_type": "code",
      "execution_count": 26,
      "metadata": {
        "colab": {
          "base_uri": "https://localhost:8080/"
        },
        "id": "rKNm6vMQzC1F",
        "outputId": "1580a59b-2e2c-4a55-b13b-98eb60e0ca70"
      },
      "outputs": [
        {
          "output_type": "stream",
          "name": "stdout",
          "text": [
            "+-----------+--------------------+---------------+----+------------+--------------------+------+--------------------+--------------------+------+------+-------------------+\n",
            "|        cpf|       nome_completo|data_nascimento|sexo|    convenio|          logradouro|numero|              bairro|              cidade|estado|  pais|          timestamp|\n",
            "+-----------+--------------------+---------------+----+------------+--------------------+------+--------------------+--------------------+------+------+-------------------+\n",
            "|39062841589|      Caroline Rocha|     1982-02-28| Fem|  GoodHealth|        Trevo Santos|   773|         Vila Antena|             Cardoso|    AC|Brasil|1979-10-19T08:09:16|\n",
            "|36084795200|Dr. Luiz Otávio M...|     2020-09-04|Masc|Porto Seguro| Trevo Mariana Alves|   184|         Marmiteiros|           Gonçalves|    AC|Brasil|2012-01-22T00:21:53|\n",
            "|41593207670|Srta. Emanuelly C...|     2011-10-28| Fem|       Prata|  Residencial Mendes|   449|            Vila Puc|               Pinto|    AC|Brasil|2022-03-16T08:37:34|\n",
            "|02465378929|       Fernanda Dias|     1995-01-21| Fem|  Sulamerica| Alameda de Carvalho|   912|         Santo André|       da Mata Verde|    AC|Brasil|1971-03-29T13:31:18|\n",
            "|13598746075|          Cauã Pires|     2020-09-03|Masc|   SaudeMais|    Fazenda de Nunes|   002|       Alto Caiçaras|             Azevedo|    AC|Brasil|2020-01-04T12:02:59|\n",
            "|79123856068|     Danilo da Costa|     2003-06-16|Masc|   SaudeMais|       Vereda Campos|   407|       Boa Esperança|            Ferreira|    AC|Brasil|2006-09-20T19:06:37|\n",
            "|89607521340|     Gabriela Novaes|     1986-09-22| Fem|Porto Seguro|Passarela Heitor ...|   800|             Paraíso|       Mendes do Sul|    AC|Brasil|1987-12-31T20:48:24|\n",
            "|75138602977|   Ana Beatriz Porto|     1986-09-22| Fem|        Itau|Pátio Davi Lucas ...|   686|              Europa|            Monteiro|    AC|Brasil|2006-04-17T19:43:05|\n",
            "|14576382071|     Rodrigo Martins|     1981-04-24|Masc|       Prata|      Recanto Vieira|   223|         Vila Antena|               Rocha|    AC|Brasil|2013-04-06T03:19:28|\n",
            "|41729836500|          Davi Cunha|     1995-01-22|Masc|         SUS|Residencial de da...|   847|          Beija Flor|      Gomes do Campo|    AC|Brasil|1972-11-15T17:44:20|\n",
            "|86705324171|        Nicolas Melo|     1971-10-04|Masc|Porto Seguro|      Vila de Duarte|   416|          Santa Inês|              Farias|    AC|Brasil|1973-11-06T03:21:29|\n",
            "|56194320761|      Henrique Nunes|     1989-04-25|Masc|    Bradesco|    Vereda de Duarte|   275|               Penha|Caldeira dos Dour...|    AC|Brasil|1978-12-03T04:51:57|\n",
            "|91045283797|    Cecília da Rocha|     1981-04-24| Fem|        AMIL|       Vale de Pinto|   666|         Beira Linha|     da Cunha Alegre|    AC|Brasil|1998-05-12T12:57:39|\n",
            "|97640328500|       Cauê Oliveira|     2017-10-24|Masc|        Gold|Sítio Fernando Ba...|   496|             Braúnas|               Rocha|    AC|Brasil|2021-05-12T15:59:55|\n",
            "|10368472507|     Ana Luiza Rocha|     1998-10-25| Fem|    Bradesco| Morro Cecília Nunes|   209|               Oeste| Oliveira das Flores|    AC|Brasil|2017-12-06T23:47:02|\n",
            "|03974185666|      Heitor Costela|     2017-10-24|Masc|  Sulamerica|Residencial de Sa...|   200|       Vila Satélite|     Almeida da Mata|    AC|Brasil|1970-07-23T14:14:26|\n",
            "|63517204943|Sr. Lucas Gabriel...|     2020-09-02|Masc|         SUS|Alameda Laís Peixoto|   583|Jardim Dos Comerc...|            Monteiro|    AC|Brasil|2022-04-20T06:17:00|\n",
            "|43105682708|     Marcelo Costela|     1995-01-22|Masc|    Bradesco|   Via Sabrina Alves|   077|             Marçola|            Teixeira|    AC|Brasil|1975-02-28T13:39:15|\n",
            "|86957134075|Maria Eduarda Mar...|     2003-06-16| Fem|        Gold|    Avenida de Nunes|   170|         Santa Lúcia|    Teixeira da Mata|    AC|Brasil|1970-01-15T19:26:01|\n",
            "|48937651246|     Enrico Oliveira|     1986-09-22|Masc|      Bronze| Alameda de Carvalho|   343|          Corumbiara|     Vieira do Campo|    AC|Brasil|1999-03-06T19:10:35|\n",
            "+-----------+--------------------+---------------+----+------------+--------------------+------+--------------------+--------------------+------+------+-------------------+\n",
            "only showing top 20 rows\n",
            "\n"
          ]
        }
      ],
      "source": [
        "df_parque_order.show()"
      ]
    },
    {
      "cell_type": "code",
      "execution_count": 27,
      "metadata": {
        "id": "lDiNbFVizC4p"
      },
      "outputs": [],
      "source": [
        "#ordenando o df_json\n",
        "\n",
        "df_json_order = df_json_renamed[['cpf',\n",
        " 'nome_completo',\n",
        " 'data_nascimento',\n",
        " 'sexo',\n",
        " 'convenio',\n",
        " 'logradouro',\n",
        " 'numero',\n",
        " 'bairro',\n",
        " 'cidade',\n",
        " 'estado',\n",
        " 'pais',\n",
        " 'timestamp'    \n",
        "]]"
      ]
    },
    {
      "cell_type": "code",
      "execution_count": 28,
      "metadata": {
        "colab": {
          "base_uri": "https://localhost:8080/"
        },
        "id": "f4BBblQTzC9Q",
        "outputId": "ededb32a-2d3d-4a6b-9318-b61339085677"
      },
      "outputs": [
        {
          "output_type": "stream",
          "name": "stdout",
          "text": [
            "+-----------+--------------------+------------------+----+--------+--------------------+------+--------------------+-------------------+------------------+----+-------------+\n",
            "|        cpf|       nome_completo|   data_nascimento|sexo|convenio|          logradouro|numero|              bairro|             cidade|            estado|pais|    timestamp|\n",
            "+-----------+--------------------+------------------+----+--------+--------------------+------+--------------------+-------------------+------------------+----+-------------+\n",
            "|57369120821|         Ryan Santos|   August 26, 2017|   M|    AMIL|      Largo de Viana|   886|Vila Madre Gertru...|     Ribeiro Grande|             Amapá|    | 817032248000|\n",
            "|52093674106|     Juliana Correia|  January 30, 2023|   F|    AMIL|  Rodovia Nina Alves|   545|               Havaí|Caldeira das Flores|Mato Grosso do Sul|    |1009317437000|\n",
            "|01269843524|   Juliana Rodrigues|  January 06, 1979|   F|    AMIL|         Rua Peixoto|   728|            Caiçaras|            Barbosa|         São Paulo|    | 511111127000|\n",
            "|54186097267|      Letícia Novaes|      May 01, 2008|   F|    AMIL|         Setor Costa|   794|  São Jorge 3ª Seção|         Cavalcanti|         Tocantins|    | 387761682000|\n",
            "|53240967847|        Evelyn Moura|September 17, 1981|   F|    AMIL|Vale Ana Sophia d...|   196|       São Sebastião|            da Cruz|           Paraíba|    | 682956806000|\n",
            "|21953487041|      Mariana Barros|    March 29, 1973|   F|    AMIL|Travessa Catarina...|   963|       Nova Pampulha|             Barros|            Paraná|    |1222310576000|\n",
            "|58297316068|  Sr. Danilo da Rosa|   August 13, 1987|   M|    AMIL|  Estação de Barbosa|   789|Vila Primeiro De ...|da Cunha de da Mota|    Rio de Janeiro|    | 733837342000|\n",
            "|76349081269|Carlos Eduardo Viana|     June 01, 2013|   M|    AMIL|Distrito Rebeca C...|   705|             Miramar|  Moraes de Freitas|            Paraná|    |1636486360000|\n",
            "|19042735805|      Mariana Fogaça|    April 29, 1985|   F|    AMIL| Lagoa Sarah Cardoso|   962|      Vila Aeroporto|    Almeida da Mata|        Pernambuco|    | 649774552000|\n",
            "|35812497079|  Luiz Henrique Lima|     June 20, 1992|   M|    AMIL|Avenida Benjamin ...|   209|        Vila Inestan|  Silveira do Norte|            Paraná|    |1168663441000|\n",
            "|65129378482|      Eduarda Castro| December 03, 1974|   F|    AMIL|Passarela Cavalcanti|   217|  Boa União 1ª Seção|          das Neves|           Paraíba|    |  75408605000|\n",
            "|93845720123|Dr. Pedro Miguel ...|  October 15, 2006|   M|    AMIL| Sítio Rafael da Luz|   996|               Horto|     Gomes da Prata|    Rio de Janeiro|    |1071034980000|\n",
            "|89265173068|      Marina Peixoto|    March 21, 2009|   F|    AMIL|Aeroporto Ana Car...|   987|  Vila São Francisco|da Cunha das Flores|Mato Grosso do Sul|    |1531962008000|\n",
            "|19354867057|      Lucas Ferreira|    April 14, 1986|   M|    AMIL|       Recanto Alves|   681|      Alto Vera Cruz|     Pereira do Sul| Rio Grande do Sul|    | 341261472000|\n",
            "|15024963725|    Pedro Nascimento|  October 04, 2017|   M|    AMIL| Pátio Emanuel Porto|   150|             Cardoso|              Ramos| Rio Grande do Sul|    | 112869456000|\n",
            "|79854120694|    Giovanna Cardoso|September 21, 1995|   F|    AMIL|Setor de da Conce...|    57|             Lindéia|   Ferreira da Mata|       Mato Grosso|    | 586782035000|\n",
            "|75830691493|         Maitê Sales|September 09, 2007|   F|    AMIL| Vereda Danilo Costa|   654|     Santo Agostinho|    Farias de Goiás|  Distrito Federal|    |  29714204000|\n",
            "|93568714264|      Sr. Juan Pires|September 11, 2022|   M|    AMIL| Lagoa Joana Martins|   592|  Vila Santo Antônio|             da Paz|             Amapá|    |1423170865000|\n",
            "|76405839184|       Kaique da Luz|  January 19, 2010|   M|    AMIL|  Passarela Monteiro|    29|            Flamengo|             Vieira|           Alagoas|    | 685889544000|\n",
            "|34127658053|      Lucca Oliveira|   August 27, 2010|   M|    AMIL|  Feira Brenda Jesus|   666|              Canadá| Rodrigues do Norte|            Paraná|    |1370438856000|\n",
            "+-----------+--------------------+------------------+----+--------+--------------------+------+--------------------+-------------------+------------------+----+-------------+\n",
            "only showing top 20 rows\n",
            "\n"
          ]
        }
      ],
      "source": [
        "df_json_order.show()"
      ]
    },
    {
      "cell_type": "markdown",
      "source": [
        "***Observações***\n",
        "\n",
        "  Agora podemos avaliar de forma mais clara os dados de cada dataframe e realizar as transformações necessárias.\n",
        "\n",
        "  Após algumas avaliações, a metodologia que será adotada para a transformação dos dados consistiu em tratar cada dataframe separadamente, e somente após a padronização dos dados e de seus tipos, que será realizada a união dos dataframes e os ajustes finais. \n",
        "  - Um dos motivos ao adotar essa metodologia foi para ter mais rapidez de processamento, visto que, os dataframes df_csv, df_parque e df_json possuem respectivamente, 952875, 952613, 952210, linhas cada um, que somados geram 2.857.698 de linhas.\n",
        "  - Outro motivo foi a diferença entre os tipos de dados e formatações para uma mesma coluna em diferentes dataframes\n",
        "\n",
        "Iremos iniciar com as transformações no df_csv_order, após df_parque_order e por último no df_json_order."
      ],
      "metadata": {
        "id": "yAjxYHbm55e5"
      }
    },
    {
      "cell_type": "markdown",
      "metadata": {
        "id": "AE8xtWWi3q1Y"
      },
      "source": [
        "### Transformações do df_csv_order\n"
      ]
    },
    {
      "cell_type": "markdown",
      "metadata": {
        "id": "a2fpGYne7819"
      },
      "source": [
        "- Trocando os valores da coluna sexo: <br>\n",
        "Fem -> F<br>\n",
        "Masc -> M"
      ]
    },
    {
      "cell_type": "code",
      "execution_count": 29,
      "metadata": {
        "colab": {
          "base_uri": "https://localhost:8080/"
        },
        "id": "uUlD1TS5W27_",
        "outputId": "de59616a-3aa7-45cb-ccf5-b455c556cb4f"
      },
      "outputs": [
        {
          "output_type": "stream",
          "name": "stdout",
          "text": [
            "+-----------+--------------------+---------------+----+--------+--------------------+------+--------------------+--------------------+------+----+-------------------+\n",
            "|        cpf|       nome_completo|data_nascimento|sexo|convenio|          logradouro|numero|              bairro|              cidade|estado|pais|          timestamp|\n",
            "+-----------+--------------------+---------------+----+--------+--------------------+------+--------------------+--------------------+------+----+-------------------+\n",
            "|03687145271|Maria Cecília Duarte|     02/11/1989|   F|    AMIL|    Jardim Rodrigues| 335.0|         São Geraldo|           Gonçalves|    CE|  Br|1970-07-28 10:05:02|\n",
            "|40791586375| Maria Cecília Alves|     10/05/1980|   F|    AMIL|    Viela de Ribeiro| 651.0|             Goiania|    Rezende da Praia|    AP|  Br|1992-03-12 07:10:16|\n",
            "|52983647056|       Laura Cardoso|     02/09/1997|   F|    AMIL|Pátio Brenda Ribeiro|  64.0|             Acaiaca|       Campos Grande|    PR|  Br|1977-01-03 07:55:38|\n",
            "|81267390530|         Sophia Melo|     24/04/2018|   F|    AMIL|Lagoa Kevin das N...| 846.0|Conjunto Celso Ma...|           Fernandes|    RO|  Br|1981-03-05 15:27:34|\n",
            "|07935684200|    Melissa da Costa|     28/05/1988|   F|    AMIL|    Pátio de Ribeiro| 385.0|Pousada Santo Ant...|             da Mata|    MG|  Br|2011-10-08 20:37:40|\n",
            "|08526941720|Srta. Isabella Al...|     22/12/1996|   F|    AMIL|      Chácara Santos| 928.0|        Alto Barroca|     Aragão de Porto|    PE|  Br|1980-08-16 19:01:44|\n",
            "|08145326915|Dra. Beatriz das ...|     23/08/1989|   F|    AMIL|Feira João Gabrie...| 104.0|             Ventosa|             Martins|    MS|  Br|1987-02-04 00:03:35|\n",
            "|95120348750|       Sabrina Cunha|     24/08/1988|   F|    AMIL|      Chácara Farias| 358.0|Vila Nossa Senhor...|      Jesus de Minas|    PR|  Br|1983-09-07 00:04:53|\n",
            "|36420815762|          Isis Alves|     21/10/1994|   F|    AMIL|       Colônia Alves| 922.0|      Granja Werneck|Fernandes de Cardoso|    RR|  Br|1991-04-30 16:12:41|\n",
            "|36958470184|          Igor Alves|     16/06/2019|   M|    AMIL|Viela Nicolas Aragão| 810.0|Conjunto Santa Maria|             Freitas|    PB|  Br|2005-03-20 13:34:21|\n",
            "|79310584610|     Gustavo Moreira|     28/12/1991|   M|    AMIL|Alameda Fernanda ...| 850.0|  São Jorge 3ª Seção|              Araújo|    PA|  Br|1978-06-09 10:38:03|\n",
            "|76024953143|    João Lucas Souza|     08/07/1983|   M|    AMIL|       Estrada Pinto| 591.0|        Vista Do Sol|            Nogueira|    SP|  Br|1979-09-02 20:50:49|\n",
            "|31607259877|     Mariane Cardoso|     24/06/1999|   F|    AMIL|       Parque Santos|  52.0|           Vila Rica|              da Paz|    PI|  Br|2021-01-18 11:45:41|\n",
            "|82751403662|   Srta. Júlia Pinto|     21/11/1997|   F|    AMIL|       Vereda Campos| 905.0|     Lagoinha Leblon|            da Cunha|    MT|  Br|2003-07-13 15:06:14|\n",
            "|40358761271|  Srta. Lorena Souza|     24/10/2019|   F|    AMIL|  Condomínio Ribeiro| 630.0|        Vista Alegre|    Rezende da Prata|    AC|  Br|2022-09-07 01:14:30|\n",
            "|70952184630|       Igor Carvalho|     13/08/2021|   M|    AMIL|    Viela de Azevedo| 887.0|              Piraja|     da Rocha do Sul|    PE|  Br|1986-11-14 11:36:06|\n",
            "|78239145655| Enzo Gabriel Campos|     30/05/2003|   M|    AMIL| Aeroporto de Farias| 849.0|             Bacurau|              da Paz|    TO|  Br|1996-06-04 19:29:23|\n",
            "|90846571285|        Raul Cardoso|     23/09/2019|   M|    AMIL|  Esplanada de Viana| 923.0|        Vila Formosa|              Mendes|    MG|  Br|1975-11-08 15:09:27|\n",
            "|84576031244|Sra. Clarice Rodr...|     31/12/2014|   F|    AMIL|Residencial de Fe...| 769.0|              Garças|               Moura|    SP|  Br|2013-03-18 20:54:27|\n",
            "|34650981298|     Heitor Caldeira|     22/09/1978|   M|    AMIL| Fazenda de Ferreira| 724.0|       Vila Ipiranga|    Lopes de da Mota|    MG|  Br|1973-10-04 18:43:43|\n",
            "+-----------+--------------------+---------------+----+--------+--------------------+------+--------------------+--------------------+------+----+-------------------+\n",
            "only showing top 20 rows\n",
            "\n"
          ]
        }
      ],
      "source": [
        "df_csv_order = df_csv_order.withColumn('sexo', when(df_csv_order.sexo == 'Masc', 'M') \\\n",
        "      .when(df_csv_order.sexo == 'Fem','F') \\\n",
        "      .otherwise(df_csv_order.sexo))\n",
        "df_csv_order.show()"
      ]
    },
    {
      "cell_type": "markdown",
      "source": [
        "- Separando os nomes dos convênios Good Health e Saude Mais "
      ],
      "metadata": {
        "id": "7Bn5kGyMRaji"
      }
    },
    {
      "cell_type": "code",
      "source": [
        "df_csv_order = df_csv_order.withColumn('convenio', when(df_csv_order.convenio == 'GoodHealth', 'Good Health') \\\n",
        "      .when(df_csv_order.convenio == 'SaudeMais','Saude Mais') \\\n",
        "      .otherwise(df_csv_order.convenio))\n",
        "df_csv_order.show()"
      ],
      "metadata": {
        "colab": {
          "base_uri": "https://localhost:8080/"
        },
        "id": "vC8pj2DJRYvs",
        "outputId": "647780d2-961b-44f6-803e-18060ab1a58f"
      },
      "execution_count": 30,
      "outputs": [
        {
          "output_type": "stream",
          "name": "stdout",
          "text": [
            "+-----------+--------------------+---------------+----+--------+--------------------+------+--------------------+--------------------+------+----+-------------------+\n",
            "|        cpf|       nome_completo|data_nascimento|sexo|convenio|          logradouro|numero|              bairro|              cidade|estado|pais|          timestamp|\n",
            "+-----------+--------------------+---------------+----+--------+--------------------+------+--------------------+--------------------+------+----+-------------------+\n",
            "|03687145271|Maria Cecília Duarte|     02/11/1989|   F|    AMIL|    Jardim Rodrigues| 335.0|         São Geraldo|           Gonçalves|    CE|  Br|1970-07-28 10:05:02|\n",
            "|40791586375| Maria Cecília Alves|     10/05/1980|   F|    AMIL|    Viela de Ribeiro| 651.0|             Goiania|    Rezende da Praia|    AP|  Br|1992-03-12 07:10:16|\n",
            "|52983647056|       Laura Cardoso|     02/09/1997|   F|    AMIL|Pátio Brenda Ribeiro|  64.0|             Acaiaca|       Campos Grande|    PR|  Br|1977-01-03 07:55:38|\n",
            "|81267390530|         Sophia Melo|     24/04/2018|   F|    AMIL|Lagoa Kevin das N...| 846.0|Conjunto Celso Ma...|           Fernandes|    RO|  Br|1981-03-05 15:27:34|\n",
            "|07935684200|    Melissa da Costa|     28/05/1988|   F|    AMIL|    Pátio de Ribeiro| 385.0|Pousada Santo Ant...|             da Mata|    MG|  Br|2011-10-08 20:37:40|\n",
            "|08526941720|Srta. Isabella Al...|     22/12/1996|   F|    AMIL|      Chácara Santos| 928.0|        Alto Barroca|     Aragão de Porto|    PE|  Br|1980-08-16 19:01:44|\n",
            "|08145326915|Dra. Beatriz das ...|     23/08/1989|   F|    AMIL|Feira João Gabrie...| 104.0|             Ventosa|             Martins|    MS|  Br|1987-02-04 00:03:35|\n",
            "|95120348750|       Sabrina Cunha|     24/08/1988|   F|    AMIL|      Chácara Farias| 358.0|Vila Nossa Senhor...|      Jesus de Minas|    PR|  Br|1983-09-07 00:04:53|\n",
            "|36420815762|          Isis Alves|     21/10/1994|   F|    AMIL|       Colônia Alves| 922.0|      Granja Werneck|Fernandes de Cardoso|    RR|  Br|1991-04-30 16:12:41|\n",
            "|36958470184|          Igor Alves|     16/06/2019|   M|    AMIL|Viela Nicolas Aragão| 810.0|Conjunto Santa Maria|             Freitas|    PB|  Br|2005-03-20 13:34:21|\n",
            "|79310584610|     Gustavo Moreira|     28/12/1991|   M|    AMIL|Alameda Fernanda ...| 850.0|  São Jorge 3ª Seção|              Araújo|    PA|  Br|1978-06-09 10:38:03|\n",
            "|76024953143|    João Lucas Souza|     08/07/1983|   M|    AMIL|       Estrada Pinto| 591.0|        Vista Do Sol|            Nogueira|    SP|  Br|1979-09-02 20:50:49|\n",
            "|31607259877|     Mariane Cardoso|     24/06/1999|   F|    AMIL|       Parque Santos|  52.0|           Vila Rica|              da Paz|    PI|  Br|2021-01-18 11:45:41|\n",
            "|82751403662|   Srta. Júlia Pinto|     21/11/1997|   F|    AMIL|       Vereda Campos| 905.0|     Lagoinha Leblon|            da Cunha|    MT|  Br|2003-07-13 15:06:14|\n",
            "|40358761271|  Srta. Lorena Souza|     24/10/2019|   F|    AMIL|  Condomínio Ribeiro| 630.0|        Vista Alegre|    Rezende da Prata|    AC|  Br|2022-09-07 01:14:30|\n",
            "|70952184630|       Igor Carvalho|     13/08/2021|   M|    AMIL|    Viela de Azevedo| 887.0|              Piraja|     da Rocha do Sul|    PE|  Br|1986-11-14 11:36:06|\n",
            "|78239145655| Enzo Gabriel Campos|     30/05/2003|   M|    AMIL| Aeroporto de Farias| 849.0|             Bacurau|              da Paz|    TO|  Br|1996-06-04 19:29:23|\n",
            "|90846571285|        Raul Cardoso|     23/09/2019|   M|    AMIL|  Esplanada de Viana| 923.0|        Vila Formosa|              Mendes|    MG|  Br|1975-11-08 15:09:27|\n",
            "|84576031244|Sra. Clarice Rodr...|     31/12/2014|   F|    AMIL|Residencial de Fe...| 769.0|              Garças|               Moura|    SP|  Br|2013-03-18 20:54:27|\n",
            "|34650981298|     Heitor Caldeira|     22/09/1978|   M|    AMIL| Fazenda de Ferreira| 724.0|       Vila Ipiranga|    Lopes de da Mota|    MG|  Br|1973-10-04 18:43:43|\n",
            "+-----------+--------------------+---------------+----+--------+--------------------+------+--------------------+--------------------+------+----+-------------------+\n",
            "only showing top 20 rows\n",
            "\n"
          ]
        }
      ]
    },
    {
      "cell_type": "markdown",
      "metadata": {
        "id": "mulqvW-p9XYZ"
      },
      "source": [
        "- A coluna data_nascimento tem vários problemas que temos que solucionar:\n",
        "\n",
        " - Trocar a '/' por '-' \n",
        " - Colocar no formato padrão de date 'yyyy-mm-dd', pois que está no formato 'dd/mm/yyyy'\n",
        " - Mudar para o formato data (obs. ocorreram muitos erros syntaxe e somente com a forma abaixo deu certo para  a extensão csv)"
      ]
    },
    {
      "cell_type": "code",
      "execution_count": 31,
      "metadata": {
        "id": "KrV3lz93Xr5d"
      },
      "outputs": [],
      "source": [
        "df_csv_order = df_csv_order.withColumn('data_nascimento', regexp_replace('data_nascimento', '/', '-'))"
      ]
    },
    {
      "cell_type": "code",
      "source": [
        "df_csv_order.show()"
      ],
      "metadata": {
        "colab": {
          "base_uri": "https://localhost:8080/"
        },
        "id": "PvGIPn6Zh4CR",
        "outputId": "75f666a7-fa3d-42b2-d866-6af1ecd6c985"
      },
      "execution_count": 32,
      "outputs": [
        {
          "output_type": "stream",
          "name": "stdout",
          "text": [
            "+-----------+--------------------+---------------+----+--------+--------------------+------+--------------------+--------------------+------+----+-------------------+\n",
            "|        cpf|       nome_completo|data_nascimento|sexo|convenio|          logradouro|numero|              bairro|              cidade|estado|pais|          timestamp|\n",
            "+-----------+--------------------+---------------+----+--------+--------------------+------+--------------------+--------------------+------+----+-------------------+\n",
            "|03687145271|Maria Cecília Duarte|     02-11-1989|   F|    AMIL|    Jardim Rodrigues| 335.0|         São Geraldo|           Gonçalves|    CE|  Br|1970-07-28 10:05:02|\n",
            "|40791586375| Maria Cecília Alves|     10-05-1980|   F|    AMIL|    Viela de Ribeiro| 651.0|             Goiania|    Rezende da Praia|    AP|  Br|1992-03-12 07:10:16|\n",
            "|52983647056|       Laura Cardoso|     02-09-1997|   F|    AMIL|Pátio Brenda Ribeiro|  64.0|             Acaiaca|       Campos Grande|    PR|  Br|1977-01-03 07:55:38|\n",
            "|81267390530|         Sophia Melo|     24-04-2018|   F|    AMIL|Lagoa Kevin das N...| 846.0|Conjunto Celso Ma...|           Fernandes|    RO|  Br|1981-03-05 15:27:34|\n",
            "|07935684200|    Melissa da Costa|     28-05-1988|   F|    AMIL|    Pátio de Ribeiro| 385.0|Pousada Santo Ant...|             da Mata|    MG|  Br|2011-10-08 20:37:40|\n",
            "|08526941720|Srta. Isabella Al...|     22-12-1996|   F|    AMIL|      Chácara Santos| 928.0|        Alto Barroca|     Aragão de Porto|    PE|  Br|1980-08-16 19:01:44|\n",
            "|08145326915|Dra. Beatriz das ...|     23-08-1989|   F|    AMIL|Feira João Gabrie...| 104.0|             Ventosa|             Martins|    MS|  Br|1987-02-04 00:03:35|\n",
            "|95120348750|       Sabrina Cunha|     24-08-1988|   F|    AMIL|      Chácara Farias| 358.0|Vila Nossa Senhor...|      Jesus de Minas|    PR|  Br|1983-09-07 00:04:53|\n",
            "|36420815762|          Isis Alves|     21-10-1994|   F|    AMIL|       Colônia Alves| 922.0|      Granja Werneck|Fernandes de Cardoso|    RR|  Br|1991-04-30 16:12:41|\n",
            "|36958470184|          Igor Alves|     16-06-2019|   M|    AMIL|Viela Nicolas Aragão| 810.0|Conjunto Santa Maria|             Freitas|    PB|  Br|2005-03-20 13:34:21|\n",
            "|79310584610|     Gustavo Moreira|     28-12-1991|   M|    AMIL|Alameda Fernanda ...| 850.0|  São Jorge 3ª Seção|              Araújo|    PA|  Br|1978-06-09 10:38:03|\n",
            "|76024953143|    João Lucas Souza|     08-07-1983|   M|    AMIL|       Estrada Pinto| 591.0|        Vista Do Sol|            Nogueira|    SP|  Br|1979-09-02 20:50:49|\n",
            "|31607259877|     Mariane Cardoso|     24-06-1999|   F|    AMIL|       Parque Santos|  52.0|           Vila Rica|              da Paz|    PI|  Br|2021-01-18 11:45:41|\n",
            "|82751403662|   Srta. Júlia Pinto|     21-11-1997|   F|    AMIL|       Vereda Campos| 905.0|     Lagoinha Leblon|            da Cunha|    MT|  Br|2003-07-13 15:06:14|\n",
            "|40358761271|  Srta. Lorena Souza|     24-10-2019|   F|    AMIL|  Condomínio Ribeiro| 630.0|        Vista Alegre|    Rezende da Prata|    AC|  Br|2022-09-07 01:14:30|\n",
            "|70952184630|       Igor Carvalho|     13-08-2021|   M|    AMIL|    Viela de Azevedo| 887.0|              Piraja|     da Rocha do Sul|    PE|  Br|1986-11-14 11:36:06|\n",
            "|78239145655| Enzo Gabriel Campos|     30-05-2003|   M|    AMIL| Aeroporto de Farias| 849.0|             Bacurau|              da Paz|    TO|  Br|1996-06-04 19:29:23|\n",
            "|90846571285|        Raul Cardoso|     23-09-2019|   M|    AMIL|  Esplanada de Viana| 923.0|        Vila Formosa|              Mendes|    MG|  Br|1975-11-08 15:09:27|\n",
            "|84576031244|Sra. Clarice Rodr...|     31-12-2014|   F|    AMIL|Residencial de Fe...| 769.0|              Garças|               Moura|    SP|  Br|2013-03-18 20:54:27|\n",
            "|34650981298|     Heitor Caldeira|     22-09-1978|   M|    AMIL| Fazenda de Ferreira| 724.0|       Vila Ipiranga|    Lopes de da Mota|    MG|  Br|1973-10-04 18:43:43|\n",
            "+-----------+--------------------+---------------+----+--------+--------------------+------+--------------------+--------------------+------+----+-------------------+\n",
            "only showing top 20 rows\n",
            "\n"
          ]
        }
      ]
    },
    {
      "cell_type": "code",
      "source": [
        "# Mudando de dd-mm-yyyy para yyyy-mm-dd\n",
        "\n",
        "df_csv_order = df_csv_order.withColumn(\"data_nascimento\", date_format(unix_timestamp(df_csv_order.data_nascimento , \"dd-mm-yyyy\").cast(\"timestamp\"),\"yyyy-mm-dd\"))\n"
      ],
      "metadata": {
        "id": "08eGCrowjwq-"
      },
      "execution_count": 33,
      "outputs": []
    },
    {
      "cell_type": "code",
      "source": [
        "df_csv_order.show()"
      ],
      "metadata": {
        "colab": {
          "base_uri": "https://localhost:8080/"
        },
        "id": "zBB_bMhYkWlz",
        "outputId": "f55562f8-9109-4f10-83d8-e184373e656f"
      },
      "execution_count": 34,
      "outputs": [
        {
          "output_type": "stream",
          "name": "stdout",
          "text": [
            "+-----------+--------------------+---------------+----+--------+--------------------+------+--------------------+--------------------+------+----+-------------------+\n",
            "|        cpf|       nome_completo|data_nascimento|sexo|convenio|          logradouro|numero|              bairro|              cidade|estado|pais|          timestamp|\n",
            "+-----------+--------------------+---------------+----+--------+--------------------+------+--------------------+--------------------+------+----+-------------------+\n",
            "|03687145271|Maria Cecília Duarte|     1989-11-02|   F|    AMIL|    Jardim Rodrigues| 335.0|         São Geraldo|           Gonçalves|    CE|  Br|1970-07-28 10:05:02|\n",
            "|40791586375| Maria Cecília Alves|     1980-05-10|   F|    AMIL|    Viela de Ribeiro| 651.0|             Goiania|    Rezende da Praia|    AP|  Br|1992-03-12 07:10:16|\n",
            "|52983647056|       Laura Cardoso|     1997-09-02|   F|    AMIL|Pátio Brenda Ribeiro|  64.0|             Acaiaca|       Campos Grande|    PR|  Br|1977-01-03 07:55:38|\n",
            "|81267390530|         Sophia Melo|     2018-04-24|   F|    AMIL|Lagoa Kevin das N...| 846.0|Conjunto Celso Ma...|           Fernandes|    RO|  Br|1981-03-05 15:27:34|\n",
            "|07935684200|    Melissa da Costa|     1988-05-28|   F|    AMIL|    Pátio de Ribeiro| 385.0|Pousada Santo Ant...|             da Mata|    MG|  Br|2011-10-08 20:37:40|\n",
            "|08526941720|Srta. Isabella Al...|     1996-12-22|   F|    AMIL|      Chácara Santos| 928.0|        Alto Barroca|     Aragão de Porto|    PE|  Br|1980-08-16 19:01:44|\n",
            "|08145326915|Dra. Beatriz das ...|     1989-08-23|   F|    AMIL|Feira João Gabrie...| 104.0|             Ventosa|             Martins|    MS|  Br|1987-02-04 00:03:35|\n",
            "|95120348750|       Sabrina Cunha|     1988-08-24|   F|    AMIL|      Chácara Farias| 358.0|Vila Nossa Senhor...|      Jesus de Minas|    PR|  Br|1983-09-07 00:04:53|\n",
            "|36420815762|          Isis Alves|     1994-10-21|   F|    AMIL|       Colônia Alves| 922.0|      Granja Werneck|Fernandes de Cardoso|    RR|  Br|1991-04-30 16:12:41|\n",
            "|36958470184|          Igor Alves|     2019-06-16|   M|    AMIL|Viela Nicolas Aragão| 810.0|Conjunto Santa Maria|             Freitas|    PB|  Br|2005-03-20 13:34:21|\n",
            "|79310584610|     Gustavo Moreira|     1991-12-28|   M|    AMIL|Alameda Fernanda ...| 850.0|  São Jorge 3ª Seção|              Araújo|    PA|  Br|1978-06-09 10:38:03|\n",
            "|76024953143|    João Lucas Souza|     1983-07-08|   M|    AMIL|       Estrada Pinto| 591.0|        Vista Do Sol|            Nogueira|    SP|  Br|1979-09-02 20:50:49|\n",
            "|31607259877|     Mariane Cardoso|     1999-06-24|   F|    AMIL|       Parque Santos|  52.0|           Vila Rica|              da Paz|    PI|  Br|2021-01-18 11:45:41|\n",
            "|82751403662|   Srta. Júlia Pinto|     1997-11-21|   F|    AMIL|       Vereda Campos| 905.0|     Lagoinha Leblon|            da Cunha|    MT|  Br|2003-07-13 15:06:14|\n",
            "|40358761271|  Srta. Lorena Souza|     2019-10-24|   F|    AMIL|  Condomínio Ribeiro| 630.0|        Vista Alegre|    Rezende da Prata|    AC|  Br|2022-09-07 01:14:30|\n",
            "|70952184630|       Igor Carvalho|     2021-08-13|   M|    AMIL|    Viela de Azevedo| 887.0|              Piraja|     da Rocha do Sul|    PE|  Br|1986-11-14 11:36:06|\n",
            "|78239145655| Enzo Gabriel Campos|     2003-05-30|   M|    AMIL| Aeroporto de Farias| 849.0|             Bacurau|              da Paz|    TO|  Br|1996-06-04 19:29:23|\n",
            "|90846571285|        Raul Cardoso|     2019-09-23|   M|    AMIL|  Esplanada de Viana| 923.0|        Vila Formosa|              Mendes|    MG|  Br|1975-11-08 15:09:27|\n",
            "|84576031244|Sra. Clarice Rodr...|     2014-12-31|   F|    AMIL|Residencial de Fe...| 769.0|              Garças|               Moura|    SP|  Br|2013-03-18 20:54:27|\n",
            "|34650981298|     Heitor Caldeira|     1978-09-22|   M|    AMIL| Fazenda de Ferreira| 724.0|       Vila Ipiranga|    Lopes de da Mota|    MG|  Br|1973-10-04 18:43:43|\n",
            "+-----------+--------------------+---------------+----+--------+--------------------+------+--------------------+--------------------+------+----+-------------------+\n",
            "only showing top 20 rows\n",
            "\n"
          ]
        }
      ]
    },
    {
      "cell_type": "code",
      "source": [
        "df_csv_order.printSchema()"
      ],
      "metadata": {
        "colab": {
          "base_uri": "https://localhost:8080/"
        },
        "id": "GDJd10SCtUtv",
        "outputId": "15215965-fd36-435f-9927-76941f19b8bb"
      },
      "execution_count": 35,
      "outputs": [
        {
          "output_type": "stream",
          "name": "stdout",
          "text": [
            "root\n",
            " |-- cpf: string (nullable = true)\n",
            " |-- nome_completo: string (nullable = true)\n",
            " |-- data_nascimento: string (nullable = true)\n",
            " |-- sexo: string (nullable = true)\n",
            " |-- convenio: string (nullable = true)\n",
            " |-- logradouro: string (nullable = true)\n",
            " |-- numero: string (nullable = true)\n",
            " |-- bairro: string (nullable = true)\n",
            " |-- cidade: string (nullable = true)\n",
            " |-- estado: string (nullable = true)\n",
            " |-- pais: string (nullable = true)\n",
            " |-- timestamp: string (nullable = true)\n",
            "\n"
          ]
        }
      ]
    },
    {
      "cell_type": "code",
      "source": [
        "# Alterando o tipo da coluna para date\n",
        "df_csv_order = df_csv_order.withColumn('data_nascimento', df_csv_order.data_nascimento.cast('date'))"
      ],
      "metadata": {
        "id": "Hx5jQP_cx0sg"
      },
      "execution_count": 36,
      "outputs": []
    },
    {
      "cell_type": "code",
      "source": [
        "df_csv_order.show()"
      ],
      "metadata": {
        "colab": {
          "base_uri": "https://localhost:8080/"
        },
        "id": "eeSzKP9yyPXx",
        "outputId": "eec56b55-87da-43b4-98aa-273949d29676"
      },
      "execution_count": 37,
      "outputs": [
        {
          "output_type": "stream",
          "name": "stdout",
          "text": [
            "+-----------+--------------------+---------------+----+--------+--------------------+------+--------------------+--------------------+------+----+-------------------+\n",
            "|        cpf|       nome_completo|data_nascimento|sexo|convenio|          logradouro|numero|              bairro|              cidade|estado|pais|          timestamp|\n",
            "+-----------+--------------------+---------------+----+--------+--------------------+------+--------------------+--------------------+------+----+-------------------+\n",
            "|03687145271|Maria Cecília Duarte|     1989-11-02|   F|    AMIL|    Jardim Rodrigues| 335.0|         São Geraldo|           Gonçalves|    CE|  Br|1970-07-28 10:05:02|\n",
            "|40791586375| Maria Cecília Alves|     1980-05-10|   F|    AMIL|    Viela de Ribeiro| 651.0|             Goiania|    Rezende da Praia|    AP|  Br|1992-03-12 07:10:16|\n",
            "|52983647056|       Laura Cardoso|     1997-09-02|   F|    AMIL|Pátio Brenda Ribeiro|  64.0|             Acaiaca|       Campos Grande|    PR|  Br|1977-01-03 07:55:38|\n",
            "|81267390530|         Sophia Melo|     2018-04-24|   F|    AMIL|Lagoa Kevin das N...| 846.0|Conjunto Celso Ma...|           Fernandes|    RO|  Br|1981-03-05 15:27:34|\n",
            "|07935684200|    Melissa da Costa|     1988-05-28|   F|    AMIL|    Pátio de Ribeiro| 385.0|Pousada Santo Ant...|             da Mata|    MG|  Br|2011-10-08 20:37:40|\n",
            "|08526941720|Srta. Isabella Al...|     1996-12-22|   F|    AMIL|      Chácara Santos| 928.0|        Alto Barroca|     Aragão de Porto|    PE|  Br|1980-08-16 19:01:44|\n",
            "|08145326915|Dra. Beatriz das ...|     1989-08-23|   F|    AMIL|Feira João Gabrie...| 104.0|             Ventosa|             Martins|    MS|  Br|1987-02-04 00:03:35|\n",
            "|95120348750|       Sabrina Cunha|     1988-08-24|   F|    AMIL|      Chácara Farias| 358.0|Vila Nossa Senhor...|      Jesus de Minas|    PR|  Br|1983-09-07 00:04:53|\n",
            "|36420815762|          Isis Alves|     1994-10-21|   F|    AMIL|       Colônia Alves| 922.0|      Granja Werneck|Fernandes de Cardoso|    RR|  Br|1991-04-30 16:12:41|\n",
            "|36958470184|          Igor Alves|     2019-06-16|   M|    AMIL|Viela Nicolas Aragão| 810.0|Conjunto Santa Maria|             Freitas|    PB|  Br|2005-03-20 13:34:21|\n",
            "|79310584610|     Gustavo Moreira|     1991-12-28|   M|    AMIL|Alameda Fernanda ...| 850.0|  São Jorge 3ª Seção|              Araújo|    PA|  Br|1978-06-09 10:38:03|\n",
            "|76024953143|    João Lucas Souza|     1983-07-08|   M|    AMIL|       Estrada Pinto| 591.0|        Vista Do Sol|            Nogueira|    SP|  Br|1979-09-02 20:50:49|\n",
            "|31607259877|     Mariane Cardoso|     1999-06-24|   F|    AMIL|       Parque Santos|  52.0|           Vila Rica|              da Paz|    PI|  Br|2021-01-18 11:45:41|\n",
            "|82751403662|   Srta. Júlia Pinto|     1997-11-21|   F|    AMIL|       Vereda Campos| 905.0|     Lagoinha Leblon|            da Cunha|    MT|  Br|2003-07-13 15:06:14|\n",
            "|40358761271|  Srta. Lorena Souza|     2019-10-24|   F|    AMIL|  Condomínio Ribeiro| 630.0|        Vista Alegre|    Rezende da Prata|    AC|  Br|2022-09-07 01:14:30|\n",
            "|70952184630|       Igor Carvalho|     2021-08-13|   M|    AMIL|    Viela de Azevedo| 887.0|              Piraja|     da Rocha do Sul|    PE|  Br|1986-11-14 11:36:06|\n",
            "|78239145655| Enzo Gabriel Campos|     2003-05-30|   M|    AMIL| Aeroporto de Farias| 849.0|             Bacurau|              da Paz|    TO|  Br|1996-06-04 19:29:23|\n",
            "|90846571285|        Raul Cardoso|     2019-09-23|   M|    AMIL|  Esplanada de Viana| 923.0|        Vila Formosa|              Mendes|    MG|  Br|1975-11-08 15:09:27|\n",
            "|84576031244|Sra. Clarice Rodr...|     2014-12-31|   F|    AMIL|Residencial de Fe...| 769.0|              Garças|               Moura|    SP|  Br|2013-03-18 20:54:27|\n",
            "|34650981298|     Heitor Caldeira|     1978-09-22|   M|    AMIL| Fazenda de Ferreira| 724.0|       Vila Ipiranga|    Lopes de da Mota|    MG|  Br|1973-10-04 18:43:43|\n",
            "+-----------+--------------------+---------------+----+--------+--------------------+------+--------------------+--------------------+------+----+-------------------+\n",
            "only showing top 20 rows\n",
            "\n"
          ]
        }
      ]
    },
    {
      "cell_type": "code",
      "source": [
        "df_csv_order.printSchema()"
      ],
      "metadata": {
        "colab": {
          "base_uri": "https://localhost:8080/"
        },
        "id": "ScgV7ZhnySbX",
        "outputId": "a87d045e-e0a4-490d-f83b-05363fe40ab5"
      },
      "execution_count": 38,
      "outputs": [
        {
          "output_type": "stream",
          "name": "stdout",
          "text": [
            "root\n",
            " |-- cpf: string (nullable = true)\n",
            " |-- nome_completo: string (nullable = true)\n",
            " |-- data_nascimento: date (nullable = true)\n",
            " |-- sexo: string (nullable = true)\n",
            " |-- convenio: string (nullable = true)\n",
            " |-- logradouro: string (nullable = true)\n",
            " |-- numero: string (nullable = true)\n",
            " |-- bairro: string (nullable = true)\n",
            " |-- cidade: string (nullable = true)\n",
            " |-- estado: string (nullable = true)\n",
            " |-- pais: string (nullable = true)\n",
            " |-- timestamp: string (nullable = true)\n",
            "\n"
          ]
        }
      ]
    },
    {
      "cell_type": "markdown",
      "metadata": {
        "id": "qdF_HrRe-ENb"
      },
      "source": [
        "- Trocando os valores da coluna pais: \n",
        "Br -> Brasil"
      ]
    },
    {
      "cell_type": "code",
      "execution_count": 39,
      "metadata": {
        "colab": {
          "base_uri": "https://localhost:8080/"
        },
        "id": "RcS9VWuXeRvX",
        "outputId": "36f9e350-a10f-45c0-d47f-62808bd6541c"
      },
      "outputs": [
        {
          "output_type": "stream",
          "name": "stdout",
          "text": [
            "+-----------+----------------------+---------------+----+--------+--------------------------+------+-----------------------------+--------------------+------+------+-------------------+\n",
            "|cpf        |nome_completo         |data_nascimento|sexo|convenio|logradouro                |numero|bairro                       |cidade              |estado|pais  |timestamp          |\n",
            "+-----------+----------------------+---------------+----+--------+--------------------------+------+-----------------------------+--------------------+------+------+-------------------+\n",
            "|03687145271|Maria Cecília Duarte  |1989-11-02     |F   |AMIL    |Jardim Rodrigues          |335.0 |São Geraldo                  |Gonçalves           |CE    |Brasil|1970-07-28 10:05:02|\n",
            "|40791586375|Maria Cecília Alves   |1980-05-10     |F   |AMIL    |Viela de Ribeiro          |651.0 |Goiania                      |Rezende da Praia    |AP    |Brasil|1992-03-12 07:10:16|\n",
            "|52983647056|Laura Cardoso         |1997-09-02     |F   |AMIL    |Pátio Brenda Ribeiro      |64.0  |Acaiaca                      |Campos Grande       |PR    |Brasil|1977-01-03 07:55:38|\n",
            "|81267390530|Sophia Melo           |2018-04-24     |F   |AMIL    |Lagoa Kevin das Neves     |846.0 |Conjunto Celso Machado       |Fernandes           |RO    |Brasil|1981-03-05 15:27:34|\n",
            "|07935684200|Melissa da Costa      |1988-05-28     |F   |AMIL    |Pátio de Ribeiro          |385.0 |Pousada Santo Antonio        |da Mata             |MG    |Brasil|2011-10-08 20:37:40|\n",
            "|08526941720|Srta. Isabella Almeida|1996-12-22     |F   |AMIL    |Chácara Santos            |928.0 |Alto Barroca                 |Aragão de Porto     |PE    |Brasil|1980-08-16 19:01:44|\n",
            "|08145326915|Dra. Beatriz das Neves|1989-08-23     |F   |AMIL    |Feira João Gabriel Azevedo|104.0 |Ventosa                      |Martins             |MS    |Brasil|1987-02-04 00:03:35|\n",
            "|95120348750|Sabrina Cunha         |1988-08-24     |F   |AMIL    |Chácara Farias            |358.0 |Vila Nossa Senhora Do Rosário|Jesus de Minas      |PR    |Brasil|1983-09-07 00:04:53|\n",
            "|36420815762|Isis Alves            |1994-10-21     |F   |AMIL    |Colônia Alves             |922.0 |Granja Werneck               |Fernandes de Cardoso|RR    |Brasil|1991-04-30 16:12:41|\n",
            "|36958470184|Igor Alves            |2019-06-16     |M   |AMIL    |Viela Nicolas Aragão      |810.0 |Conjunto Santa Maria         |Freitas             |PB    |Brasil|2005-03-20 13:34:21|\n",
            "|79310584610|Gustavo Moreira       |1991-12-28     |M   |AMIL    |Alameda Fernanda Castro   |850.0 |São Jorge 3ª Seção           |Araújo              |PA    |Brasil|1978-06-09 10:38:03|\n",
            "|76024953143|João Lucas Souza      |1983-07-08     |M   |AMIL    |Estrada Pinto             |591.0 |Vista Do Sol                 |Nogueira            |SP    |Brasil|1979-09-02 20:50:49|\n",
            "|31607259877|Mariane Cardoso       |1999-06-24     |F   |AMIL    |Parque Santos             |52.0  |Vila Rica                    |da Paz              |PI    |Brasil|2021-01-18 11:45:41|\n",
            "|82751403662|Srta. Júlia Pinto     |1997-11-21     |F   |AMIL    |Vereda Campos             |905.0 |Lagoinha Leblon              |da Cunha            |MT    |Brasil|2003-07-13 15:06:14|\n",
            "|40358761271|Srta. Lorena Souza    |2019-10-24     |F   |AMIL    |Condomínio Ribeiro        |630.0 |Vista Alegre                 |Rezende da Prata    |AC    |Brasil|2022-09-07 01:14:30|\n",
            "|70952184630|Igor Carvalho         |2021-08-13     |M   |AMIL    |Viela de Azevedo          |887.0 |Piraja                       |da Rocha do Sul     |PE    |Brasil|1986-11-14 11:36:06|\n",
            "|78239145655|Enzo Gabriel Campos   |2003-05-30     |M   |AMIL    |Aeroporto de Farias       |849.0 |Bacurau                      |da Paz              |TO    |Brasil|1996-06-04 19:29:23|\n",
            "|90846571285|Raul Cardoso          |2019-09-23     |M   |AMIL    |Esplanada de Viana        |923.0 |Vila Formosa                 |Mendes              |MG    |Brasil|1975-11-08 15:09:27|\n",
            "|84576031244|Sra. Clarice Rodrigues|2014-12-31     |F   |AMIL    |Residencial de Fernandes  |769.0 |Garças                       |Moura               |SP    |Brasil|2013-03-18 20:54:27|\n",
            "|34650981298|Heitor Caldeira       |1978-09-22     |M   |AMIL    |Fazenda de Ferreira       |724.0 |Vila Ipiranga                |Lopes de da Mota    |MG    |Brasil|1973-10-04 18:43:43|\n",
            "+-----------+----------------------+---------------+----+--------+--------------------------+------+-----------------------------+--------------------+------+------+-------------------+\n",
            "only showing top 20 rows\n",
            "\n"
          ]
        }
      ],
      "source": [
        "df_csv_order = df_csv_order.withColumn('pais', regexp_replace('pais', 'Br', 'Brasil'))\n",
        "df_csv_order.show(truncate=False)"
      ]
    },
    {
      "cell_type": "markdown",
      "metadata": {
        "id": "D3zLhkWK-Yez"
      },
      "source": [
        "- Separando a data do horário pelo espaço na coluna 'timestamp' e criar a coluna 'data_cadastro'\n"
      ]
    },
    {
      "cell_type": "code",
      "execution_count": 40,
      "metadata": {
        "id": "ME0WjD5XHrgz"
      },
      "outputs": [],
      "source": [
        "df_csv_order = df_csv_order.withColumn('data_cadastro', col('timestamp').cast('date'))"
      ]
    },
    {
      "cell_type": "code",
      "execution_count": 41,
      "metadata": {
        "colab": {
          "base_uri": "https://localhost:8080/"
        },
        "id": "t0mf9FyEHt2q",
        "outputId": "0aecfae7-c374-4bf9-d7f6-012ad67efc94"
      },
      "outputs": [
        {
          "output_type": "stream",
          "name": "stdout",
          "text": [
            "+-----------+----------------------+---------------+----+--------+--------------------------+------+-----------------------------+--------------------+------+------+-------------------+-------------+\n",
            "|cpf        |nome_completo         |data_nascimento|sexo|convenio|logradouro                |numero|bairro                       |cidade              |estado|pais  |timestamp          |data_cadastro|\n",
            "+-----------+----------------------+---------------+----+--------+--------------------------+------+-----------------------------+--------------------+------+------+-------------------+-------------+\n",
            "|03687145271|Maria Cecília Duarte  |1989-11-02     |F   |AMIL    |Jardim Rodrigues          |335.0 |São Geraldo                  |Gonçalves           |CE    |Brasil|1970-07-28 10:05:02|1970-07-28   |\n",
            "|40791586375|Maria Cecília Alves   |1980-05-10     |F   |AMIL    |Viela de Ribeiro          |651.0 |Goiania                      |Rezende da Praia    |AP    |Brasil|1992-03-12 07:10:16|1992-03-12   |\n",
            "|52983647056|Laura Cardoso         |1997-09-02     |F   |AMIL    |Pátio Brenda Ribeiro      |64.0  |Acaiaca                      |Campos Grande       |PR    |Brasil|1977-01-03 07:55:38|1977-01-03   |\n",
            "|81267390530|Sophia Melo           |2018-04-24     |F   |AMIL    |Lagoa Kevin das Neves     |846.0 |Conjunto Celso Machado       |Fernandes           |RO    |Brasil|1981-03-05 15:27:34|1981-03-05   |\n",
            "|07935684200|Melissa da Costa      |1988-05-28     |F   |AMIL    |Pátio de Ribeiro          |385.0 |Pousada Santo Antonio        |da Mata             |MG    |Brasil|2011-10-08 20:37:40|2011-10-08   |\n",
            "|08526941720|Srta. Isabella Almeida|1996-12-22     |F   |AMIL    |Chácara Santos            |928.0 |Alto Barroca                 |Aragão de Porto     |PE    |Brasil|1980-08-16 19:01:44|1980-08-16   |\n",
            "|08145326915|Dra. Beatriz das Neves|1989-08-23     |F   |AMIL    |Feira João Gabriel Azevedo|104.0 |Ventosa                      |Martins             |MS    |Brasil|1987-02-04 00:03:35|1987-02-04   |\n",
            "|95120348750|Sabrina Cunha         |1988-08-24     |F   |AMIL    |Chácara Farias            |358.0 |Vila Nossa Senhora Do Rosário|Jesus de Minas      |PR    |Brasil|1983-09-07 00:04:53|1983-09-07   |\n",
            "|36420815762|Isis Alves            |1994-10-21     |F   |AMIL    |Colônia Alves             |922.0 |Granja Werneck               |Fernandes de Cardoso|RR    |Brasil|1991-04-30 16:12:41|1991-04-30   |\n",
            "|36958470184|Igor Alves            |2019-06-16     |M   |AMIL    |Viela Nicolas Aragão      |810.0 |Conjunto Santa Maria         |Freitas             |PB    |Brasil|2005-03-20 13:34:21|2005-03-20   |\n",
            "|79310584610|Gustavo Moreira       |1991-12-28     |M   |AMIL    |Alameda Fernanda Castro   |850.0 |São Jorge 3ª Seção           |Araújo              |PA    |Brasil|1978-06-09 10:38:03|1978-06-09   |\n",
            "|76024953143|João Lucas Souza      |1983-07-08     |M   |AMIL    |Estrada Pinto             |591.0 |Vista Do Sol                 |Nogueira            |SP    |Brasil|1979-09-02 20:50:49|1979-09-02   |\n",
            "|31607259877|Mariane Cardoso       |1999-06-24     |F   |AMIL    |Parque Santos             |52.0  |Vila Rica                    |da Paz              |PI    |Brasil|2021-01-18 11:45:41|2021-01-18   |\n",
            "|82751403662|Srta. Júlia Pinto     |1997-11-21     |F   |AMIL    |Vereda Campos             |905.0 |Lagoinha Leblon              |da Cunha            |MT    |Brasil|2003-07-13 15:06:14|2003-07-13   |\n",
            "|40358761271|Srta. Lorena Souza    |2019-10-24     |F   |AMIL    |Condomínio Ribeiro        |630.0 |Vista Alegre                 |Rezende da Prata    |AC    |Brasil|2022-09-07 01:14:30|2022-09-07   |\n",
            "|70952184630|Igor Carvalho         |2021-08-13     |M   |AMIL    |Viela de Azevedo          |887.0 |Piraja                       |da Rocha do Sul     |PE    |Brasil|1986-11-14 11:36:06|1986-11-14   |\n",
            "|78239145655|Enzo Gabriel Campos   |2003-05-30     |M   |AMIL    |Aeroporto de Farias       |849.0 |Bacurau                      |da Paz              |TO    |Brasil|1996-06-04 19:29:23|1996-06-04   |\n",
            "|90846571285|Raul Cardoso          |2019-09-23     |M   |AMIL    |Esplanada de Viana        |923.0 |Vila Formosa                 |Mendes              |MG    |Brasil|1975-11-08 15:09:27|1975-11-08   |\n",
            "|84576031244|Sra. Clarice Rodrigues|2014-12-31     |F   |AMIL    |Residencial de Fernandes  |769.0 |Garças                       |Moura               |SP    |Brasil|2013-03-18 20:54:27|2013-03-18   |\n",
            "|34650981298|Heitor Caldeira       |1978-09-22     |M   |AMIL    |Fazenda de Ferreira       |724.0 |Vila Ipiranga                |Lopes de da Mota    |MG    |Brasil|1973-10-04 18:43:43|1973-10-04   |\n",
            "+-----------+----------------------+---------------+----+--------+--------------------------+------+-----------------------------+--------------------+------+------+-------------------+-------------+\n",
            "only showing top 20 rows\n",
            "\n"
          ]
        }
      ],
      "source": [
        "df_csv_order.show(truncate=False)"
      ]
    },
    {
      "cell_type": "markdown",
      "source": [
        "- Modificando o tipo da coluna 'numero' de String para IntegerType"
      ],
      "metadata": {
        "id": "7Qi2ar5a_2xz"
      }
    },
    {
      "cell_type": "code",
      "execution_count": 42,
      "metadata": {
        "id": "whDNUHkiIg8j"
      },
      "outputs": [],
      "source": [
        "df_csv_order = df_csv_order.withColumn('numero', df_csv_order.numero.cast(IntegerType()))"
      ]
    },
    {
      "cell_type": "code",
      "execution_count": 43,
      "metadata": {
        "colab": {
          "base_uri": "https://localhost:8080/"
        },
        "id": "dDMufytwIlPO",
        "outputId": "887b1734-354a-476b-f810-57aa9ebadba2"
      },
      "outputs": [
        {
          "output_type": "stream",
          "name": "stdout",
          "text": [
            "root\n",
            " |-- cpf: string (nullable = true)\n",
            " |-- nome_completo: string (nullable = true)\n",
            " |-- data_nascimento: date (nullable = true)\n",
            " |-- sexo: string (nullable = true)\n",
            " |-- convenio: string (nullable = true)\n",
            " |-- logradouro: string (nullable = true)\n",
            " |-- numero: integer (nullable = true)\n",
            " |-- bairro: string (nullable = true)\n",
            " |-- cidade: string (nullable = true)\n",
            " |-- estado: string (nullable = true)\n",
            " |-- pais: string (nullable = true)\n",
            " |-- timestamp: string (nullable = true)\n",
            " |-- data_cadastro: date (nullable = true)\n",
            "\n"
          ]
        }
      ],
      "source": [
        "df_csv_order.printSchema()"
      ]
    },
    {
      "cell_type": "markdown",
      "metadata": {
        "id": "EoxDSHZ9Jc0d"
      },
      "source": [
        "O dataframe df_csv_order está ok, por enquanto, talvez mais tarde iremos a pagar a coluna timestamp."
      ]
    },
    {
      "cell_type": "markdown",
      "metadata": {
        "id": "ZgECCYySJotC"
      },
      "source": [
        "### Transformações do df_parque\n"
      ]
    },
    {
      "cell_type": "markdown",
      "metadata": {
        "id": "rxDxC6Y8Kj4-"
      },
      "source": [
        "- Trocando os valores da coluna sexo: <br>\n",
        "Fem -> F<br>\n",
        "Masc -> M"
      ]
    },
    {
      "cell_type": "code",
      "execution_count": 44,
      "metadata": {
        "id": "BSInGnbNJ8jO",
        "colab": {
          "base_uri": "https://localhost:8080/"
        },
        "outputId": "302ea28b-b7b8-408f-bfd7-b1722397fe59"
      },
      "outputs": [
        {
          "output_type": "stream",
          "name": "stdout",
          "text": [
            "+-----------+--------------------+---------------+----+------------+--------------------+------+--------------------+--------------------+------+------+-------------------+\n",
            "|        cpf|       nome_completo|data_nascimento|sexo|    convenio|          logradouro|numero|              bairro|              cidade|estado|  pais|          timestamp|\n",
            "+-----------+--------------------+---------------+----+------------+--------------------+------+--------------------+--------------------+------+------+-------------------+\n",
            "|39062841589|      Caroline Rocha|     1982-02-28|   F|  GoodHealth|        Trevo Santos|   773|         Vila Antena|             Cardoso|    AC|Brasil|1979-10-19T08:09:16|\n",
            "|36084795200|Dr. Luiz Otávio M...|     2020-09-04|   M|Porto Seguro| Trevo Mariana Alves|   184|         Marmiteiros|           Gonçalves|    AC|Brasil|2012-01-22T00:21:53|\n",
            "|41593207670|Srta. Emanuelly C...|     2011-10-28|   F|       Prata|  Residencial Mendes|   449|            Vila Puc|               Pinto|    AC|Brasil|2022-03-16T08:37:34|\n",
            "|02465378929|       Fernanda Dias|     1995-01-21|   F|  Sulamerica| Alameda de Carvalho|   912|         Santo André|       da Mata Verde|    AC|Brasil|1971-03-29T13:31:18|\n",
            "|13598746075|          Cauã Pires|     2020-09-03|   M|   SaudeMais|    Fazenda de Nunes|   002|       Alto Caiçaras|             Azevedo|    AC|Brasil|2020-01-04T12:02:59|\n",
            "|79123856068|     Danilo da Costa|     2003-06-16|   M|   SaudeMais|       Vereda Campos|   407|       Boa Esperança|            Ferreira|    AC|Brasil|2006-09-20T19:06:37|\n",
            "|89607521340|     Gabriela Novaes|     1986-09-22|   F|Porto Seguro|Passarela Heitor ...|   800|             Paraíso|       Mendes do Sul|    AC|Brasil|1987-12-31T20:48:24|\n",
            "|75138602977|   Ana Beatriz Porto|     1986-09-22|   F|        Itau|Pátio Davi Lucas ...|   686|              Europa|            Monteiro|    AC|Brasil|2006-04-17T19:43:05|\n",
            "|14576382071|     Rodrigo Martins|     1981-04-24|   M|       Prata|      Recanto Vieira|   223|         Vila Antena|               Rocha|    AC|Brasil|2013-04-06T03:19:28|\n",
            "|41729836500|          Davi Cunha|     1995-01-22|   M|         SUS|Residencial de da...|   847|          Beija Flor|      Gomes do Campo|    AC|Brasil|1972-11-15T17:44:20|\n",
            "|86705324171|        Nicolas Melo|     1971-10-04|   M|Porto Seguro|      Vila de Duarte|   416|          Santa Inês|              Farias|    AC|Brasil|1973-11-06T03:21:29|\n",
            "|56194320761|      Henrique Nunes|     1989-04-25|   M|    Bradesco|    Vereda de Duarte|   275|               Penha|Caldeira dos Dour...|    AC|Brasil|1978-12-03T04:51:57|\n",
            "|91045283797|    Cecília da Rocha|     1981-04-24|   F|        AMIL|       Vale de Pinto|   666|         Beira Linha|     da Cunha Alegre|    AC|Brasil|1998-05-12T12:57:39|\n",
            "|97640328500|       Cauê Oliveira|     2017-10-24|   M|        Gold|Sítio Fernando Ba...|   496|             Braúnas|               Rocha|    AC|Brasil|2021-05-12T15:59:55|\n",
            "|10368472507|     Ana Luiza Rocha|     1998-10-25|   F|    Bradesco| Morro Cecília Nunes|   209|               Oeste| Oliveira das Flores|    AC|Brasil|2017-12-06T23:47:02|\n",
            "|03974185666|      Heitor Costela|     2017-10-24|   M|  Sulamerica|Residencial de Sa...|   200|       Vila Satélite|     Almeida da Mata|    AC|Brasil|1970-07-23T14:14:26|\n",
            "|63517204943|Sr. Lucas Gabriel...|     2020-09-02|   M|         SUS|Alameda Laís Peixoto|   583|Jardim Dos Comerc...|            Monteiro|    AC|Brasil|2022-04-20T06:17:00|\n",
            "|43105682708|     Marcelo Costela|     1995-01-22|   M|    Bradesco|   Via Sabrina Alves|   077|             Marçola|            Teixeira|    AC|Brasil|1975-02-28T13:39:15|\n",
            "|86957134075|Maria Eduarda Mar...|     2003-06-16|   F|        Gold|    Avenida de Nunes|   170|         Santa Lúcia|    Teixeira da Mata|    AC|Brasil|1970-01-15T19:26:01|\n",
            "|48937651246|     Enrico Oliveira|     1986-09-22|   M|      Bronze| Alameda de Carvalho|   343|          Corumbiara|     Vieira do Campo|    AC|Brasil|1999-03-06T19:10:35|\n",
            "+-----------+--------------------+---------------+----+------------+--------------------+------+--------------------+--------------------+------+------+-------------------+\n",
            "only showing top 20 rows\n",
            "\n"
          ]
        }
      ],
      "source": [
        "df_parque_order = df_parque_order.withColumn('sexo', when(df_parque_order.sexo == 'Masc', 'M') \\\n",
        "      .when(df_parque_order.sexo == 'Fem','F') \\\n",
        "      .otherwise(df_parque_order.sexo))\n",
        "\n",
        "df_parque_order.show()"
      ]
    },
    {
      "cell_type": "markdown",
      "source": [
        "- Separando os nomes dos convênios Good Health e Saude Mais "
      ],
      "metadata": {
        "id": "B5u5Fu71SLfm"
      }
    },
    {
      "cell_type": "code",
      "source": [
        "df_parque_order = df_parque_order.withColumn('convenio', when(df_parque_order.convenio == 'GoodHealth', 'Good Health') \\\n",
        "      .when(df_parque_order.convenio == 'SaudeMais','Saude Mais') \\\n",
        "      .otherwise(df_parque_order.convenio))\n",
        "\n",
        "df_parque_order.show()"
      ],
      "metadata": {
        "colab": {
          "base_uri": "https://localhost:8080/"
        },
        "id": "ja9sQqkVSK4f",
        "outputId": "487927be-cd40-4edc-ed39-9caa39491f57"
      },
      "execution_count": 45,
      "outputs": [
        {
          "output_type": "stream",
          "name": "stdout",
          "text": [
            "+-----------+--------------------+---------------+----+------------+--------------------+------+--------------------+--------------------+------+------+-------------------+\n",
            "|        cpf|       nome_completo|data_nascimento|sexo|    convenio|          logradouro|numero|              bairro|              cidade|estado|  pais|          timestamp|\n",
            "+-----------+--------------------+---------------+----+------------+--------------------+------+--------------------+--------------------+------+------+-------------------+\n",
            "|39062841589|      Caroline Rocha|     1982-02-28|   F| Good Health|        Trevo Santos|   773|         Vila Antena|             Cardoso|    AC|Brasil|1979-10-19T08:09:16|\n",
            "|36084795200|Dr. Luiz Otávio M...|     2020-09-04|   M|Porto Seguro| Trevo Mariana Alves|   184|         Marmiteiros|           Gonçalves|    AC|Brasil|2012-01-22T00:21:53|\n",
            "|41593207670|Srta. Emanuelly C...|     2011-10-28|   F|       Prata|  Residencial Mendes|   449|            Vila Puc|               Pinto|    AC|Brasil|2022-03-16T08:37:34|\n",
            "|02465378929|       Fernanda Dias|     1995-01-21|   F|  Sulamerica| Alameda de Carvalho|   912|         Santo André|       da Mata Verde|    AC|Brasil|1971-03-29T13:31:18|\n",
            "|13598746075|          Cauã Pires|     2020-09-03|   M|  Saude Mais|    Fazenda de Nunes|   002|       Alto Caiçaras|             Azevedo|    AC|Brasil|2020-01-04T12:02:59|\n",
            "|79123856068|     Danilo da Costa|     2003-06-16|   M|  Saude Mais|       Vereda Campos|   407|       Boa Esperança|            Ferreira|    AC|Brasil|2006-09-20T19:06:37|\n",
            "|89607521340|     Gabriela Novaes|     1986-09-22|   F|Porto Seguro|Passarela Heitor ...|   800|             Paraíso|       Mendes do Sul|    AC|Brasil|1987-12-31T20:48:24|\n",
            "|75138602977|   Ana Beatriz Porto|     1986-09-22|   F|        Itau|Pátio Davi Lucas ...|   686|              Europa|            Monteiro|    AC|Brasil|2006-04-17T19:43:05|\n",
            "|14576382071|     Rodrigo Martins|     1981-04-24|   M|       Prata|      Recanto Vieira|   223|         Vila Antena|               Rocha|    AC|Brasil|2013-04-06T03:19:28|\n",
            "|41729836500|          Davi Cunha|     1995-01-22|   M|         SUS|Residencial de da...|   847|          Beija Flor|      Gomes do Campo|    AC|Brasil|1972-11-15T17:44:20|\n",
            "|86705324171|        Nicolas Melo|     1971-10-04|   M|Porto Seguro|      Vila de Duarte|   416|          Santa Inês|              Farias|    AC|Brasil|1973-11-06T03:21:29|\n",
            "|56194320761|      Henrique Nunes|     1989-04-25|   M|    Bradesco|    Vereda de Duarte|   275|               Penha|Caldeira dos Dour...|    AC|Brasil|1978-12-03T04:51:57|\n",
            "|91045283797|    Cecília da Rocha|     1981-04-24|   F|        AMIL|       Vale de Pinto|   666|         Beira Linha|     da Cunha Alegre|    AC|Brasil|1998-05-12T12:57:39|\n",
            "|97640328500|       Cauê Oliveira|     2017-10-24|   M|        Gold|Sítio Fernando Ba...|   496|             Braúnas|               Rocha|    AC|Brasil|2021-05-12T15:59:55|\n",
            "|10368472507|     Ana Luiza Rocha|     1998-10-25|   F|    Bradesco| Morro Cecília Nunes|   209|               Oeste| Oliveira das Flores|    AC|Brasil|2017-12-06T23:47:02|\n",
            "|03974185666|      Heitor Costela|     2017-10-24|   M|  Sulamerica|Residencial de Sa...|   200|       Vila Satélite|     Almeida da Mata|    AC|Brasil|1970-07-23T14:14:26|\n",
            "|63517204943|Sr. Lucas Gabriel...|     2020-09-02|   M|         SUS|Alameda Laís Peixoto|   583|Jardim Dos Comerc...|            Monteiro|    AC|Brasil|2022-04-20T06:17:00|\n",
            "|43105682708|     Marcelo Costela|     1995-01-22|   M|    Bradesco|   Via Sabrina Alves|   077|             Marçola|            Teixeira|    AC|Brasil|1975-02-28T13:39:15|\n",
            "|86957134075|Maria Eduarda Mar...|     2003-06-16|   F|        Gold|    Avenida de Nunes|   170|         Santa Lúcia|    Teixeira da Mata|    AC|Brasil|1970-01-15T19:26:01|\n",
            "|48937651246|     Enrico Oliveira|     1986-09-22|   M|      Bronze| Alameda de Carvalho|   343|          Corumbiara|     Vieira do Campo|    AC|Brasil|1999-03-06T19:10:35|\n",
            "+-----------+--------------------+---------------+----+------------+--------------------+------+--------------------+--------------------+------+------+-------------------+\n",
            "only showing top 20 rows\n",
            "\n"
          ]
        }
      ]
    },
    {
      "cell_type": "markdown",
      "metadata": {
        "id": "lwmS4uXlLISX"
      },
      "source": [
        "- Separando a data do horário pelo espaço na coluna 'timestamp' e criar a coluna 'data_cadastro'"
      ]
    },
    {
      "cell_type": "code",
      "execution_count": 46,
      "metadata": {
        "colab": {
          "base_uri": "https://localhost:8080/"
        },
        "id": "tO2PxvUDLKfS",
        "outputId": "9c67bf06-9cd6-4634-c746-afdebd43b9b4"
      },
      "outputs": [
        {
          "output_type": "stream",
          "name": "stdout",
          "text": [
            "+-----------+--------------------+---------------+----+------------+--------------------+------+--------------------+--------------------+------+------+-------------------+-------------+\n",
            "|        cpf|       nome_completo|data_nascimento|sexo|    convenio|          logradouro|numero|              bairro|              cidade|estado|  pais|          timestamp|data_cadastro|\n",
            "+-----------+--------------------+---------------+----+------------+--------------------+------+--------------------+--------------------+------+------+-------------------+-------------+\n",
            "|39062841589|      Caroline Rocha|     1982-02-28|   F| Good Health|        Trevo Santos|   773|         Vila Antena|             Cardoso|    AC|Brasil|1979-10-19T08:09:16|   1979-10-19|\n",
            "|36084795200|Dr. Luiz Otávio M...|     2020-09-04|   M|Porto Seguro| Trevo Mariana Alves|   184|         Marmiteiros|           Gonçalves|    AC|Brasil|2012-01-22T00:21:53|   2012-01-22|\n",
            "|41593207670|Srta. Emanuelly C...|     2011-10-28|   F|       Prata|  Residencial Mendes|   449|            Vila Puc|               Pinto|    AC|Brasil|2022-03-16T08:37:34|   2022-03-16|\n",
            "|02465378929|       Fernanda Dias|     1995-01-21|   F|  Sulamerica| Alameda de Carvalho|   912|         Santo André|       da Mata Verde|    AC|Brasil|1971-03-29T13:31:18|   1971-03-29|\n",
            "|13598746075|          Cauã Pires|     2020-09-03|   M|  Saude Mais|    Fazenda de Nunes|   002|       Alto Caiçaras|             Azevedo|    AC|Brasil|2020-01-04T12:02:59|   2020-01-04|\n",
            "|79123856068|     Danilo da Costa|     2003-06-16|   M|  Saude Mais|       Vereda Campos|   407|       Boa Esperança|            Ferreira|    AC|Brasil|2006-09-20T19:06:37|   2006-09-20|\n",
            "|89607521340|     Gabriela Novaes|     1986-09-22|   F|Porto Seguro|Passarela Heitor ...|   800|             Paraíso|       Mendes do Sul|    AC|Brasil|1987-12-31T20:48:24|   1987-12-31|\n",
            "|75138602977|   Ana Beatriz Porto|     1986-09-22|   F|        Itau|Pátio Davi Lucas ...|   686|              Europa|            Monteiro|    AC|Brasil|2006-04-17T19:43:05|   2006-04-17|\n",
            "|14576382071|     Rodrigo Martins|     1981-04-24|   M|       Prata|      Recanto Vieira|   223|         Vila Antena|               Rocha|    AC|Brasil|2013-04-06T03:19:28|   2013-04-06|\n",
            "|41729836500|          Davi Cunha|     1995-01-22|   M|         SUS|Residencial de da...|   847|          Beija Flor|      Gomes do Campo|    AC|Brasil|1972-11-15T17:44:20|   1972-11-15|\n",
            "|86705324171|        Nicolas Melo|     1971-10-04|   M|Porto Seguro|      Vila de Duarte|   416|          Santa Inês|              Farias|    AC|Brasil|1973-11-06T03:21:29|   1973-11-06|\n",
            "|56194320761|      Henrique Nunes|     1989-04-25|   M|    Bradesco|    Vereda de Duarte|   275|               Penha|Caldeira dos Dour...|    AC|Brasil|1978-12-03T04:51:57|   1978-12-03|\n",
            "|91045283797|    Cecília da Rocha|     1981-04-24|   F|        AMIL|       Vale de Pinto|   666|         Beira Linha|     da Cunha Alegre|    AC|Brasil|1998-05-12T12:57:39|   1998-05-12|\n",
            "|97640328500|       Cauê Oliveira|     2017-10-24|   M|        Gold|Sítio Fernando Ba...|   496|             Braúnas|               Rocha|    AC|Brasil|2021-05-12T15:59:55|   2021-05-12|\n",
            "|10368472507|     Ana Luiza Rocha|     1998-10-25|   F|    Bradesco| Morro Cecília Nunes|   209|               Oeste| Oliveira das Flores|    AC|Brasil|2017-12-06T23:47:02|   2017-12-06|\n",
            "|03974185666|      Heitor Costela|     2017-10-24|   M|  Sulamerica|Residencial de Sa...|   200|       Vila Satélite|     Almeida da Mata|    AC|Brasil|1970-07-23T14:14:26|   1970-07-23|\n",
            "|63517204943|Sr. Lucas Gabriel...|     2020-09-02|   M|         SUS|Alameda Laís Peixoto|   583|Jardim Dos Comerc...|            Monteiro|    AC|Brasil|2022-04-20T06:17:00|   2022-04-20|\n",
            "|43105682708|     Marcelo Costela|     1995-01-22|   M|    Bradesco|   Via Sabrina Alves|   077|             Marçola|            Teixeira|    AC|Brasil|1975-02-28T13:39:15|   1975-02-28|\n",
            "|86957134075|Maria Eduarda Mar...|     2003-06-16|   F|        Gold|    Avenida de Nunes|   170|         Santa Lúcia|    Teixeira da Mata|    AC|Brasil|1970-01-15T19:26:01|   1970-01-15|\n",
            "|48937651246|     Enrico Oliveira|     1986-09-22|   M|      Bronze| Alameda de Carvalho|   343|          Corumbiara|     Vieira do Campo|    AC|Brasil|1999-03-06T19:10:35|   1999-03-06|\n",
            "+-----------+--------------------+---------------+----+------------+--------------------+------+--------------------+--------------------+------+------+-------------------+-------------+\n",
            "only showing top 20 rows\n",
            "\n"
          ]
        }
      ],
      "source": [
        "df_parque_order = df_parque_order.withColumn('data_cadastro', col('timestamp').cast('date'))\n",
        "\n",
        "df_parque_order.show()"
      ]
    },
    {
      "cell_type": "markdown",
      "source": [
        "- Modificando o tipo da coluna 'numero' de String para IntegerType"
      ],
      "metadata": {
        "id": "hguFxViXBv-j"
      }
    },
    {
      "cell_type": "code",
      "execution_count": 47,
      "metadata": {
        "id": "EcHU8NjpLeJy"
      },
      "outputs": [],
      "source": [
        "df_parque_order = df_parque_order.withColumn('numero', df_parque_order.numero.cast(IntegerType()))"
      ]
    },
    {
      "cell_type": "markdown",
      "source": [
        "- Modificando o tipo da coluna data_nascimento de String para date"
      ],
      "metadata": {
        "id": "_iGktvL7B1kp"
      }
    },
    {
      "cell_type": "code",
      "execution_count": null,
      "metadata": {
        "id": "Fmfr8xETMeg5"
      },
      "outputs": [],
      "source": [
        "df_parque_order = df_parque_order.withColumn('data_nascimento', df_parque_order.data_nascimento.cast(DateType()))"
      ]
    },
    {
      "cell_type": "code",
      "execution_count": 48,
      "metadata": {
        "colab": {
          "base_uri": "https://localhost:8080/"
        },
        "id": "IKLLygesMn-C",
        "outputId": "8de657e1-cca7-4779-e67e-c88fe5a79170"
      },
      "outputs": [
        {
          "output_type": "stream",
          "name": "stdout",
          "text": [
            "root\n",
            " |-- cpf: string (nullable = true)\n",
            " |-- nome_completo: string (nullable = true)\n",
            " |-- data_nascimento: string (nullable = true)\n",
            " |-- sexo: string (nullable = true)\n",
            " |-- convenio: string (nullable = true)\n",
            " |-- logradouro: string (nullable = true)\n",
            " |-- numero: integer (nullable = true)\n",
            " |-- bairro: string (nullable = true)\n",
            " |-- cidade: string (nullable = true)\n",
            " |-- estado: string (nullable = true)\n",
            " |-- pais: string (nullable = true)\n",
            " |-- timestamp: string (nullable = true)\n",
            " |-- data_cadastro: date (nullable = true)\n",
            "\n"
          ]
        }
      ],
      "source": [
        "df_parque_order.printSchema()"
      ]
    },
    {
      "cell_type": "code",
      "execution_count": 49,
      "metadata": {
        "colab": {
          "base_uri": "https://localhost:8080/"
        },
        "id": "I1spt9w2Iw_b",
        "outputId": "5425dbe2-9c45-4358-d0d8-6bd3dca05716"
      },
      "outputs": [
        {
          "output_type": "stream",
          "name": "stdout",
          "text": [
            "+-----------+--------------------+---------------+----+------------+--------------------+------+--------------------+--------------------+------+------+-------------------+-------------+\n",
            "|        cpf|       nome_completo|data_nascimento|sexo|    convenio|          logradouro|numero|              bairro|              cidade|estado|  pais|          timestamp|data_cadastro|\n",
            "+-----------+--------------------+---------------+----+------------+--------------------+------+--------------------+--------------------+------+------+-------------------+-------------+\n",
            "|39062841589|      Caroline Rocha|     1982-02-28|   F| Good Health|        Trevo Santos|   773|         Vila Antena|             Cardoso|    AC|Brasil|1979-10-19T08:09:16|   1979-10-19|\n",
            "|36084795200|Dr. Luiz Otávio M...|     2020-09-04|   M|Porto Seguro| Trevo Mariana Alves|   184|         Marmiteiros|           Gonçalves|    AC|Brasil|2012-01-22T00:21:53|   2012-01-22|\n",
            "|41593207670|Srta. Emanuelly C...|     2011-10-28|   F|       Prata|  Residencial Mendes|   449|            Vila Puc|               Pinto|    AC|Brasil|2022-03-16T08:37:34|   2022-03-16|\n",
            "|02465378929|       Fernanda Dias|     1995-01-21|   F|  Sulamerica| Alameda de Carvalho|   912|         Santo André|       da Mata Verde|    AC|Brasil|1971-03-29T13:31:18|   1971-03-29|\n",
            "|13598746075|          Cauã Pires|     2020-09-03|   M|  Saude Mais|    Fazenda de Nunes|     2|       Alto Caiçaras|             Azevedo|    AC|Brasil|2020-01-04T12:02:59|   2020-01-04|\n",
            "|79123856068|     Danilo da Costa|     2003-06-16|   M|  Saude Mais|       Vereda Campos|   407|       Boa Esperança|            Ferreira|    AC|Brasil|2006-09-20T19:06:37|   2006-09-20|\n",
            "|89607521340|     Gabriela Novaes|     1986-09-22|   F|Porto Seguro|Passarela Heitor ...|   800|             Paraíso|       Mendes do Sul|    AC|Brasil|1987-12-31T20:48:24|   1987-12-31|\n",
            "|75138602977|   Ana Beatriz Porto|     1986-09-22|   F|        Itau|Pátio Davi Lucas ...|   686|              Europa|            Monteiro|    AC|Brasil|2006-04-17T19:43:05|   2006-04-17|\n",
            "|14576382071|     Rodrigo Martins|     1981-04-24|   M|       Prata|      Recanto Vieira|   223|         Vila Antena|               Rocha|    AC|Brasil|2013-04-06T03:19:28|   2013-04-06|\n",
            "|41729836500|          Davi Cunha|     1995-01-22|   M|         SUS|Residencial de da...|   847|          Beija Flor|      Gomes do Campo|    AC|Brasil|1972-11-15T17:44:20|   1972-11-15|\n",
            "|86705324171|        Nicolas Melo|     1971-10-04|   M|Porto Seguro|      Vila de Duarte|   416|          Santa Inês|              Farias|    AC|Brasil|1973-11-06T03:21:29|   1973-11-06|\n",
            "|56194320761|      Henrique Nunes|     1989-04-25|   M|    Bradesco|    Vereda de Duarte|   275|               Penha|Caldeira dos Dour...|    AC|Brasil|1978-12-03T04:51:57|   1978-12-03|\n",
            "|91045283797|    Cecília da Rocha|     1981-04-24|   F|        AMIL|       Vale de Pinto|   666|         Beira Linha|     da Cunha Alegre|    AC|Brasil|1998-05-12T12:57:39|   1998-05-12|\n",
            "|97640328500|       Cauê Oliveira|     2017-10-24|   M|        Gold|Sítio Fernando Ba...|   496|             Braúnas|               Rocha|    AC|Brasil|2021-05-12T15:59:55|   2021-05-12|\n",
            "|10368472507|     Ana Luiza Rocha|     1998-10-25|   F|    Bradesco| Morro Cecília Nunes|   209|               Oeste| Oliveira das Flores|    AC|Brasil|2017-12-06T23:47:02|   2017-12-06|\n",
            "|03974185666|      Heitor Costela|     2017-10-24|   M|  Sulamerica|Residencial de Sa...|   200|       Vila Satélite|     Almeida da Mata|    AC|Brasil|1970-07-23T14:14:26|   1970-07-23|\n",
            "|63517204943|Sr. Lucas Gabriel...|     2020-09-02|   M|         SUS|Alameda Laís Peixoto|   583|Jardim Dos Comerc...|            Monteiro|    AC|Brasil|2022-04-20T06:17:00|   2022-04-20|\n",
            "|43105682708|     Marcelo Costela|     1995-01-22|   M|    Bradesco|   Via Sabrina Alves|    77|             Marçola|            Teixeira|    AC|Brasil|1975-02-28T13:39:15|   1975-02-28|\n",
            "|86957134075|Maria Eduarda Mar...|     2003-06-16|   F|        Gold|    Avenida de Nunes|   170|         Santa Lúcia|    Teixeira da Mata|    AC|Brasil|1970-01-15T19:26:01|   1970-01-15|\n",
            "|48937651246|     Enrico Oliveira|     1986-09-22|   M|      Bronze| Alameda de Carvalho|   343|          Corumbiara|     Vieira do Campo|    AC|Brasil|1999-03-06T19:10:35|   1999-03-06|\n",
            "+-----------+--------------------+---------------+----+------------+--------------------+------+--------------------+--------------------+------+------+-------------------+-------------+\n",
            "only showing top 20 rows\n",
            "\n"
          ]
        }
      ],
      "source": [
        "df_parque_order.show()"
      ]
    },
    {
      "cell_type": "markdown",
      "source": [
        "- Verificando se todos os estados estão em forma abreviada e padronizando os que não estão"
      ],
      "metadata": {
        "id": "SJl6VQ5XCGIY"
      }
    },
    {
      "cell_type": "code",
      "source": [
        "df_parque_order.groupBy(\"estado\").count().sort(asc(\"estado\")).show()"
      ],
      "metadata": {
        "colab": {
          "base_uri": "https://localhost:8080/"
        },
        "id": "d5lXy03B8mPb",
        "outputId": "8f7a5e65-f29b-4853-84f6-9fcd6d66c408"
      },
      "execution_count": 50,
      "outputs": [
        {
          "output_type": "stream",
          "name": "stdout",
          "text": [
            "+------+-----+\n",
            "|estado|count|\n",
            "+------+-----+\n",
            "|    AC|36552|\n",
            "|    AL|36609|\n",
            "|    AM|36531|\n",
            "|    AP|36565|\n",
            "|    BA|36626|\n",
            "| Ceará|73149|\n",
            "|    DF|36775|\n",
            "|    ES|36603|\n",
            "|    GO|36520|\n",
            "|    MA|36956|\n",
            "|    MG|36741|\n",
            "|    MS|36557|\n",
            "|    MT|36803|\n",
            "|    PA|36676|\n",
            "|    PB|36488|\n",
            "|    PE|36576|\n",
            "|    PI|36871|\n",
            "|    PR|36658|\n",
            "|    RJ|36545|\n",
            "|    RO|36935|\n",
            "+------+-----+\n",
            "only showing top 20 rows\n",
            "\n"
          ]
        }
      ]
    },
    {
      "cell_type": "code",
      "source": [
        "# Renomeando o nome do estado 'Ceará' para modo abreviado\n",
        "\n",
        "df_parque_order = df_parque_order.withColumn('estado', when(df_parque_order.estado == 'Ceará', 'CE').otherwise(df_parque_order.estado))\n"
      ],
      "metadata": {
        "id": "NfBctqe08-QT"
      },
      "execution_count": 51,
      "outputs": []
    },
    {
      "cell_type": "code",
      "source": [
        "df_parque_order.groupBy(\"estado\").count().sort(asc(\"estado\")).show()"
      ],
      "metadata": {
        "colab": {
          "base_uri": "https://localhost:8080/"
        },
        "id": "O1khHhXS-9FD",
        "outputId": "6ff20e63-68c0-452b-c361-ea517bdbdc44"
      },
      "execution_count": 52,
      "outputs": [
        {
          "output_type": "stream",
          "name": "stdout",
          "text": [
            "+------+-----+\n",
            "|estado|count|\n",
            "+------+-----+\n",
            "|    AC|36552|\n",
            "|    AL|36609|\n",
            "|    AM|36531|\n",
            "|    AP|36565|\n",
            "|    BA|36626|\n",
            "|    CE|73149|\n",
            "|    DF|36775|\n",
            "|    ES|36603|\n",
            "|    GO|36520|\n",
            "|    MA|36956|\n",
            "|    MG|36741|\n",
            "|    MS|36557|\n",
            "|    MT|36803|\n",
            "|    PA|36676|\n",
            "|    PB|36488|\n",
            "|    PE|36576|\n",
            "|    PI|36871|\n",
            "|    PR|36658|\n",
            "|    RJ|36545|\n",
            "|    RO|36935|\n",
            "+------+-----+\n",
            "only showing top 20 rows\n",
            "\n"
          ]
        }
      ]
    },
    {
      "cell_type": "code",
      "source": [
        "df_parque_order.show()"
      ],
      "metadata": {
        "colab": {
          "base_uri": "https://localhost:8080/"
        },
        "id": "_YkKMLFfDQRy",
        "outputId": "6d864e16-9fb1-4e42-aa83-cd459be3d228"
      },
      "execution_count": 53,
      "outputs": [
        {
          "output_type": "stream",
          "name": "stdout",
          "text": [
            "+-----------+--------------------+---------------+----+------------+--------------------+------+--------------------+--------------------+------+------+-------------------+-------------+\n",
            "|        cpf|       nome_completo|data_nascimento|sexo|    convenio|          logradouro|numero|              bairro|              cidade|estado|  pais|          timestamp|data_cadastro|\n",
            "+-----------+--------------------+---------------+----+------------+--------------------+------+--------------------+--------------------+------+------+-------------------+-------------+\n",
            "|39062841589|      Caroline Rocha|     1982-02-28|   F| Good Health|        Trevo Santos|   773|         Vila Antena|             Cardoso|    AC|Brasil|1979-10-19T08:09:16|   1979-10-19|\n",
            "|36084795200|Dr. Luiz Otávio M...|     2020-09-04|   M|Porto Seguro| Trevo Mariana Alves|   184|         Marmiteiros|           Gonçalves|    AC|Brasil|2012-01-22T00:21:53|   2012-01-22|\n",
            "|41593207670|Srta. Emanuelly C...|     2011-10-28|   F|       Prata|  Residencial Mendes|   449|            Vila Puc|               Pinto|    AC|Brasil|2022-03-16T08:37:34|   2022-03-16|\n",
            "|02465378929|       Fernanda Dias|     1995-01-21|   F|  Sulamerica| Alameda de Carvalho|   912|         Santo André|       da Mata Verde|    AC|Brasil|1971-03-29T13:31:18|   1971-03-29|\n",
            "|13598746075|          Cauã Pires|     2020-09-03|   M|  Saude Mais|    Fazenda de Nunes|     2|       Alto Caiçaras|             Azevedo|    AC|Brasil|2020-01-04T12:02:59|   2020-01-04|\n",
            "|79123856068|     Danilo da Costa|     2003-06-16|   M|  Saude Mais|       Vereda Campos|   407|       Boa Esperança|            Ferreira|    AC|Brasil|2006-09-20T19:06:37|   2006-09-20|\n",
            "|89607521340|     Gabriela Novaes|     1986-09-22|   F|Porto Seguro|Passarela Heitor ...|   800|             Paraíso|       Mendes do Sul|    AC|Brasil|1987-12-31T20:48:24|   1987-12-31|\n",
            "|75138602977|   Ana Beatriz Porto|     1986-09-22|   F|        Itau|Pátio Davi Lucas ...|   686|              Europa|            Monteiro|    AC|Brasil|2006-04-17T19:43:05|   2006-04-17|\n",
            "|14576382071|     Rodrigo Martins|     1981-04-24|   M|       Prata|      Recanto Vieira|   223|         Vila Antena|               Rocha|    AC|Brasil|2013-04-06T03:19:28|   2013-04-06|\n",
            "|41729836500|          Davi Cunha|     1995-01-22|   M|         SUS|Residencial de da...|   847|          Beija Flor|      Gomes do Campo|    AC|Brasil|1972-11-15T17:44:20|   1972-11-15|\n",
            "|86705324171|        Nicolas Melo|     1971-10-04|   M|Porto Seguro|      Vila de Duarte|   416|          Santa Inês|              Farias|    AC|Brasil|1973-11-06T03:21:29|   1973-11-06|\n",
            "|56194320761|      Henrique Nunes|     1989-04-25|   M|    Bradesco|    Vereda de Duarte|   275|               Penha|Caldeira dos Dour...|    AC|Brasil|1978-12-03T04:51:57|   1978-12-03|\n",
            "|91045283797|    Cecília da Rocha|     1981-04-24|   F|        AMIL|       Vale de Pinto|   666|         Beira Linha|     da Cunha Alegre|    AC|Brasil|1998-05-12T12:57:39|   1998-05-12|\n",
            "|97640328500|       Cauê Oliveira|     2017-10-24|   M|        Gold|Sítio Fernando Ba...|   496|             Braúnas|               Rocha|    AC|Brasil|2021-05-12T15:59:55|   2021-05-12|\n",
            "|10368472507|     Ana Luiza Rocha|     1998-10-25|   F|    Bradesco| Morro Cecília Nunes|   209|               Oeste| Oliveira das Flores|    AC|Brasil|2017-12-06T23:47:02|   2017-12-06|\n",
            "|03974185666|      Heitor Costela|     2017-10-24|   M|  Sulamerica|Residencial de Sa...|   200|       Vila Satélite|     Almeida da Mata|    AC|Brasil|1970-07-23T14:14:26|   1970-07-23|\n",
            "|63517204943|Sr. Lucas Gabriel...|     2020-09-02|   M|         SUS|Alameda Laís Peixoto|   583|Jardim Dos Comerc...|            Monteiro|    AC|Brasil|2022-04-20T06:17:00|   2022-04-20|\n",
            "|43105682708|     Marcelo Costela|     1995-01-22|   M|    Bradesco|   Via Sabrina Alves|    77|             Marçola|            Teixeira|    AC|Brasil|1975-02-28T13:39:15|   1975-02-28|\n",
            "|86957134075|Maria Eduarda Mar...|     2003-06-16|   F|        Gold|    Avenida de Nunes|   170|         Santa Lúcia|    Teixeira da Mata|    AC|Brasil|1970-01-15T19:26:01|   1970-01-15|\n",
            "|48937651246|     Enrico Oliveira|     1986-09-22|   M|      Bronze| Alameda de Carvalho|   343|          Corumbiara|     Vieira do Campo|    AC|Brasil|1999-03-06T19:10:35|   1999-03-06|\n",
            "+-----------+--------------------+---------------+----+------------+--------------------+------+--------------------+--------------------+------+------+-------------------+-------------+\n",
            "only showing top 20 rows\n",
            "\n"
          ]
        }
      ]
    },
    {
      "cell_type": "markdown",
      "metadata": {
        "id": "QiMY1lULQ8ab"
      },
      "source": [
        "### Transformações no df_json"
      ]
    },
    {
      "cell_type": "markdown",
      "source": [
        "- Separando os nomes dos convênios Good Health e Saude Mais"
      ],
      "metadata": {
        "id": "9Y0wAY7KSr70"
      }
    },
    {
      "cell_type": "code",
      "source": [
        "df_json_order = df_json_order.withColumn('convenio', when(df_json_order.convenio == 'GoodHealth', 'Good Health') \\\n",
        "      .when(df_json_order.convenio == 'SaudeMais','Saude Mais') \\\n",
        "      .otherwise(df_json_order.convenio))\n",
        "\n",
        "df_json_order.show()"
      ],
      "metadata": {
        "colab": {
          "base_uri": "https://localhost:8080/"
        },
        "id": "8OggvQYWSrYU",
        "outputId": "5538eb90-054a-4534-b3da-77bef1c4db96"
      },
      "execution_count": 54,
      "outputs": [
        {
          "output_type": "stream",
          "name": "stdout",
          "text": [
            "+-----------+--------------------+------------------+----+--------+--------------------+------+--------------------+-------------------+------------------+----+-------------+\n",
            "|        cpf|       nome_completo|   data_nascimento|sexo|convenio|          logradouro|numero|              bairro|             cidade|            estado|pais|    timestamp|\n",
            "+-----------+--------------------+------------------+----+--------+--------------------+------+--------------------+-------------------+------------------+----+-------------+\n",
            "|57369120821|         Ryan Santos|   August 26, 2017|   M|    AMIL|      Largo de Viana|   886|Vila Madre Gertru...|     Ribeiro Grande|             Amapá|    | 817032248000|\n",
            "|52093674106|     Juliana Correia|  January 30, 2023|   F|    AMIL|  Rodovia Nina Alves|   545|               Havaí|Caldeira das Flores|Mato Grosso do Sul|    |1009317437000|\n",
            "|01269843524|   Juliana Rodrigues|  January 06, 1979|   F|    AMIL|         Rua Peixoto|   728|            Caiçaras|            Barbosa|         São Paulo|    | 511111127000|\n",
            "|54186097267|      Letícia Novaes|      May 01, 2008|   F|    AMIL|         Setor Costa|   794|  São Jorge 3ª Seção|         Cavalcanti|         Tocantins|    | 387761682000|\n",
            "|53240967847|        Evelyn Moura|September 17, 1981|   F|    AMIL|Vale Ana Sophia d...|   196|       São Sebastião|            da Cruz|           Paraíba|    | 682956806000|\n",
            "|21953487041|      Mariana Barros|    March 29, 1973|   F|    AMIL|Travessa Catarina...|   963|       Nova Pampulha|             Barros|            Paraná|    |1222310576000|\n",
            "|58297316068|  Sr. Danilo da Rosa|   August 13, 1987|   M|    AMIL|  Estação de Barbosa|   789|Vila Primeiro De ...|da Cunha de da Mota|    Rio de Janeiro|    | 733837342000|\n",
            "|76349081269|Carlos Eduardo Viana|     June 01, 2013|   M|    AMIL|Distrito Rebeca C...|   705|             Miramar|  Moraes de Freitas|            Paraná|    |1636486360000|\n",
            "|19042735805|      Mariana Fogaça|    April 29, 1985|   F|    AMIL| Lagoa Sarah Cardoso|   962|      Vila Aeroporto|    Almeida da Mata|        Pernambuco|    | 649774552000|\n",
            "|35812497079|  Luiz Henrique Lima|     June 20, 1992|   M|    AMIL|Avenida Benjamin ...|   209|        Vila Inestan|  Silveira do Norte|            Paraná|    |1168663441000|\n",
            "|65129378482|      Eduarda Castro| December 03, 1974|   F|    AMIL|Passarela Cavalcanti|   217|  Boa União 1ª Seção|          das Neves|           Paraíba|    |  75408605000|\n",
            "|93845720123|Dr. Pedro Miguel ...|  October 15, 2006|   M|    AMIL| Sítio Rafael da Luz|   996|               Horto|     Gomes da Prata|    Rio de Janeiro|    |1071034980000|\n",
            "|89265173068|      Marina Peixoto|    March 21, 2009|   F|    AMIL|Aeroporto Ana Car...|   987|  Vila São Francisco|da Cunha das Flores|Mato Grosso do Sul|    |1531962008000|\n",
            "|19354867057|      Lucas Ferreira|    April 14, 1986|   M|    AMIL|       Recanto Alves|   681|      Alto Vera Cruz|     Pereira do Sul| Rio Grande do Sul|    | 341261472000|\n",
            "|15024963725|    Pedro Nascimento|  October 04, 2017|   M|    AMIL| Pátio Emanuel Porto|   150|             Cardoso|              Ramos| Rio Grande do Sul|    | 112869456000|\n",
            "|79854120694|    Giovanna Cardoso|September 21, 1995|   F|    AMIL|Setor de da Conce...|    57|             Lindéia|   Ferreira da Mata|       Mato Grosso|    | 586782035000|\n",
            "|75830691493|         Maitê Sales|September 09, 2007|   F|    AMIL| Vereda Danilo Costa|   654|     Santo Agostinho|    Farias de Goiás|  Distrito Federal|    |  29714204000|\n",
            "|93568714264|      Sr. Juan Pires|September 11, 2022|   M|    AMIL| Lagoa Joana Martins|   592|  Vila Santo Antônio|             da Paz|             Amapá|    |1423170865000|\n",
            "|76405839184|       Kaique da Luz|  January 19, 2010|   M|    AMIL|  Passarela Monteiro|    29|            Flamengo|             Vieira|           Alagoas|    | 685889544000|\n",
            "|34127658053|      Lucca Oliveira|   August 27, 2010|   M|    AMIL|  Feira Brenda Jesus|   666|              Canadá| Rodrigues do Norte|            Paraná|    |1370438856000|\n",
            "+-----------+--------------------+------------------+----+--------+--------------------+------+--------------------+-------------------+------------------+----+-------------+\n",
            "only showing top 20 rows\n",
            "\n"
          ]
        }
      ]
    },
    {
      "cell_type": "markdown",
      "source": [
        "- Transformar a coluna 'data_nascimento' para o formato ano-mes-dia"
      ],
      "metadata": {
        "id": "OrL2HqZWDEl8"
      }
    },
    {
      "cell_type": "code",
      "execution_count": 55,
      "metadata": {
        "id": "-6vTxyCYuq9a",
        "colab": {
          "base_uri": "https://localhost:8080/"
        },
        "outputId": "1797b87e-3ecb-4e86-86ce-715b0041c52a"
      },
      "outputs": [
        {
          "output_type": "stream",
          "name": "stdout",
          "text": [
            "+-----------+--------------------+---------------+----+--------+--------------------+------+--------------------+-------------------+------------------+----+-------------+\n",
            "|        cpf|       nome_completo|data_nascimento|sexo|convenio|          logradouro|numero|              bairro|             cidade|            estado|pais|    timestamp|\n",
            "+-----------+--------------------+---------------+----+--------+--------------------+------+--------------------+-------------------+------------------+----+-------------+\n",
            "|57369120821|         Ryan Santos|     2017-08-26|   M|    AMIL|      Largo de Viana|   886|Vila Madre Gertru...|     Ribeiro Grande|             Amapá|    | 817032248000|\n",
            "|52093674106|     Juliana Correia|     2023-01-30|   F|    AMIL|  Rodovia Nina Alves|   545|               Havaí|Caldeira das Flores|Mato Grosso do Sul|    |1009317437000|\n",
            "|01269843524|   Juliana Rodrigues|     1979-01-06|   F|    AMIL|         Rua Peixoto|   728|            Caiçaras|            Barbosa|         São Paulo|    | 511111127000|\n",
            "|54186097267|      Letícia Novaes|     2008-05-01|   F|    AMIL|         Setor Costa|   794|  São Jorge 3ª Seção|         Cavalcanti|         Tocantins|    | 387761682000|\n",
            "|53240967847|        Evelyn Moura|     1981-09-17|   F|    AMIL|Vale Ana Sophia d...|   196|       São Sebastião|            da Cruz|           Paraíba|    | 682956806000|\n",
            "|21953487041|      Mariana Barros|     1973-03-29|   F|    AMIL|Travessa Catarina...|   963|       Nova Pampulha|             Barros|            Paraná|    |1222310576000|\n",
            "|58297316068|  Sr. Danilo da Rosa|     1987-08-13|   M|    AMIL|  Estação de Barbosa|   789|Vila Primeiro De ...|da Cunha de da Mota|    Rio de Janeiro|    | 733837342000|\n",
            "|76349081269|Carlos Eduardo Viana|     2013-06-01|   M|    AMIL|Distrito Rebeca C...|   705|             Miramar|  Moraes de Freitas|            Paraná|    |1636486360000|\n",
            "|19042735805|      Mariana Fogaça|     1985-04-29|   F|    AMIL| Lagoa Sarah Cardoso|   962|      Vila Aeroporto|    Almeida da Mata|        Pernambuco|    | 649774552000|\n",
            "|35812497079|  Luiz Henrique Lima|     1992-06-20|   M|    AMIL|Avenida Benjamin ...|   209|        Vila Inestan|  Silveira do Norte|            Paraná|    |1168663441000|\n",
            "|65129378482|      Eduarda Castro|     1974-12-03|   F|    AMIL|Passarela Cavalcanti|   217|  Boa União 1ª Seção|          das Neves|           Paraíba|    |  75408605000|\n",
            "|93845720123|Dr. Pedro Miguel ...|     2006-10-15|   M|    AMIL| Sítio Rafael da Luz|   996|               Horto|     Gomes da Prata|    Rio de Janeiro|    |1071034980000|\n",
            "|89265173068|      Marina Peixoto|     2009-03-21|   F|    AMIL|Aeroporto Ana Car...|   987|  Vila São Francisco|da Cunha das Flores|Mato Grosso do Sul|    |1531962008000|\n",
            "|19354867057|      Lucas Ferreira|     1986-04-14|   M|    AMIL|       Recanto Alves|   681|      Alto Vera Cruz|     Pereira do Sul| Rio Grande do Sul|    | 341261472000|\n",
            "|15024963725|    Pedro Nascimento|     2017-10-04|   M|    AMIL| Pátio Emanuel Porto|   150|             Cardoso|              Ramos| Rio Grande do Sul|    | 112869456000|\n",
            "|79854120694|    Giovanna Cardoso|     1995-09-21|   F|    AMIL|Setor de da Conce...|    57|             Lindéia|   Ferreira da Mata|       Mato Grosso|    | 586782035000|\n",
            "|75830691493|         Maitê Sales|     2007-09-09|   F|    AMIL| Vereda Danilo Costa|   654|     Santo Agostinho|    Farias de Goiás|  Distrito Federal|    |  29714204000|\n",
            "|93568714264|      Sr. Juan Pires|     2022-09-11|   M|    AMIL| Lagoa Joana Martins|   592|  Vila Santo Antônio|             da Paz|             Amapá|    |1423170865000|\n",
            "|76405839184|       Kaique da Luz|     2010-01-19|   M|    AMIL|  Passarela Monteiro|    29|            Flamengo|             Vieira|           Alagoas|    | 685889544000|\n",
            "|34127658053|      Lucca Oliveira|     2010-08-27|   M|    AMIL|  Feira Brenda Jesus|   666|              Canadá| Rodrigues do Norte|            Paraná|    |1370438856000|\n",
            "+-----------+--------------------+---------------+----+--------+--------------------+------+--------------------+-------------------+------------------+----+-------------+\n",
            "only showing top 20 rows\n",
            "\n"
          ]
        }
      ],
      "source": [
        "df_json_order = df_json_order.withColumn(\"data_nascimento\",to_date(\"data_nascimento\",\"MMMM dd, yyyy\"))\n",
        "\n",
        "df_json_order.show()"
      ]
    },
    {
      "cell_type": "code",
      "execution_count": 56,
      "metadata": {
        "id": "Z-wsXAUgvdGG",
        "colab": {
          "base_uri": "https://localhost:8080/"
        },
        "outputId": "01ad8136-a53f-40a6-a042-806d60a31eb2"
      },
      "outputs": [
        {
          "output_type": "stream",
          "name": "stdout",
          "text": [
            "root\n",
            " |-- cpf: string (nullable = true)\n",
            " |-- nome_completo: string (nullable = true)\n",
            " |-- data_nascimento: date (nullable = true)\n",
            " |-- sexo: string (nullable = true)\n",
            " |-- convenio: string (nullable = true)\n",
            " |-- logradouro: string (nullable = true)\n",
            " |-- numero: long (nullable = true)\n",
            " |-- bairro: string (nullable = true)\n",
            " |-- cidade: string (nullable = true)\n",
            " |-- estado: string (nullable = true)\n",
            " |-- pais: string (nullable = true)\n",
            " |-- timestamp: long (nullable = true)\n",
            "\n"
          ]
        }
      ],
      "source": [
        "df_json_order.printSchema()"
      ]
    },
    {
      "cell_type": "markdown",
      "source": [
        "- Convertendo a coluna timestamp no formato long para o formato date"
      ],
      "metadata": {
        "id": "HIuKzy9pDXbB"
      }
    },
    {
      "cell_type": "code",
      "execution_count": 57,
      "metadata": {
        "id": "II499jYb42AV"
      },
      "outputs": [],
      "source": [
        "# Importando as bibliotecas\n",
        "from pyspark.sql import functions as f\n",
        "from pyspark.sql.functions import col, lit\n",
        "from datetime import datetime"
      ]
    },
    {
      "cell_type": "code",
      "execution_count": 58,
      "metadata": {
        "id": "vBnslQF3245S",
        "colab": {
          "base_uri": "https://localhost:8080/"
        },
        "outputId": "b8c24cb4-cc51-4062-93f8-44327ce7a1af"
      },
      "outputs": [
        {
          "output_type": "stream",
          "name": "stdout",
          "text": [
            "+-----------+--------------------+---------------+----+--------+--------------------+------+--------------------+-------------------+------------------+----+-------------------+\n",
            "|        cpf|       nome_completo|data_nascimento|sexo|convenio|          logradouro|numero|              bairro|             cidade|            estado|pais|          timestamp|\n",
            "+-----------+--------------------+---------------+----+--------+--------------------+------+--------------------+-------------------+------------------+----+-------------------+\n",
            "|57369120821|         Ryan Santos|     2017-08-26|   M|    AMIL|      Largo de Viana|   886|Vila Madre Gertru...|     Ribeiro Grande|             Amapá|    |1995-11-22 09:24:08|\n",
            "|52093674106|     Juliana Correia|     2023-01-30|   F|    AMIL|  Rodovia Nina Alves|   545|               Havaí|Caldeira das Flores|Mato Grosso do Sul|    |2001-12-25 21:57:17|\n",
            "|01269843524|   Juliana Rodrigues|     1979-01-06|   F|    AMIL|         Rua Peixoto|   728|            Caiçaras|            Barbosa|         São Paulo|    |1986-03-13 15:18:47|\n",
            "|54186097267|      Letícia Novaes|     2008-05-01|   F|    AMIL|         Setor Costa|   794|  São Jorge 3ª Seção|         Cavalcanti|         Tocantins|    |1982-04-15 23:34:42|\n",
            "|53240967847|        Evelyn Moura|     1981-09-17|   F|    AMIL|Vale Ana Sophia d...|   196|       São Sebastião|            da Cruz|           Paraíba|    |1991-08-23 14:13:26|\n",
            "|21953487041|      Mariana Barros|     1973-03-29|   F|    AMIL|Travessa Catarina...|   963|       Nova Pampulha|             Barros|            Paraná|    |2008-09-25 02:42:56|\n",
            "|58297316068|  Sr. Danilo da Rosa|     1987-08-13|   M|    AMIL|  Estação de Barbosa|   789|Vila Primeiro De ...|da Cunha de da Mota|    Rio de Janeiro|    |1993-04-03 11:42:22|\n",
            "|76349081269|Carlos Eduardo Viana|     2013-06-01|   M|    AMIL|Distrito Rebeca C...|   705|             Miramar|  Moraes de Freitas|            Paraná|    |2021-11-09 19:32:40|\n",
            "|19042735805|      Mariana Fogaça|     1985-04-29|   F|    AMIL| Lagoa Sarah Cardoso|   962|      Vila Aeroporto|    Almeida da Mata|        Pernambuco|    |1990-08-04 12:55:52|\n",
            "|35812497079|  Luiz Henrique Lima|     1992-06-20|   M|    AMIL|Avenida Benjamin ...|   209|        Vila Inestan|  Silveira do Norte|            Paraná|    |2007-01-13 04:44:01|\n",
            "|65129378482|      Eduarda Castro|     1974-12-03|   F|    AMIL|Passarela Cavalcanti|   217|  Boa União 1ª Seção|          das Neves|           Paraíba|    |1972-05-22 18:50:05|\n",
            "|93845720123|Dr. Pedro Miguel ...|     2006-10-15|   M|    AMIL| Sítio Rafael da Luz|   996|               Horto|     Gomes da Prata|    Rio de Janeiro|    |2003-12-10 05:43:00|\n",
            "|89265173068|      Marina Peixoto|     2009-03-21|   F|    AMIL|Aeroporto Ana Car...|   987|  Vila São Francisco|da Cunha das Flores|Mato Grosso do Sul|    |2018-07-19 01:00:08|\n",
            "|19354867057|      Lucas Ferreira|     1986-04-14|   M|    AMIL|       Recanto Alves|   681|      Alto Vera Cruz|     Pereira do Sul| Rio Grande do Sul|    |1980-10-24 18:51:12|\n",
            "|15024963725|    Pedro Nascimento|     2017-10-04|   M|    AMIL| Pátio Emanuel Porto|   150|             Cardoso|              Ramos| Rio Grande do Sul|    |1973-07-30 08:37:36|\n",
            "|79854120694|    Giovanna Cardoso|     1995-09-21|   F|    AMIL|Setor de da Conce...|    57|             Lindéia|   Ferreira da Mata|       Mato Grosso|    |1988-08-05 11:00:35|\n",
            "|75830691493|         Maitê Sales|     2007-09-09|   F|    AMIL| Vereda Danilo Costa|   654|     Santo Agostinho|    Farias de Goiás|  Distrito Federal|    |1970-12-10 21:56:44|\n",
            "|93568714264|      Sr. Juan Pires|     2022-09-11|   M|    AMIL| Lagoa Joana Martins|   592|  Vila Santo Antônio|             da Paz|             Amapá|    |2015-02-05 21:14:25|\n",
            "|76405839184|       Kaique da Luz|     2010-01-19|   M|    AMIL|  Passarela Monteiro|    29|            Flamengo|             Vieira|           Alagoas|    |1991-09-26 12:52:24|\n",
            "|34127658053|      Lucca Oliveira|     2010-08-27|   M|    AMIL|  Feira Brenda Jesus|   666|              Canadá| Rodrigues do Norte|            Paraná|    |2013-06-05 13:27:36|\n",
            "+-----------+--------------------+---------------+----+--------+--------------------+------+--------------------+-------------------+------------------+----+-------------------+\n",
            "only showing top 20 rows\n",
            "\n"
          ]
        }
      ],
      "source": [
        "# Convertendo a coluna timestamp no formato long para o formato date\n",
        "\n",
        "df_json_order = df_json_order.withColumn(\"timestamp\",f.to_timestamp(df_json_order['timestamp']/1000))\n",
        "df_json_order.show()"
      ]
    },
    {
      "cell_type": "markdown",
      "source": [
        "- Modificando o tipo da coluna data_nascimento de String para date"
      ],
      "metadata": {
        "id": "vedi5bzmDvxl"
      }
    },
    {
      "cell_type": "code",
      "execution_count": 59,
      "metadata": {
        "id": "C8eCaYTY5IAA",
        "colab": {
          "base_uri": "https://localhost:8080/"
        },
        "outputId": "ce4f7971-ec57-4bbd-ff88-18cc90a0b22e"
      },
      "outputs": [
        {
          "output_type": "stream",
          "name": "stdout",
          "text": [
            "+-----------+--------------------+---------------+----+--------+--------------------+------+--------------------+-------------------+------------------+----+-------------------+-------------+\n",
            "|        cpf|       nome_completo|data_nascimento|sexo|convenio|          logradouro|numero|              bairro|             cidade|            estado|pais|          timestamp|data_cadastro|\n",
            "+-----------+--------------------+---------------+----+--------+--------------------+------+--------------------+-------------------+------------------+----+-------------------+-------------+\n",
            "|57369120821|         Ryan Santos|     2017-08-26|   M|    AMIL|      Largo de Viana|   886|Vila Madre Gertru...|     Ribeiro Grande|             Amapá|    |1995-11-22 09:24:08|   1995-11-22|\n",
            "|52093674106|     Juliana Correia|     2023-01-30|   F|    AMIL|  Rodovia Nina Alves|   545|               Havaí|Caldeira das Flores|Mato Grosso do Sul|    |2001-12-25 21:57:17|   2001-12-25|\n",
            "|01269843524|   Juliana Rodrigues|     1979-01-06|   F|    AMIL|         Rua Peixoto|   728|            Caiçaras|            Barbosa|         São Paulo|    |1986-03-13 15:18:47|   1986-03-13|\n",
            "|54186097267|      Letícia Novaes|     2008-05-01|   F|    AMIL|         Setor Costa|   794|  São Jorge 3ª Seção|         Cavalcanti|         Tocantins|    |1982-04-15 23:34:42|   1982-04-15|\n",
            "|53240967847|        Evelyn Moura|     1981-09-17|   F|    AMIL|Vale Ana Sophia d...|   196|       São Sebastião|            da Cruz|           Paraíba|    |1991-08-23 14:13:26|   1991-08-23|\n",
            "|21953487041|      Mariana Barros|     1973-03-29|   F|    AMIL|Travessa Catarina...|   963|       Nova Pampulha|             Barros|            Paraná|    |2008-09-25 02:42:56|   2008-09-25|\n",
            "|58297316068|  Sr. Danilo da Rosa|     1987-08-13|   M|    AMIL|  Estação de Barbosa|   789|Vila Primeiro De ...|da Cunha de da Mota|    Rio de Janeiro|    |1993-04-03 11:42:22|   1993-04-03|\n",
            "|76349081269|Carlos Eduardo Viana|     2013-06-01|   M|    AMIL|Distrito Rebeca C...|   705|             Miramar|  Moraes de Freitas|            Paraná|    |2021-11-09 19:32:40|   2021-11-09|\n",
            "|19042735805|      Mariana Fogaça|     1985-04-29|   F|    AMIL| Lagoa Sarah Cardoso|   962|      Vila Aeroporto|    Almeida da Mata|        Pernambuco|    |1990-08-04 12:55:52|   1990-08-04|\n",
            "|35812497079|  Luiz Henrique Lima|     1992-06-20|   M|    AMIL|Avenida Benjamin ...|   209|        Vila Inestan|  Silveira do Norte|            Paraná|    |2007-01-13 04:44:01|   2007-01-13|\n",
            "|65129378482|      Eduarda Castro|     1974-12-03|   F|    AMIL|Passarela Cavalcanti|   217|  Boa União 1ª Seção|          das Neves|           Paraíba|    |1972-05-22 18:50:05|   1972-05-22|\n",
            "|93845720123|Dr. Pedro Miguel ...|     2006-10-15|   M|    AMIL| Sítio Rafael da Luz|   996|               Horto|     Gomes da Prata|    Rio de Janeiro|    |2003-12-10 05:43:00|   2003-12-10|\n",
            "|89265173068|      Marina Peixoto|     2009-03-21|   F|    AMIL|Aeroporto Ana Car...|   987|  Vila São Francisco|da Cunha das Flores|Mato Grosso do Sul|    |2018-07-19 01:00:08|   2018-07-19|\n",
            "|19354867057|      Lucas Ferreira|     1986-04-14|   M|    AMIL|       Recanto Alves|   681|      Alto Vera Cruz|     Pereira do Sul| Rio Grande do Sul|    |1980-10-24 18:51:12|   1980-10-24|\n",
            "|15024963725|    Pedro Nascimento|     2017-10-04|   M|    AMIL| Pátio Emanuel Porto|   150|             Cardoso|              Ramos| Rio Grande do Sul|    |1973-07-30 08:37:36|   1973-07-30|\n",
            "|79854120694|    Giovanna Cardoso|     1995-09-21|   F|    AMIL|Setor de da Conce...|    57|             Lindéia|   Ferreira da Mata|       Mato Grosso|    |1988-08-05 11:00:35|   1988-08-05|\n",
            "|75830691493|         Maitê Sales|     2007-09-09|   F|    AMIL| Vereda Danilo Costa|   654|     Santo Agostinho|    Farias de Goiás|  Distrito Federal|    |1970-12-10 21:56:44|   1970-12-10|\n",
            "|93568714264|      Sr. Juan Pires|     2022-09-11|   M|    AMIL| Lagoa Joana Martins|   592|  Vila Santo Antônio|             da Paz|             Amapá|    |2015-02-05 21:14:25|   2015-02-05|\n",
            "|76405839184|       Kaique da Luz|     2010-01-19|   M|    AMIL|  Passarela Monteiro|    29|            Flamengo|             Vieira|           Alagoas|    |1991-09-26 12:52:24|   1991-09-26|\n",
            "|34127658053|      Lucca Oliveira|     2010-08-27|   M|    AMIL|  Feira Brenda Jesus|   666|              Canadá| Rodrigues do Norte|            Paraná|    |2013-06-05 13:27:36|   2013-06-05|\n",
            "+-----------+--------------------+---------------+----+--------+--------------------+------+--------------------+-------------------+------------------+----+-------------------+-------------+\n",
            "only showing top 20 rows\n",
            "\n"
          ]
        }
      ],
      "source": [
        "df_json_order = df_json_order.withColumn('data_cadastro', col('timestamp').cast('date'))\n",
        "\n",
        "df_json_order.show()"
      ]
    },
    {
      "cell_type": "markdown",
      "source": [
        "- Completando a coluna 'pais' com Brasil"
      ],
      "metadata": {
        "id": "xwoBiU-CDhLZ"
      }
    },
    {
      "cell_type": "code",
      "execution_count": 60,
      "metadata": {
        "id": "31Ua1xCuJH-R"
      },
      "outputs": [],
      "source": [
        "df_json_order = df_json_order.withColumn('pais', lit('Brasil').cast(StringType()))"
      ]
    },
    {
      "cell_type": "code",
      "execution_count": 61,
      "metadata": {
        "id": "GdI0ISKAJium",
        "colab": {
          "base_uri": "https://localhost:8080/"
        },
        "outputId": "de5ec257-236a-45f2-8a56-84c28c4f3c40"
      },
      "outputs": [
        {
          "output_type": "stream",
          "name": "stdout",
          "text": [
            "+-----------+--------------------+---------------+----+--------+--------------------+------+--------------------+-------------------+------------------+------+-------------------+-------------+\n",
            "|        cpf|       nome_completo|data_nascimento|sexo|convenio|          logradouro|numero|              bairro|             cidade|            estado|  pais|          timestamp|data_cadastro|\n",
            "+-----------+--------------------+---------------+----+--------+--------------------+------+--------------------+-------------------+------------------+------+-------------------+-------------+\n",
            "|57369120821|         Ryan Santos|     2017-08-26|   M|    AMIL|      Largo de Viana|   886|Vila Madre Gertru...|     Ribeiro Grande|             Amapá|Brasil|1995-11-22 09:24:08|   1995-11-22|\n",
            "|52093674106|     Juliana Correia|     2023-01-30|   F|    AMIL|  Rodovia Nina Alves|   545|               Havaí|Caldeira das Flores|Mato Grosso do Sul|Brasil|2001-12-25 21:57:17|   2001-12-25|\n",
            "|01269843524|   Juliana Rodrigues|     1979-01-06|   F|    AMIL|         Rua Peixoto|   728|            Caiçaras|            Barbosa|         São Paulo|Brasil|1986-03-13 15:18:47|   1986-03-13|\n",
            "|54186097267|      Letícia Novaes|     2008-05-01|   F|    AMIL|         Setor Costa|   794|  São Jorge 3ª Seção|         Cavalcanti|         Tocantins|Brasil|1982-04-15 23:34:42|   1982-04-15|\n",
            "|53240967847|        Evelyn Moura|     1981-09-17|   F|    AMIL|Vale Ana Sophia d...|   196|       São Sebastião|            da Cruz|           Paraíba|Brasil|1991-08-23 14:13:26|   1991-08-23|\n",
            "|21953487041|      Mariana Barros|     1973-03-29|   F|    AMIL|Travessa Catarina...|   963|       Nova Pampulha|             Barros|            Paraná|Brasil|2008-09-25 02:42:56|   2008-09-25|\n",
            "|58297316068|  Sr. Danilo da Rosa|     1987-08-13|   M|    AMIL|  Estação de Barbosa|   789|Vila Primeiro De ...|da Cunha de da Mota|    Rio de Janeiro|Brasil|1993-04-03 11:42:22|   1993-04-03|\n",
            "|76349081269|Carlos Eduardo Viana|     2013-06-01|   M|    AMIL|Distrito Rebeca C...|   705|             Miramar|  Moraes de Freitas|            Paraná|Brasil|2021-11-09 19:32:40|   2021-11-09|\n",
            "|19042735805|      Mariana Fogaça|     1985-04-29|   F|    AMIL| Lagoa Sarah Cardoso|   962|      Vila Aeroporto|    Almeida da Mata|        Pernambuco|Brasil|1990-08-04 12:55:52|   1990-08-04|\n",
            "|35812497079|  Luiz Henrique Lima|     1992-06-20|   M|    AMIL|Avenida Benjamin ...|   209|        Vila Inestan|  Silveira do Norte|            Paraná|Brasil|2007-01-13 04:44:01|   2007-01-13|\n",
            "|65129378482|      Eduarda Castro|     1974-12-03|   F|    AMIL|Passarela Cavalcanti|   217|  Boa União 1ª Seção|          das Neves|           Paraíba|Brasil|1972-05-22 18:50:05|   1972-05-22|\n",
            "|93845720123|Dr. Pedro Miguel ...|     2006-10-15|   M|    AMIL| Sítio Rafael da Luz|   996|               Horto|     Gomes da Prata|    Rio de Janeiro|Brasil|2003-12-10 05:43:00|   2003-12-10|\n",
            "|89265173068|      Marina Peixoto|     2009-03-21|   F|    AMIL|Aeroporto Ana Car...|   987|  Vila São Francisco|da Cunha das Flores|Mato Grosso do Sul|Brasil|2018-07-19 01:00:08|   2018-07-19|\n",
            "|19354867057|      Lucas Ferreira|     1986-04-14|   M|    AMIL|       Recanto Alves|   681|      Alto Vera Cruz|     Pereira do Sul| Rio Grande do Sul|Brasil|1980-10-24 18:51:12|   1980-10-24|\n",
            "|15024963725|    Pedro Nascimento|     2017-10-04|   M|    AMIL| Pátio Emanuel Porto|   150|             Cardoso|              Ramos| Rio Grande do Sul|Brasil|1973-07-30 08:37:36|   1973-07-30|\n",
            "|79854120694|    Giovanna Cardoso|     1995-09-21|   F|    AMIL|Setor de da Conce...|    57|             Lindéia|   Ferreira da Mata|       Mato Grosso|Brasil|1988-08-05 11:00:35|   1988-08-05|\n",
            "|75830691493|         Maitê Sales|     2007-09-09|   F|    AMIL| Vereda Danilo Costa|   654|     Santo Agostinho|    Farias de Goiás|  Distrito Federal|Brasil|1970-12-10 21:56:44|   1970-12-10|\n",
            "|93568714264|      Sr. Juan Pires|     2022-09-11|   M|    AMIL| Lagoa Joana Martins|   592|  Vila Santo Antônio|             da Paz|             Amapá|Brasil|2015-02-05 21:14:25|   2015-02-05|\n",
            "|76405839184|       Kaique da Luz|     2010-01-19|   M|    AMIL|  Passarela Monteiro|    29|            Flamengo|             Vieira|           Alagoas|Brasil|1991-09-26 12:52:24|   1991-09-26|\n",
            "|34127658053|      Lucca Oliveira|     2010-08-27|   M|    AMIL|  Feira Brenda Jesus|   666|              Canadá| Rodrigues do Norte|            Paraná|Brasil|2013-06-05 13:27:36|   2013-06-05|\n",
            "+-----------+--------------------+---------------+----+--------+--------------------+------+--------------------+-------------------+------------------+------+-------------------+-------------+\n",
            "only showing top 20 rows\n",
            "\n"
          ]
        }
      ],
      "source": [
        "df_json_order.show()"
      ]
    },
    {
      "cell_type": "markdown",
      "source": [
        "- Renomeando os nomes dos estados para para o formato abreviado"
      ],
      "metadata": {
        "id": "tGS7ft85D2eO"
      }
    },
    {
      "cell_type": "code",
      "execution_count": 62,
      "metadata": {
        "id": "yWWE-0lrOwnR"
      },
      "outputs": [],
      "source": [
        "df_json_order = df_json_order.withColumn('estado', \n",
        "      when(df_json_order.estado == 'Acre', 'AC') \\\n",
        "      .when(df_json_order.estado == 'Alagoas', 'AL') \\\n",
        "      .when(df_json_order.estado == 'Amapá', 'AP') \\\n",
        "      .when(df_json_order.estado == 'Amazonas', 'AM') \\\n",
        "      .when(df_json_order.estado == 'Bahia', 'BA') \\\n",
        "      .when(df_json_order.estado == 'Ceará', 'CE') \\\n",
        "      .when(df_json_order.estado == 'Distrito Federal', 'DF') \\\n",
        "      .when(df_json_order.estado == 'Espirito Santo', 'ES') \\\n",
        "      .when(df_json_order.estado == 'Goiás', 'GO') \\\n",
        "      .when(df_json_order.estado == 'Maranhão', 'MA') \\\n",
        "      .when(df_json_order.estado == 'Mato Grosso do Sul', 'MS') \\\n",
        "      .when(df_json_order.estado == 'Mato Grosso', 'MT') \\\n",
        "      .when(df_json_order.estado == 'Minas Gerais', 'MG') \\\n",
        "      .when(df_json_order.estado == 'Pará', 'PA') \\\n",
        "      .when(df_json_order.estado == 'Paraíba', 'PB') \\\n",
        "      .when(df_json_order.estado == 'Paraná', 'PR') \\\n",
        "      .when(df_json_order.estado == 'Pernambuco', 'PE') \\\n",
        "      .when(df_json_order.estado == 'Piauí', 'PI') \\\n",
        "      .when(df_json_order.estado == 'Rio de Janeiro', 'RJ') \\\n",
        "      .when(df_json_order.estado == 'Rio Grande do Norte', 'RN') \\\n",
        "      .when(df_json_order.estado == 'Rio Grande do Sul', 'RS') \\\n",
        "      .when(df_json_order.estado == 'Rondônia', 'RO') \\\n",
        "      .when(df_json_order.estado == 'Roraima', 'RR') \\\n",
        "      .when(df_json_order.estado == 'Santa Catarina', 'SC') \\\n",
        "      .when(df_json_order.estado == 'São Paulo', 'SP') \\\n",
        "      .when(df_json_order.estado == 'Sergipe', 'SE') \\\n",
        "      .when(df_json_order.estado == 'Tocantins', 'TO') \\\n",
        "      .otherwise(df_json_order.estado))\n"
      ]
    },
    {
      "cell_type": "code",
      "execution_count": 63,
      "metadata": {
        "id": "60Y4f02jQvzq",
        "colab": {
          "base_uri": "https://localhost:8080/"
        },
        "outputId": "7259932a-3059-437e-b07c-5c86af5d566e"
      },
      "outputs": [
        {
          "output_type": "stream",
          "name": "stdout",
          "text": [
            "+-----------+--------------------+---------------+----+--------+--------------------+------+--------------------+-------------------+------+------+-------------------+-------------+\n",
            "|        cpf|       nome_completo|data_nascimento|sexo|convenio|          logradouro|numero|              bairro|             cidade|estado|  pais|          timestamp|data_cadastro|\n",
            "+-----------+--------------------+---------------+----+--------+--------------------+------+--------------------+-------------------+------+------+-------------------+-------------+\n",
            "|57369120821|         Ryan Santos|     2017-08-26|   M|    AMIL|      Largo de Viana|   886|Vila Madre Gertru...|     Ribeiro Grande|    AP|Brasil|1995-11-22 09:24:08|   1995-11-22|\n",
            "|52093674106|     Juliana Correia|     2023-01-30|   F|    AMIL|  Rodovia Nina Alves|   545|               Havaí|Caldeira das Flores|    MS|Brasil|2001-12-25 21:57:17|   2001-12-25|\n",
            "|01269843524|   Juliana Rodrigues|     1979-01-06|   F|    AMIL|         Rua Peixoto|   728|            Caiçaras|            Barbosa|    SP|Brasil|1986-03-13 15:18:47|   1986-03-13|\n",
            "|54186097267|      Letícia Novaes|     2008-05-01|   F|    AMIL|         Setor Costa|   794|  São Jorge 3ª Seção|         Cavalcanti|    TO|Brasil|1982-04-15 23:34:42|   1982-04-15|\n",
            "|53240967847|        Evelyn Moura|     1981-09-17|   F|    AMIL|Vale Ana Sophia d...|   196|       São Sebastião|            da Cruz|    PB|Brasil|1991-08-23 14:13:26|   1991-08-23|\n",
            "|21953487041|      Mariana Barros|     1973-03-29|   F|    AMIL|Travessa Catarina...|   963|       Nova Pampulha|             Barros|    PR|Brasil|2008-09-25 02:42:56|   2008-09-25|\n",
            "|58297316068|  Sr. Danilo da Rosa|     1987-08-13|   M|    AMIL|  Estação de Barbosa|   789|Vila Primeiro De ...|da Cunha de da Mota|    RJ|Brasil|1993-04-03 11:42:22|   1993-04-03|\n",
            "|76349081269|Carlos Eduardo Viana|     2013-06-01|   M|    AMIL|Distrito Rebeca C...|   705|             Miramar|  Moraes de Freitas|    PR|Brasil|2021-11-09 19:32:40|   2021-11-09|\n",
            "|19042735805|      Mariana Fogaça|     1985-04-29|   F|    AMIL| Lagoa Sarah Cardoso|   962|      Vila Aeroporto|    Almeida da Mata|    PE|Brasil|1990-08-04 12:55:52|   1990-08-04|\n",
            "|35812497079|  Luiz Henrique Lima|     1992-06-20|   M|    AMIL|Avenida Benjamin ...|   209|        Vila Inestan|  Silveira do Norte|    PR|Brasil|2007-01-13 04:44:01|   2007-01-13|\n",
            "|65129378482|      Eduarda Castro|     1974-12-03|   F|    AMIL|Passarela Cavalcanti|   217|  Boa União 1ª Seção|          das Neves|    PB|Brasil|1972-05-22 18:50:05|   1972-05-22|\n",
            "|93845720123|Dr. Pedro Miguel ...|     2006-10-15|   M|    AMIL| Sítio Rafael da Luz|   996|               Horto|     Gomes da Prata|    RJ|Brasil|2003-12-10 05:43:00|   2003-12-10|\n",
            "|89265173068|      Marina Peixoto|     2009-03-21|   F|    AMIL|Aeroporto Ana Car...|   987|  Vila São Francisco|da Cunha das Flores|    MS|Brasil|2018-07-19 01:00:08|   2018-07-19|\n",
            "|19354867057|      Lucas Ferreira|     1986-04-14|   M|    AMIL|       Recanto Alves|   681|      Alto Vera Cruz|     Pereira do Sul|    RS|Brasil|1980-10-24 18:51:12|   1980-10-24|\n",
            "|15024963725|    Pedro Nascimento|     2017-10-04|   M|    AMIL| Pátio Emanuel Porto|   150|             Cardoso|              Ramos|    RS|Brasil|1973-07-30 08:37:36|   1973-07-30|\n",
            "|79854120694|    Giovanna Cardoso|     1995-09-21|   F|    AMIL|Setor de da Conce...|    57|             Lindéia|   Ferreira da Mata|    MT|Brasil|1988-08-05 11:00:35|   1988-08-05|\n",
            "|75830691493|         Maitê Sales|     2007-09-09|   F|    AMIL| Vereda Danilo Costa|   654|     Santo Agostinho|    Farias de Goiás|    DF|Brasil|1970-12-10 21:56:44|   1970-12-10|\n",
            "|93568714264|      Sr. Juan Pires|     2022-09-11|   M|    AMIL| Lagoa Joana Martins|   592|  Vila Santo Antônio|             da Paz|    AP|Brasil|2015-02-05 21:14:25|   2015-02-05|\n",
            "|76405839184|       Kaique da Luz|     2010-01-19|   M|    AMIL|  Passarela Monteiro|    29|            Flamengo|             Vieira|    AL|Brasil|1991-09-26 12:52:24|   1991-09-26|\n",
            "|34127658053|      Lucca Oliveira|     2010-08-27|   M|    AMIL|  Feira Brenda Jesus|   666|              Canadá| Rodrigues do Norte|    PR|Brasil|2013-06-05 13:27:36|   2013-06-05|\n",
            "+-----------+--------------------+---------------+----+--------+--------------------+------+--------------------+-------------------+------+------+-------------------+-------------+\n",
            "only showing top 20 rows\n",
            "\n"
          ]
        }
      ],
      "source": [
        "df_json_order.show()"
      ]
    },
    {
      "cell_type": "markdown",
      "source": [
        "- Modificando o tipo da coluna número de long para Int"
      ],
      "metadata": {
        "id": "LHaB-E9QEQuV"
      }
    },
    {
      "cell_type": "code",
      "execution_count": 64,
      "metadata": {
        "id": "XAEhWHdrUdKo"
      },
      "outputs": [],
      "source": [
        "df_json_order = df_json_order.withColumn('numero', df_json_order.numero.cast(IntegerType()))"
      ]
    },
    {
      "cell_type": "markdown",
      "source": [
        "- Verificando se todas as colunas estão com o foramto correto"
      ],
      "metadata": {
        "id": "Jn3dgvrbEeKv"
      }
    },
    {
      "cell_type": "code",
      "execution_count": 65,
      "metadata": {
        "id": "wROTDwWxUzgZ",
        "colab": {
          "base_uri": "https://localhost:8080/"
        },
        "outputId": "4eaff885-8000-41fb-a711-91f5b6cffd5f"
      },
      "outputs": [
        {
          "output_type": "stream",
          "name": "stdout",
          "text": [
            "root\n",
            " |-- cpf: string (nullable = true)\n",
            " |-- nome_completo: string (nullable = true)\n",
            " |-- data_nascimento: date (nullable = true)\n",
            " |-- sexo: string (nullable = true)\n",
            " |-- convenio: string (nullable = true)\n",
            " |-- logradouro: string (nullable = true)\n",
            " |-- numero: integer (nullable = true)\n",
            " |-- bairro: string (nullable = true)\n",
            " |-- cidade: string (nullable = true)\n",
            " |-- estado: string (nullable = true)\n",
            " |-- pais: string (nullable = false)\n",
            " |-- timestamp: timestamp (nullable = true)\n",
            " |-- data_cadastro: date (nullable = true)\n",
            "\n"
          ]
        }
      ],
      "source": [
        "df_json_order.printSchema()"
      ]
    },
    {
      "cell_type": "markdown",
      "source": [
        "### Apagando a coluna 'timestamp' em todos os dataframes \n",
        "\n",
        "Realmente não vou precisar dessa coluna, e vou sempre considerar o cadastro mais recente olhando a coluna 'data_cadastro'"
      ],
      "metadata": {
        "id": "Pfcex_Tk0gfr"
      }
    },
    {
      "cell_type": "code",
      "source": [
        "df_csv_res = df_csv_order.drop(\"timestamp\")\n",
        "df_parque_res = df_parque_order.drop(\"timestamp\")\n",
        "df_json_res = df_json_order.drop(\"timestamp\")"
      ],
      "metadata": {
        "id": "kvo6Uhwt0xah"
      },
      "execution_count": 66,
      "outputs": []
    },
    {
      "cell_type": "code",
      "source": [
        "df_csv_res.printSchema()"
      ],
      "metadata": {
        "colab": {
          "base_uri": "https://localhost:8080/"
        },
        "id": "-pKd7zid1e9R",
        "outputId": "c93d36fe-abc6-4513-e387-1c5daebe4e14"
      },
      "execution_count": 67,
      "outputs": [
        {
          "output_type": "stream",
          "name": "stdout",
          "text": [
            "root\n",
            " |-- cpf: string (nullable = true)\n",
            " |-- nome_completo: string (nullable = true)\n",
            " |-- data_nascimento: date (nullable = true)\n",
            " |-- sexo: string (nullable = true)\n",
            " |-- convenio: string (nullable = true)\n",
            " |-- logradouro: string (nullable = true)\n",
            " |-- numero: integer (nullable = true)\n",
            " |-- bairro: string (nullable = true)\n",
            " |-- cidade: string (nullable = true)\n",
            " |-- estado: string (nullable = true)\n",
            " |-- pais: string (nullable = true)\n",
            " |-- data_cadastro: date (nullable = true)\n",
            "\n"
          ]
        }
      ]
    },
    {
      "cell_type": "markdown",
      "source": [
        "### Unindo os três dataframes"
      ],
      "metadata": {
        "id": "KUS9haQ2GyBo"
      }
    },
    {
      "cell_type": "markdown",
      "source": [
        "- Utilizando o UNION para combinar os dataframes: df_csv_res, df_parque_res e df_csv_res\n"
      ],
      "metadata": {
        "id": "m2U7B_9_Xggb"
      }
    },
    {
      "cell_type": "code",
      "source": [
        "df_union2 = df_csv_res.union(df_parque_res).union(df_json_res)"
      ],
      "metadata": {
        "id": "XrR6bKLaXgLF"
      },
      "execution_count": 68,
      "outputs": []
    },
    {
      "cell_type": "code",
      "source": [
        "df_union2.show()"
      ],
      "metadata": {
        "colab": {
          "base_uri": "https://localhost:8080/"
        },
        "id": "9-RwWJuTZE_0",
        "outputId": "cd9f1a08-a5ac-4bdb-dbc1-0af1aea595e6"
      },
      "execution_count": 69,
      "outputs": [
        {
          "output_type": "stream",
          "name": "stdout",
          "text": [
            "+-----------+--------------------+---------------+----+--------+--------------------+------+--------------------+--------------------+------+------+-------------+\n",
            "|        cpf|       nome_completo|data_nascimento|sexo|convenio|          logradouro|numero|              bairro|              cidade|estado|  pais|data_cadastro|\n",
            "+-----------+--------------------+---------------+----+--------+--------------------+------+--------------------+--------------------+------+------+-------------+\n",
            "|03687145271|Maria Cecília Duarte|     1989-11-02|   F|    AMIL|    Jardim Rodrigues|   335|         São Geraldo|           Gonçalves|    CE|Brasil|   1970-07-28|\n",
            "|40791586375| Maria Cecília Alves|     1980-05-10|   F|    AMIL|    Viela de Ribeiro|   651|             Goiania|    Rezende da Praia|    AP|Brasil|   1992-03-12|\n",
            "|52983647056|       Laura Cardoso|     1997-09-02|   F|    AMIL|Pátio Brenda Ribeiro|    64|             Acaiaca|       Campos Grande|    PR|Brasil|   1977-01-03|\n",
            "|81267390530|         Sophia Melo|     2018-04-24|   F|    AMIL|Lagoa Kevin das N...|   846|Conjunto Celso Ma...|           Fernandes|    RO|Brasil|   1981-03-05|\n",
            "|07935684200|    Melissa da Costa|     1988-05-28|   F|    AMIL|    Pátio de Ribeiro|   385|Pousada Santo Ant...|             da Mata|    MG|Brasil|   2011-10-08|\n",
            "|08526941720|Srta. Isabella Al...|     1996-12-22|   F|    AMIL|      Chácara Santos|   928|        Alto Barroca|     Aragão de Porto|    PE|Brasil|   1980-08-16|\n",
            "|08145326915|Dra. Beatriz das ...|     1989-08-23|   F|    AMIL|Feira João Gabrie...|   104|             Ventosa|             Martins|    MS|Brasil|   1987-02-04|\n",
            "|95120348750|       Sabrina Cunha|     1988-08-24|   F|    AMIL|      Chácara Farias|   358|Vila Nossa Senhor...|      Jesus de Minas|    PR|Brasil|   1983-09-07|\n",
            "|36420815762|          Isis Alves|     1994-10-21|   F|    AMIL|       Colônia Alves|   922|      Granja Werneck|Fernandes de Cardoso|    RR|Brasil|   1991-04-30|\n",
            "|36958470184|          Igor Alves|     2019-06-16|   M|    AMIL|Viela Nicolas Aragão|   810|Conjunto Santa Maria|             Freitas|    PB|Brasil|   2005-03-20|\n",
            "|79310584610|     Gustavo Moreira|     1991-12-28|   M|    AMIL|Alameda Fernanda ...|   850|  São Jorge 3ª Seção|              Araújo|    PA|Brasil|   1978-06-09|\n",
            "|76024953143|    João Lucas Souza|     1983-07-08|   M|    AMIL|       Estrada Pinto|   591|        Vista Do Sol|            Nogueira|    SP|Brasil|   1979-09-02|\n",
            "|31607259877|     Mariane Cardoso|     1999-06-24|   F|    AMIL|       Parque Santos|    52|           Vila Rica|              da Paz|    PI|Brasil|   2021-01-18|\n",
            "|82751403662|   Srta. Júlia Pinto|     1997-11-21|   F|    AMIL|       Vereda Campos|   905|     Lagoinha Leblon|            da Cunha|    MT|Brasil|   2003-07-13|\n",
            "|40358761271|  Srta. Lorena Souza|     2019-10-24|   F|    AMIL|  Condomínio Ribeiro|   630|        Vista Alegre|    Rezende da Prata|    AC|Brasil|   2022-09-07|\n",
            "|70952184630|       Igor Carvalho|     2021-08-13|   M|    AMIL|    Viela de Azevedo|   887|              Piraja|     da Rocha do Sul|    PE|Brasil|   1986-11-14|\n",
            "|78239145655| Enzo Gabriel Campos|     2003-05-30|   M|    AMIL| Aeroporto de Farias|   849|             Bacurau|              da Paz|    TO|Brasil|   1996-06-04|\n",
            "|90846571285|        Raul Cardoso|     2019-09-23|   M|    AMIL|  Esplanada de Viana|   923|        Vila Formosa|              Mendes|    MG|Brasil|   1975-11-08|\n",
            "|84576031244|Sra. Clarice Rodr...|     2014-12-31|   F|    AMIL|Residencial de Fe...|   769|              Garças|               Moura|    SP|Brasil|   2013-03-18|\n",
            "|34650981298|     Heitor Caldeira|     1978-09-22|   M|    AMIL| Fazenda de Ferreira|   724|       Vila Ipiranga|    Lopes de da Mota|    MG|Brasil|   1973-10-04|\n",
            "+-----------+--------------------+---------------+----+--------+--------------------+------+--------------------+--------------------+------+------+-------------+\n",
            "only showing top 20 rows\n",
            "\n"
          ]
        }
      ]
    },
    {
      "cell_type": "markdown",
      "source": [
        "- Contando o número de linhas do dataframe df_union2"
      ],
      "metadata": {
        "id": "np2kg_MYIeY6"
      }
    },
    {
      "cell_type": "code",
      "source": [
        "df_union2.count()"
      ],
      "metadata": {
        "colab": {
          "base_uri": "https://localhost:8080/"
        },
        "id": "zs2qvZ2EIMB3",
        "outputId": "726abc06-6f0a-4694-83ea-088577970e53"
      },
      "execution_count": 70,
      "outputs": [
        {
          "output_type": "execute_result",
          "data": {
            "text/plain": [
              "2857698"
            ]
          },
          "metadata": {},
          "execution_count": 70
        }
      ]
    },
    {
      "cell_type": "markdown",
      "source": [
        "Vemos que o df_union2 tem exatamente o mesmo número de linhas dos os três dataframes somados, e como fizemos a união de forma distinta, sabemos que não há registros repetidos. Mas será que há cpfs repetidos?"
      ],
      "metadata": {
        "id": "f13gclNXIpwP"
      }
    },
    {
      "cell_type": "markdown",
      "source": [
        "### Conferindo se há algum cpf duplicado"
      ],
      "metadata": {
        "id": "9RE-DFKwJRpx"
      }
    },
    {
      "cell_type": "code",
      "source": [
        "cpf_dupl = df_union2.groupBy(\"cpf\").count().filter(\"count > 1\")"
      ],
      "metadata": {
        "id": "hV-gpDxTZqRg"
      },
      "execution_count": 71,
      "outputs": []
    },
    {
      "cell_type": "code",
      "source": [
        "cpf_dupl.count()"
      ],
      "metadata": {
        "colab": {
          "base_uri": "https://localhost:8080/"
        },
        "id": "_wqYG1_AZqUs",
        "outputId": "231e0afb-b9cd-47d9-ef09-e4928da6273d"
      },
      "execution_count": 72,
      "outputs": [
        {
          "output_type": "execute_result",
          "data": {
            "text/plain": [
              "434250"
            ]
          },
          "metadata": {},
          "execution_count": 72
        }
      ]
    },
    {
      "cell_type": "markdown",
      "source": [
        "Como o número de cpfs duplicados é 434250, vamos ter que criar uma rotina que escolha sempre manter o cadastro que tiver a menor 'data_cadastro'.\n"
      ],
      "metadata": {
        "id": "vmSgs4Z5cUyf"
      }
    },
    {
      "cell_type": "markdown",
      "source": [
        "#### Criando uma janela de especificação (Window) para particionar por cpf e classificar por data_cadastro em ordem decrescente \n",
        " - ordem decrescente: ordenar da data_cadastro mais nova para a mais antiga"
      ],
      "metadata": {
        "id": "834UFySpNRQy"
      }
    },
    {
      "cell_type": "code",
      "source": [
        "from pyspark.sql.window import Window"
      ],
      "metadata": {
        "id": "M-m8yZYsbopP"
      },
      "execution_count": 73,
      "outputs": []
    },
    {
      "cell_type": "code",
      "source": [
        "janela_espec = Window.partitionBy(\"cpf\").orderBy(desc(\"data_cadastro\"))"
      ],
      "metadata": {
        "id": "RmatSmLAZqX0"
      },
      "execution_count": 74,
      "outputs": []
    },
    {
      "cell_type": "markdown",
      "source": [
        "- Adicionando uma nova coluna ao DataFrame df_union2 com um número de linha exclusivo para cada combinação cpf/data_cadastro"
      ],
      "metadata": {
        "id": "pq9q0tS2NqPj"
      }
    },
    {
      "cell_type": "code",
      "source": [
        "df_union2_rownum = df_union2.withColumn(\"row_number\", row_number().over(janela_espec))"
      ],
      "metadata": {
        "id": "cSGyrt8PZqbC"
      },
      "execution_count": 75,
      "outputs": []
    },
    {
      "cell_type": "code",
      "source": [
        "df_union2_rownum.show()"
      ],
      "metadata": {
        "colab": {
          "base_uri": "https://localhost:8080/"
        },
        "id": "LZ3FdrxxRUes",
        "outputId": "0f91562b-5a7a-4c00-eebc-7da24b7ce407"
      },
      "execution_count": 76,
      "outputs": [
        {
          "output_type": "stream",
          "name": "stdout",
          "text": [
            "+-----------+--------------------+---------------+----+------------+--------------------+------+--------------------+-------------------+------+------+-------------+----------+\n",
            "|        cpf|       nome_completo|data_nascimento|sexo|    convenio|          logradouro|numero|              bairro|             cidade|estado|  pais|data_cadastro|row_number|\n",
            "+-----------+--------------------+---------------+----+------------+--------------------+------+--------------------+-------------------+------+------+-------------+----------+\n",
            "|01234567890| Luiz Felipe Pereira|     1985-04-19|   M|    Bradesco|    Pátio de Martins|   861|            Satelite|              Sales|    RJ|Brasil|   1992-10-04|         1|\n",
            "|01234567970|       Lorena Barros|     2007-11-28|   F|        Itau|  Lagoa Yuri Almeida|   182|              Mirtes|       Silva Alegre|    PB|Brasil|   1979-08-09|         1|\n",
            "|01234569752|Luiz Miguel Rodri...|     2017-06-04|   M|Porto Seguro|Loteamento de Mendes|   373|Conjunto Serra Verde|             Santos|    SP|Brasil|   2014-04-02|         1|\n",
            "|01234578905| Luiz Henrique Gomes|     2020-12-13|   M|        Gold|Setor de da Conce...|   346|         Vila Sumaré|           Ferreira|    PA|Brasil|   2008-04-03|         1|\n",
            "|01234596806|   Srta. Isis da Paz|     1974-10-24|   F|    Bradesco|    Praia de da Mota|   706|     Vila Ouro Minas|              Pires|    PE|Brasil|   1976-02-29|         1|\n",
            "|01234768950|         Juan Novaes|     1973-03-19|   M|      Bronze|Colônia Clarice d...|   711|      Vila São Dimas|              Jesus|    AP|Brasil|   1980-01-27|         1|\n",
            "|01234786931|       Eduarda Viana|     2003-12-20|   F|        Itau|Praia Ana Julia C...|   848|       São Francisco|       Costa Alegre|    RR|Brasil|   2014-12-29|         1|\n",
            "|01234865726|        Ana da Cunha|     2013-07-30|   F|  Sulamerica|  Núcleo Cauã Aragão|   828|Vila Madre Gertru...| Fernandes do Norte|    TO|Brasil|   1996-12-22|         1|\n",
            "|01234876507|         Otávio Melo|     2009-10-31|   M|        Gold|        Parque Alves|   138|    Vila Piratininga|           Monteiro|    RS|Brasil|   2009-01-30|         1|\n",
            "|01234876507|Maria Julia Gonça...|     2015-02-02|   F|         SUS|Colônia Ana Vitór...|   595|    Vila Piratininga|              Nunes|    PA|Brasil|   1981-07-26|         2|\n",
            "|01234879603|   Gustavo das Neves|     1993-02-24|   M|    Bradesco|     Vereda Teixeira|   190|            Paulo Vi|      Vieira Alegre|    PR|Brasil|   2010-05-13|         1|\n",
            "|01234976552|  Dr. Pietro da Rosa|     2014-06-06|   M|  Saude Mais|        Campo Duarte|   814|              Grajaú|Teixeira das Flores|    RR|Brasil|   1986-06-26|         1|\n",
            "|01235489779|     Miguel Teixeira|     2007-04-05|   M|       Prata|           Via Gomes|   988|            Anchieta|            Almeida|    RO|Brasil|   1981-12-25|         1|\n",
            "|01235697886|      Rebeca Freitas|     2014-11-03|   F|    Bradesco|       Chácara Viana|   872|            Mineirão|     Moura de Goiás|    SP|Brasil|   2023-03-08|         1|\n",
            "|01235697886|  João Pedro Correia|     2002-08-02|   M|       Prata|    Viela de da Rosa|   225|          Milionario|     Porto da Serra|    DF|Brasil|   1990-07-03|         2|\n",
            "|01235769461|       Bryan Barbosa|     2008-05-05|   M|Porto Seguro| Quadra de das Neves|   357|           Boa Vista|  Teixeira do Campo|    AM|Brasil|   2002-10-25|         1|\n",
            "|01235784690|      Kaique da Rosa|     2005-11-28|   M|        AMIL|Parque João Felip...|   520|            Planalto|    Castro do Norte|    AL|Brasil|   1976-08-20|         1|\n",
            "|01235786986|      Leandro Mendes|     1993-10-21|   M|    Bradesco|Viaduto Emanuel C...|   977|    Parque São Pedro|           da Cunha|    PR|Brasil|   2003-09-03|         1|\n",
            "|01235794814|     Emanuella Sales|     1971-07-02|   F|       Prata|       Viaduto Nunes|   885|      Monte São José|             Vieira|    AM|Brasil|   2015-11-13|         1|\n",
            "|01235798640|Ana Carolina da R...|     1994-12-04|   F|        Gold|       Chácara Silva|   613|               Canaa|  Azevedo do Amparo|    MA|Brasil|   1992-06-28|         1|\n",
            "+-----------+--------------------+---------------+----+------------+--------------------+------+--------------------+-------------------+------+------+-------------+----------+\n",
            "only showing top 20 rows\n",
            "\n"
          ]
        }
      ]
    },
    {
      "cell_type": "markdown",
      "source": [
        "- Filtrando o DataFrame df_union2_rownum para reter apenas as linhas com a data_cadastro mais recente para cada cpf"
      ],
      "metadata": {
        "id": "Ej_gQs_NNxD2"
      }
    },
    {
      "cell_type": "code",
      "source": [
        "df_union2_fil = df_union2_rownum.filter(df_union2_rownum.row_number == 1).drop(\"row_number\")"
      ],
      "metadata": {
        "id": "R1NfDyB7Zqep"
      },
      "execution_count": 78,
      "outputs": []
    },
    {
      "cell_type": "markdown",
      "source": [
        "- Número de linhas do dataframe final df_union2_fil somente com cpf distintos"
      ],
      "metadata": {
        "id": "ETiqVVwGJS_O"
      }
    },
    {
      "cell_type": "code",
      "source": [
        "df_union2_fil.count()"
      ],
      "metadata": {
        "colab": {
          "base_uri": "https://localhost:8080/"
        },
        "id": "rCUM1ZMCi1xI",
        "outputId": "cd964de3-efc6-4b90-c24c-da91bcc0f9f2"
      },
      "execution_count": 79,
      "outputs": [
        {
          "output_type": "execute_result",
          "data": {
            "text/plain": [
              "2423437"
            ]
          },
          "metadata": {},
          "execution_count": 79
        }
      ]
    },
    {
      "cell_type": "markdown",
      "source": [
        "### Procurando valores missings\n",
        "\n",
        "- Contando o número de valores ausentes em cada coluna do DataFrame df_union2_fil, usando o método agg() junto com o método sum()"
      ],
      "metadata": {
        "id": "uSJ2V4mUSTYR"
      }
    },
    {
      "cell_type": "code",
      "source": [
        "df_union2_fil.agg(*[sum(df_union2_fil[col].isNull().cast(\"int\")).alias(col) for col in df_union2_fil.columns]).show()"
      ],
      "metadata": {
        "colab": {
          "base_uri": "https://localhost:8080/"
        },
        "id": "K-T3kQGU1z-Q",
        "outputId": "0133f12e-41db-4592-a373-ec4a3f29dc40"
      },
      "execution_count": 80,
      "outputs": [
        {
          "output_type": "stream",
          "name": "stdout",
          "text": [
            "+---+-------------+---------------+----+--------+----------+------+------+------+------+----+-------------+\n",
            "|cpf|nome_completo|data_nascimento|sexo|convenio|logradouro|numero|bairro|cidade|estado|pais|data_cadastro|\n",
            "+---+-------------+---------------+----+--------+----------+------+------+------+------+----+-------------+\n",
            "|  0|            0|              0|   0|       0|         0|     0|     0|     0|     0|   0|            0|\n",
            "+---+-------------+---------------+----+--------+----------+------+------+------+------+----+-------------+\n",
            "\n"
          ]
        }
      ]
    },
    {
      "cell_type": "markdown",
      "source": [
        "Como pode ser visto, não há nehum valor missing, portanto, o dataframe final com todas os três diferentes está pronto. E agora vamos salvá-lo como um arquivo único.\n",
        "Dataframe final: df_union2_fil"
      ],
      "metadata": {
        "id": "iGjnK-LtTJMB"
      }
    },
    {
      "cell_type": "markdown",
      "source": [
        "###Visualizando o dataframe final df_union_fil"
      ],
      "metadata": {
        "id": "SrtbPnaVJqFY"
      }
    },
    {
      "cell_type": "code",
      "source": [
        "df_union2_fil.show()"
      ],
      "metadata": {
        "colab": {
          "base_uri": "https://localhost:8080/"
        },
        "id": "5_v58o8Xi1tc",
        "outputId": "5d97e9dd-7560-4747-e0ef-674abdae07ed"
      },
      "execution_count": 81,
      "outputs": [
        {
          "output_type": "stream",
          "name": "stdout",
          "text": [
            "+-----------+--------------------+---------------+----+------------+--------------------+------+--------------------+-------------------+------+------+-------------+\n",
            "|        cpf|       nome_completo|data_nascimento|sexo|    convenio|          logradouro|numero|              bairro|             cidade|estado|  pais|data_cadastro|\n",
            "+-----------+--------------------+---------------+----+------------+--------------------+------+--------------------+-------------------+------+------+-------------+\n",
            "|01234567890| Luiz Felipe Pereira|     1985-04-19|   M|    Bradesco|    Pátio de Martins|   861|            Satelite|              Sales|    RJ|Brasil|   1992-10-04|\n",
            "|01234567970|       Lorena Barros|     2007-11-28|   F|        Itau|  Lagoa Yuri Almeida|   182|              Mirtes|       Silva Alegre|    PB|Brasil|   1979-08-09|\n",
            "|01234569752|Luiz Miguel Rodri...|     2017-06-04|   M|Porto Seguro|Loteamento de Mendes|   373|Conjunto Serra Verde|             Santos|    SP|Brasil|   2014-04-02|\n",
            "|01234578905| Luiz Henrique Gomes|     2020-12-13|   M|        Gold|Setor de da Conce...|   346|         Vila Sumaré|           Ferreira|    PA|Brasil|   2008-04-03|\n",
            "|01234596806|   Srta. Isis da Paz|     1974-10-24|   F|    Bradesco|    Praia de da Mota|   706|     Vila Ouro Minas|              Pires|    PE|Brasil|   1976-02-29|\n",
            "|01234768950|         Juan Novaes|     1973-03-19|   M|      Bronze|Colônia Clarice d...|   711|      Vila São Dimas|              Jesus|    AP|Brasil|   1980-01-27|\n",
            "|01234786931|       Eduarda Viana|     2003-12-20|   F|        Itau|Praia Ana Julia C...|   848|       São Francisco|       Costa Alegre|    RR|Brasil|   2014-12-29|\n",
            "|01234865726|        Ana da Cunha|     2013-07-30|   F|  Sulamerica|  Núcleo Cauã Aragão|   828|Vila Madre Gertru...| Fernandes do Norte|    TO|Brasil|   1996-12-22|\n",
            "|01234876507|         Otávio Melo|     2009-10-31|   M|        Gold|        Parque Alves|   138|    Vila Piratininga|           Monteiro|    RS|Brasil|   2009-01-30|\n",
            "|01234879603|   Gustavo das Neves|     1993-02-24|   M|    Bradesco|     Vereda Teixeira|   190|            Paulo Vi|      Vieira Alegre|    PR|Brasil|   2010-05-13|\n",
            "|01234976552|  Dr. Pietro da Rosa|     2014-06-06|   M|  Saude Mais|        Campo Duarte|   814|              Grajaú|Teixeira das Flores|    RR|Brasil|   1986-06-26|\n",
            "|01235489779|     Miguel Teixeira|     2007-04-05|   M|       Prata|           Via Gomes|   988|            Anchieta|            Almeida|    RO|Brasil|   1981-12-25|\n",
            "|01235697886|      Rebeca Freitas|     2014-11-03|   F|    Bradesco|       Chácara Viana|   872|            Mineirão|     Moura de Goiás|    SP|Brasil|   2023-03-08|\n",
            "|01235769461|       Bryan Barbosa|     2008-05-05|   M|Porto Seguro| Quadra de das Neves|   357|           Boa Vista|  Teixeira do Campo|    AM|Brasil|   2002-10-25|\n",
            "|01235784690|      Kaique da Rosa|     2005-11-28|   M|        AMIL|Parque João Felip...|   520|            Planalto|    Castro do Norte|    AL|Brasil|   1976-08-20|\n",
            "|01235786986|      Leandro Mendes|     1993-10-21|   M|    Bradesco|Viaduto Emanuel C...|   977|    Parque São Pedro|           da Cunha|    PR|Brasil|   2003-09-03|\n",
            "|01235794814|     Emanuella Sales|     1971-07-02|   F|       Prata|       Viaduto Nunes|   885|      Monte São José|             Vieira|    AM|Brasil|   2015-11-13|\n",
            "|01235798640|Ana Carolina da R...|     1994-12-04|   F|        Gold|       Chácara Silva|   613|               Canaa|  Azevedo do Amparo|    MA|Brasil|   1992-06-28|\n",
            "|01235876462|   Sra. Sarah Moraes|     2017-12-10|   F|    Bradesco|   Viaduto Fernandes|   604| Novo Das Industrias|          das Neves|    SC|Brasil|   2009-04-11|\n",
            "|01235894797|     Marcela Freitas|     1972-10-19|   F|    Bradesco|        Morro Castro|   810|         Minas Caixa|    da Luz de Nunes|    GO|Brasil|   1985-03-25|\n",
            "+-----------+--------------------+---------------+----+------------+--------------------+------+--------------------+-------------------+------+------+-------------+\n",
            "only showing top 20 rows\n",
            "\n"
          ]
        }
      ]
    },
    {
      "cell_type": "code",
      "source": [
        "df_union2_fil.printSchema()"
      ],
      "metadata": {
        "colab": {
          "base_uri": "https://localhost:8080/"
        },
        "id": "XWV5Ie9KqJBA",
        "outputId": "ef730720-deaa-4269-e88e-ae1f3aeb028a"
      },
      "execution_count": 82,
      "outputs": [
        {
          "output_type": "stream",
          "name": "stdout",
          "text": [
            "root\n",
            " |-- cpf: string (nullable = true)\n",
            " |-- nome_completo: string (nullable = true)\n",
            " |-- data_nascimento: string (nullable = true)\n",
            " |-- sexo: string (nullable = true)\n",
            " |-- convenio: string (nullable = true)\n",
            " |-- logradouro: string (nullable = true)\n",
            " |-- numero: integer (nullable = true)\n",
            " |-- bairro: string (nullable = true)\n",
            " |-- cidade: string (nullable = true)\n",
            " |-- estado: string (nullable = true)\n",
            " |-- pais: string (nullable = true)\n",
            " |-- data_cadastro: date (nullable = true)\n",
            "\n"
          ]
        }
      ]
    },
    {
      "cell_type": "markdown",
      "source": [
        "###Conclusão"
      ],
      "metadata": {
        "id": "bUJ0D4tBLkkE"
      }
    },
    {
      "cell_type": "markdown",
      "source": [
        "Conseguimos criar com consistência o dataframe final, df_union2_fil em Pyspark, que contém todos os cadastro íntegros e tratados, após aplicadas várias transformações nos dados dos 3 arquivos iniciais.\n"
      ],
      "metadata": {
        "id": "oYeKjUMYLpc8"
      }
    }
  ],
  "metadata": {
    "colab": {
      "provenance": [],
      "authorship_tag": "ABX9TyOfCyiJmea4Uvfh0k5EtF+z",
      "include_colab_link": true
    },
    "kernelspec": {
      "display_name": "Python 3",
      "name": "python3"
    },
    "language_info": {
      "name": "python"
    }
  },
  "nbformat": 4,
  "nbformat_minor": 0
}